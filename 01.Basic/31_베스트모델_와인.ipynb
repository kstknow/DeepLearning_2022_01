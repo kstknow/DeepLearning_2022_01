{
  "nbformat": 4,
  "nbformat_minor": 0,
  "metadata": {
    "colab": {
      "name": "31.베스트모델- 와인.ipynb",
      "provenance": []
    },
    "kernelspec": {
      "name": "python3",
      "display_name": "Python 3"
    },
    "language_info": {
      "name": "python"
    }
  },
  "cells": [
    {
      "cell_type": "code",
      "execution_count": 1,
      "metadata": {
        "id": "DpKPywqKcti2"
      },
      "outputs": [],
      "source": [
        "import numpy as np\n",
        "import tensorflow as tf\n",
        "seed = 2022\n",
        "np.random.seed(seed)\n",
        "tf.random.set_seed(seed)\n",
        "import pandas as pd"
      ]
    },
    {
      "cell_type": "code",
      "source": [
        "from google.colab import files\n",
        "up = files.upload()\n",
        "filename = list(up.keys())[0]"
      ],
      "metadata": {
        "colab": {
          "resources": {
            "http://localhost:8080/nbextensions/google.colab/files.js": {
              "data": "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",
              "ok": true,
              "headers": [
                [
                  "content-type",
                  "application/javascript"
                ]
              ],
              "status": 200,
              "status_text": ""
            }
          },
          "base_uri": "https://localhost:8080/",
          "height": 77
        },
        "id": "qRxOyBStdLtb",
        "outputId": "1963c843-6aab-49e2-b77e-7e961abad5c6"
      },
      "execution_count": 3,
      "outputs": [
        {
          "output_type": "display_data",
          "data": {
            "text/html": [
              "\n",
              "     <input type=\"file\" id=\"files-41615fe2-15c2-48c8-a338-38e4c555439f\" name=\"files[]\" multiple disabled\n",
              "        style=\"border:none\" />\n",
              "     <output id=\"result-41615fe2-15c2-48c8-a338-38e4c555439f\">\n",
              "      Upload widget is only available when the cell has been executed in the\n",
              "      current browser session. Please rerun this cell to enable.\n",
              "      </output>\n",
              "      <script src=\"/nbextensions/google.colab/files.js\"></script> "
            ],
            "text/plain": [
              "<IPython.core.display.HTML object>"
            ]
          },
          "metadata": {}
        },
        {
          "output_type": "stream",
          "name": "stdout",
          "text": [
            "Saving wine.csv to wine.csv\n"
          ]
        }
      ]
    },
    {
      "cell_type": "code",
      "source": [
        "import pandas as pd\n",
        "df = pd.read_csv(filename, header=None)\n",
        "df.head()"
      ],
      "metadata": {
        "colab": {
          "base_uri": "https://localhost:8080/",
          "height": 206
        },
        "id": "VV5y3g88dNEB",
        "outputId": "8568de0d-6d8f-4478-e58a-6f613828a4eb"
      },
      "execution_count": 4,
      "outputs": [
        {
          "output_type": "execute_result",
          "data": {
            "text/html": [
              "\n",
              "  <div id=\"df-1f372864-96bf-4fa1-bee7-fc35c84c3146\">\n",
              "    <div class=\"colab-df-container\">\n",
              "      <div>\n",
              "<style scoped>\n",
              "    .dataframe tbody tr th:only-of-type {\n",
              "        vertical-align: middle;\n",
              "    }\n",
              "\n",
              "    .dataframe tbody tr th {\n",
              "        vertical-align: top;\n",
              "    }\n",
              "\n",
              "    .dataframe thead th {\n",
              "        text-align: right;\n",
              "    }\n",
              "</style>\n",
              "<table border=\"1\" class=\"dataframe\">\n",
              "  <thead>\n",
              "    <tr style=\"text-align: right;\">\n",
              "      <th></th>\n",
              "      <th>0</th>\n",
              "      <th>1</th>\n",
              "      <th>2</th>\n",
              "      <th>3</th>\n",
              "      <th>4</th>\n",
              "      <th>5</th>\n",
              "      <th>6</th>\n",
              "      <th>7</th>\n",
              "      <th>8</th>\n",
              "      <th>9</th>\n",
              "      <th>10</th>\n",
              "      <th>11</th>\n",
              "      <th>12</th>\n",
              "    </tr>\n",
              "  </thead>\n",
              "  <tbody>\n",
              "    <tr>\n",
              "      <th>0</th>\n",
              "      <td>7.4</td>\n",
              "      <td>0.70</td>\n",
              "      <td>0.00</td>\n",
              "      <td>1.9</td>\n",
              "      <td>0.076</td>\n",
              "      <td>11.0</td>\n",
              "      <td>34.0</td>\n",
              "      <td>0.9978</td>\n",
              "      <td>3.51</td>\n",
              "      <td>0.56</td>\n",
              "      <td>9.4</td>\n",
              "      <td>5</td>\n",
              "      <td>1</td>\n",
              "    </tr>\n",
              "    <tr>\n",
              "      <th>1</th>\n",
              "      <td>7.8</td>\n",
              "      <td>0.88</td>\n",
              "      <td>0.00</td>\n",
              "      <td>2.6</td>\n",
              "      <td>0.098</td>\n",
              "      <td>25.0</td>\n",
              "      <td>67.0</td>\n",
              "      <td>0.9968</td>\n",
              "      <td>3.20</td>\n",
              "      <td>0.68</td>\n",
              "      <td>9.8</td>\n",
              "      <td>5</td>\n",
              "      <td>1</td>\n",
              "    </tr>\n",
              "    <tr>\n",
              "      <th>2</th>\n",
              "      <td>7.8</td>\n",
              "      <td>0.76</td>\n",
              "      <td>0.04</td>\n",
              "      <td>2.3</td>\n",
              "      <td>0.092</td>\n",
              "      <td>15.0</td>\n",
              "      <td>54.0</td>\n",
              "      <td>0.9970</td>\n",
              "      <td>3.26</td>\n",
              "      <td>0.65</td>\n",
              "      <td>9.8</td>\n",
              "      <td>5</td>\n",
              "      <td>1</td>\n",
              "    </tr>\n",
              "    <tr>\n",
              "      <th>3</th>\n",
              "      <td>11.2</td>\n",
              "      <td>0.28</td>\n",
              "      <td>0.56</td>\n",
              "      <td>1.9</td>\n",
              "      <td>0.075</td>\n",
              "      <td>17.0</td>\n",
              "      <td>60.0</td>\n",
              "      <td>0.9980</td>\n",
              "      <td>3.16</td>\n",
              "      <td>0.58</td>\n",
              "      <td>9.8</td>\n",
              "      <td>6</td>\n",
              "      <td>1</td>\n",
              "    </tr>\n",
              "    <tr>\n",
              "      <th>4</th>\n",
              "      <td>7.4</td>\n",
              "      <td>0.70</td>\n",
              "      <td>0.00</td>\n",
              "      <td>1.9</td>\n",
              "      <td>0.076</td>\n",
              "      <td>11.0</td>\n",
              "      <td>34.0</td>\n",
              "      <td>0.9978</td>\n",
              "      <td>3.51</td>\n",
              "      <td>0.56</td>\n",
              "      <td>9.4</td>\n",
              "      <td>5</td>\n",
              "      <td>1</td>\n",
              "    </tr>\n",
              "  </tbody>\n",
              "</table>\n",
              "</div>\n",
              "      <button class=\"colab-df-convert\" onclick=\"convertToInteractive('df-1f372864-96bf-4fa1-bee7-fc35c84c3146')\"\n",
              "              title=\"Convert this dataframe to an interactive table.\"\n",
              "              style=\"display:none;\">\n",
              "        \n",
              "  <svg xmlns=\"http://www.w3.org/2000/svg\" height=\"24px\"viewBox=\"0 0 24 24\"\n",
              "       width=\"24px\">\n",
              "    <path d=\"M0 0h24v24H0V0z\" fill=\"none\"/>\n",
              "    <path d=\"M18.56 5.44l.94 2.06.94-2.06 2.06-.94-2.06-.94-.94-2.06-.94 2.06-2.06.94zm-11 1L8.5 8.5l.94-2.06 2.06-.94-2.06-.94L8.5 2.5l-.94 2.06-2.06.94zm10 10l.94 2.06.94-2.06 2.06-.94-2.06-.94-.94-2.06-.94 2.06-2.06.94z\"/><path d=\"M17.41 7.96l-1.37-1.37c-.4-.4-.92-.59-1.43-.59-.52 0-1.04.2-1.43.59L10.3 9.45l-7.72 7.72c-.78.78-.78 2.05 0 2.83L4 21.41c.39.39.9.59 1.41.59.51 0 1.02-.2 1.41-.59l7.78-7.78 2.81-2.81c.8-.78.8-2.07 0-2.86zM5.41 20L4 18.59l7.72-7.72 1.47 1.35L5.41 20z\"/>\n",
              "  </svg>\n",
              "      </button>\n",
              "      \n",
              "  <style>\n",
              "    .colab-df-container {\n",
              "      display:flex;\n",
              "      flex-wrap:wrap;\n",
              "      gap: 12px;\n",
              "    }\n",
              "\n",
              "    .colab-df-convert {\n",
              "      background-color: #E8F0FE;\n",
              "      border: none;\n",
              "      border-radius: 50%;\n",
              "      cursor: pointer;\n",
              "      display: none;\n",
              "      fill: #1967D2;\n",
              "      height: 32px;\n",
              "      padding: 0 0 0 0;\n",
              "      width: 32px;\n",
              "    }\n",
              "\n",
              "    .colab-df-convert:hover {\n",
              "      background-color: #E2EBFA;\n",
              "      box-shadow: 0px 1px 2px rgba(60, 64, 67, 0.3), 0px 1px 3px 1px rgba(60, 64, 67, 0.15);\n",
              "      fill: #174EA6;\n",
              "    }\n",
              "\n",
              "    [theme=dark] .colab-df-convert {\n",
              "      background-color: #3B4455;\n",
              "      fill: #D2E3FC;\n",
              "    }\n",
              "\n",
              "    [theme=dark] .colab-df-convert:hover {\n",
              "      background-color: #434B5C;\n",
              "      box-shadow: 0px 1px 3px 1px rgba(0, 0, 0, 0.15);\n",
              "      filter: drop-shadow(0px 1px 2px rgba(0, 0, 0, 0.3));\n",
              "      fill: #FFFFFF;\n",
              "    }\n",
              "  </style>\n",
              "\n",
              "      <script>\n",
              "        const buttonEl =\n",
              "          document.querySelector('#df-1f372864-96bf-4fa1-bee7-fc35c84c3146 button.colab-df-convert');\n",
              "        buttonEl.style.display =\n",
              "          google.colab.kernel.accessAllowed ? 'block' : 'none';\n",
              "\n",
              "        async function convertToInteractive(key) {\n",
              "          const element = document.querySelector('#df-1f372864-96bf-4fa1-bee7-fc35c84c3146');\n",
              "          const dataTable =\n",
              "            await google.colab.kernel.invokeFunction('convertToInteractive',\n",
              "                                                     [key], {});\n",
              "          if (!dataTable) return;\n",
              "\n",
              "          const docLinkHtml = 'Like what you see? Visit the ' +\n",
              "            '<a target=\"_blank\" href=https://colab.research.google.com/notebooks/data_table.ipynb>data table notebook</a>'\n",
              "            + ' to learn more about interactive tables.';\n",
              "          element.innerHTML = '';\n",
              "          dataTable['output_type'] = 'display_data';\n",
              "          await google.colab.output.renderOutput(dataTable, element);\n",
              "          const docLink = document.createElement('div');\n",
              "          docLink.innerHTML = docLinkHtml;\n",
              "          element.appendChild(docLink);\n",
              "        }\n",
              "      </script>\n",
              "    </div>\n",
              "  </div>\n",
              "  "
            ],
            "text/plain": [
              "     0     1     2    3      4     5     6       7     8     9    10  11  12\n",
              "0   7.4  0.70  0.00  1.9  0.076  11.0  34.0  0.9978  3.51  0.56  9.4   5   1\n",
              "1   7.8  0.88  0.00  2.6  0.098  25.0  67.0  0.9968  3.20  0.68  9.8   5   1\n",
              "2   7.8  0.76  0.04  2.3  0.092  15.0  54.0  0.9970  3.26  0.65  9.8   5   1\n",
              "3  11.2  0.28  0.56  1.9  0.075  17.0  60.0  0.9980  3.16  0.58  9.8   6   1\n",
              "4   7.4  0.70  0.00  1.9  0.076  11.0  34.0  0.9978  3.51  0.56  9.4   5   1"
            ]
          },
          "metadata": {},
          "execution_count": 4
        }
      ]
    },
    {
      "cell_type": "code",
      "source": [
        "np.unique(df.values[:,-1], return_counts= True)"
      ],
      "metadata": {
        "colab": {
          "base_uri": "https://localhost:8080/"
        },
        "id": "pnXpAbxJdinK",
        "outputId": "be68d264-9742-4c10-f03a-74c6e93a465f"
      },
      "execution_count": 5,
      "outputs": [
        {
          "output_type": "execute_result",
          "data": {
            "text/plain": [
              "(array([0., 1.]), array([4898, 1599]))"
            ]
          },
          "metadata": {},
          "execution_count": 5
        }
      ]
    },
    {
      "cell_type": "code",
      "source": [
        "from sklearn.preprocessing import StandardScaler\n",
        "X_scaled = StandardScaler().fit_transform(df.values[:,:-1])"
      ],
      "metadata": {
        "id": "NJIvGVE1d0eA"
      },
      "execution_count": 6,
      "outputs": []
    },
    {
      "cell_type": "code",
      "source": [
        "X_scaled[:3]"
      ],
      "metadata": {
        "colab": {
          "base_uri": "https://localhost:8080/"
        },
        "id": "9WIVXiAmhVST",
        "outputId": "484c6f10-2fbf-4700-83b8-8e42688b55a1"
      },
      "execution_count": 7,
      "outputs": [
        {
          "output_type": "execute_result",
          "data": {
            "text/plain": [
              "array([[ 0.14247327,  2.18883292, -2.19283252, -0.7447781 ,  0.56995782,\n",
              "        -1.10013986, -1.44635852,  1.03499282,  1.81308951,  0.19309677,\n",
              "        -0.91546416, -0.93722961],\n",
              "       [ 0.45103572,  3.28223494, -2.19283252, -0.59764007,  1.1979747 ,\n",
              "        -0.31132009, -0.86246863,  0.70148631, -0.11507303,  0.99957862,\n",
              "        -0.58006813, -0.93722961],\n",
              "       [ 0.45103572,  2.55330026, -1.91755268, -0.66069923,  1.02669737,\n",
              "        -0.87476278, -1.09248586,  0.76818761,  0.25811972,  0.79795816,\n",
              "        -0.58006813, -0.93722961]])"
            ]
          },
          "metadata": {},
          "execution_count": 7
        }
      ]
    },
    {
      "cell_type": "code",
      "source": [
        "from sklearn.model_selection import train_test_split\n",
        "X_train, X_test, y_train, y_test = train_test_split(\n",
        "    X_scaled, df.values[:,-1], stratify = df.values[:,-1], random_state = seed\n",
        ")"
      ],
      "metadata": {
        "id": "OGlcPcIVhZ7t"
      },
      "execution_count": 8,
      "outputs": []
    },
    {
      "cell_type": "code",
      "source": [
        "X_train.shape, X_test.shape, y_train.shape, y_test.shape"
      ],
      "metadata": {
        "colab": {
          "base_uri": "https://localhost:8080/"
        },
        "id": "ZnvZ3ngIh_Db",
        "outputId": "aba03df7-2c72-486a-ad83-6e91b6b76af6"
      },
      "execution_count": 9,
      "outputs": [
        {
          "output_type": "execute_result",
          "data": {
            "text/plain": [
              "((4872, 12), (1625, 12), (4872,), (1625,))"
            ]
          },
          "metadata": {},
          "execution_count": 9
        }
      ]
    },
    {
      "cell_type": "markdown",
      "source": [
        "- 모델 정의/설정/학습/평가"
      ],
      "metadata": {
        "id": "faDCwjxdh_hl"
      }
    },
    {
      "cell_type": "code",
      "source": [
        "from tensorflow.keras.models import Sequential\n",
        "from tensorflow.keras.layers import Dense"
      ],
      "metadata": {
        "id": "EvxVvFPuiOPG"
      },
      "execution_count": 10,
      "outputs": []
    },
    {
      "cell_type": "code",
      "source": [
        "model = Sequential([\n",
        "    Dense(30, input_dim=12, activation= 'relu'),  # Hiddem Layer\n",
        "    Dense(12, activation= 'relu'), \n",
        "    Dense(8, activation= 'relu'),               # Output Layer\n",
        "    Dense(1, activation= 'sigmoid')\n",
        "])\n",
        "model.summary()"
      ],
      "metadata": {
        "colab": {
          "base_uri": "https://localhost:8080/"
        },
        "id": "f_lynm8viX9F",
        "outputId": "38a986c5-f4ff-475e-ca8b-2ea1640b8a49"
      },
      "execution_count": 11,
      "outputs": [
        {
          "output_type": "stream",
          "name": "stdout",
          "text": [
            "Model: \"sequential\"\n",
            "_________________________________________________________________\n",
            " Layer (type)                Output Shape              Param #   \n",
            "=================================================================\n",
            " dense (Dense)               (None, 30)                390       \n",
            "                                                                 \n",
            " dense_1 (Dense)             (None, 12)                372       \n",
            "                                                                 \n",
            " dense_2 (Dense)             (None, 8)                 104       \n",
            "                                                                 \n",
            " dense_3 (Dense)             (None, 1)                 9         \n",
            "                                                                 \n",
            "=================================================================\n",
            "Total params: 875\n",
            "Trainable params: 875\n",
            "Non-trainable params: 0\n",
            "_________________________________________________________________\n"
          ]
        }
      ]
    },
    {
      "cell_type": "markdown",
      "source": [
        "- 모델 저장관련 설정"
      ],
      "metadata": {
        "id": "q-gYbtWPiyH_"
      }
    },
    {
      "cell_type": "code",
      "source": [
        "import os\n",
        "if not os.path.exists('model'): # 모델이란 폴더가 없으면 모델 만들어!\n",
        "    os.mkdir('model')"
      ],
      "metadata": {
        "id": "zMnIX4zDjGJu"
      },
      "execution_count": 13,
      "outputs": []
    },
    {
      "cell_type": "code",
      "source": [
        "# model_path = 'model/best_wine.h5'값으로 주는것이 편하다.\n",
        "\n",
        "model_path = 'model/wine_{epoch:03d}_{val_loss:.4f}.h5'\n"
      ],
      "metadata": {
        "id": "DMTP4qrPjOoL"
      },
      "execution_count": 14,
      "outputs": []
    },
    {
      "cell_type": "code",
      "source": [
        "from tensorflow.keras.callbacks import ModelCheckpoint"
      ],
      "metadata": {
        "id": "whgpy6xBj3Yx"
      },
      "execution_count": 15,
      "outputs": []
    },
    {
      "cell_type": "code",
      "source": [
        "checkpoint = ModelCheckpoint(\n",
        "    model_path, monitor= 'val_loss', verbose = 1, save_best_only = True\n",
        ")"
      ],
      "metadata": {
        "id": "F0cAu-poj8b7"
      },
      "execution_count": 16,
      "outputs": []
    },
    {
      "cell_type": "markdown",
      "source": [
        "- 모델 학습 및 저장\n"
      ],
      "metadata": {
        "id": "Y-g6FdvhkEQX"
      }
    },
    {
      "cell_type": "code",
      "source": [
        "model.compile(\n",
        "    optimizer= 'adam',\n",
        "    loss = 'binary_crossentropy',         # 이진분류여서'binary_crossentropy'\n",
        "    metrics=['accuracy']                       \n",
        "\n",
        ")"
      ],
      "metadata": {
        "id": "N5P6psAcko4L"
      },
      "execution_count": 20,
      "outputs": []
    },
    {
      "cell_type": "code",
      "source": [
        "hist = model.fit(\n",
        "    X_train,  y_train, validation_split = 0.2, epochs =200, batch_size = 50, verbose =0, callbacks=[checkpoint]\n",
        ")"
      ],
      "metadata": {
        "colab": {
          "base_uri": "https://localhost:8080/"
        },
        "id": "a6V1kXrnkXAE",
        "outputId": "791fda22-35f7-4a36-a260-961adb5f78d8"
      },
      "execution_count": 21,
      "outputs": [
        {
          "output_type": "stream",
          "name": "stdout",
          "text": [
            "\n",
            "Epoch 00001: val_loss improved from inf to 0.07850, saving model to model/wine_001_0.0785.h5\n",
            "\n",
            "Epoch 00002: val_loss improved from 0.07850 to 0.04025, saving model to model/wine_002_0.0402.h5\n",
            "\n",
            "Epoch 00003: val_loss improved from 0.04025 to 0.03001, saving model to model/wine_003_0.0300.h5\n",
            "\n",
            "Epoch 00004: val_loss improved from 0.03001 to 0.02709, saving model to model/wine_004_0.0271.h5\n",
            "\n",
            "Epoch 00005: val_loss improved from 0.02709 to 0.02353, saving model to model/wine_005_0.0235.h5\n",
            "\n",
            "Epoch 00006: val_loss improved from 0.02353 to 0.02248, saving model to model/wine_006_0.0225.h5\n",
            "\n",
            "Epoch 00007: val_loss improved from 0.02248 to 0.02071, saving model to model/wine_007_0.0207.h5\n",
            "\n",
            "Epoch 00008: val_loss did not improve from 0.02071\n",
            "\n",
            "Epoch 00009: val_loss improved from 0.02071 to 0.01994, saving model to model/wine_009_0.0199.h5\n",
            "\n",
            "Epoch 00010: val_loss improved from 0.01994 to 0.01938, saving model to model/wine_010_0.0194.h5\n",
            "\n",
            "Epoch 00011: val_loss did not improve from 0.01938\n",
            "\n",
            "Epoch 00012: val_loss improved from 0.01938 to 0.01877, saving model to model/wine_012_0.0188.h5\n",
            "\n",
            "Epoch 00013: val_loss improved from 0.01877 to 0.01850, saving model to model/wine_013_0.0185.h5\n",
            "\n",
            "Epoch 00014: val_loss improved from 0.01850 to 0.01737, saving model to model/wine_014_0.0174.h5\n",
            "\n",
            "Epoch 00015: val_loss improved from 0.01737 to 0.01611, saving model to model/wine_015_0.0161.h5\n",
            "\n",
            "Epoch 00016: val_loss did not improve from 0.01611\n",
            "\n",
            "Epoch 00017: val_loss improved from 0.01611 to 0.01594, saving model to model/wine_017_0.0159.h5\n",
            "\n",
            "Epoch 00018: val_loss did not improve from 0.01594\n",
            "\n",
            "Epoch 00019: val_loss improved from 0.01594 to 0.01562, saving model to model/wine_019_0.0156.h5\n",
            "\n",
            "Epoch 00020: val_loss did not improve from 0.01562\n",
            "\n",
            "Epoch 00021: val_loss improved from 0.01562 to 0.01543, saving model to model/wine_021_0.0154.h5\n",
            "\n",
            "Epoch 00022: val_loss improved from 0.01543 to 0.01489, saving model to model/wine_022_0.0149.h5\n",
            "\n",
            "Epoch 00023: val_loss improved from 0.01489 to 0.01448, saving model to model/wine_023_0.0145.h5\n",
            "\n",
            "Epoch 00024: val_loss did not improve from 0.01448\n",
            "\n",
            "Epoch 00025: val_loss did not improve from 0.01448\n",
            "\n",
            "Epoch 00026: val_loss did not improve from 0.01448\n",
            "\n",
            "Epoch 00027: val_loss improved from 0.01448 to 0.01351, saving model to model/wine_027_0.0135.h5\n",
            "\n",
            "Epoch 00028: val_loss improved from 0.01351 to 0.01347, saving model to model/wine_028_0.0135.h5\n",
            "\n",
            "Epoch 00029: val_loss did not improve from 0.01347\n",
            "\n",
            "Epoch 00030: val_loss did not improve from 0.01347\n",
            "\n",
            "Epoch 00031: val_loss did not improve from 0.01347\n",
            "\n",
            "Epoch 00032: val_loss did not improve from 0.01347\n",
            "\n",
            "Epoch 00033: val_loss did not improve from 0.01347\n",
            "\n",
            "Epoch 00034: val_loss did not improve from 0.01347\n",
            "\n",
            "Epoch 00035: val_loss did not improve from 0.01347\n",
            "\n",
            "Epoch 00036: val_loss did not improve from 0.01347\n",
            "\n",
            "Epoch 00037: val_loss improved from 0.01347 to 0.01285, saving model to model/wine_037_0.0128.h5\n",
            "\n",
            "Epoch 00038: val_loss did not improve from 0.01285\n",
            "\n",
            "Epoch 00039: val_loss improved from 0.01285 to 0.01242, saving model to model/wine_039_0.0124.h5\n",
            "\n",
            "Epoch 00040: val_loss did not improve from 0.01242\n",
            "\n",
            "Epoch 00041: val_loss did not improve from 0.01242\n",
            "\n",
            "Epoch 00042: val_loss did not improve from 0.01242\n",
            "\n",
            "Epoch 00043: val_loss did not improve from 0.01242\n",
            "\n",
            "Epoch 00044: val_loss did not improve from 0.01242\n",
            "\n",
            "Epoch 00045: val_loss did not improve from 0.01242\n",
            "\n",
            "Epoch 00046: val_loss did not improve from 0.01242\n",
            "\n",
            "Epoch 00047: val_loss did not improve from 0.01242\n",
            "\n",
            "Epoch 00048: val_loss did not improve from 0.01242\n",
            "\n",
            "Epoch 00049: val_loss did not improve from 0.01242\n",
            "\n",
            "Epoch 00050: val_loss did not improve from 0.01242\n",
            "\n",
            "Epoch 00051: val_loss did not improve from 0.01242\n",
            "\n",
            "Epoch 00052: val_loss did not improve from 0.01242\n",
            "\n",
            "Epoch 00053: val_loss did not improve from 0.01242\n",
            "\n",
            "Epoch 00054: val_loss did not improve from 0.01242\n",
            "\n",
            "Epoch 00055: val_loss improved from 0.01242 to 0.01059, saving model to model/wine_055_0.0106.h5\n",
            "\n",
            "Epoch 00056: val_loss did not improve from 0.01059\n",
            "\n",
            "Epoch 00057: val_loss did not improve from 0.01059\n",
            "\n",
            "Epoch 00058: val_loss did not improve from 0.01059\n",
            "\n",
            "Epoch 00059: val_loss did not improve from 0.01059\n",
            "\n",
            "Epoch 00060: val_loss did not improve from 0.01059\n",
            "\n",
            "Epoch 00061: val_loss did not improve from 0.01059\n",
            "\n",
            "Epoch 00062: val_loss did not improve from 0.01059\n",
            "\n",
            "Epoch 00063: val_loss did not improve from 0.01059\n",
            "\n",
            "Epoch 00064: val_loss did not improve from 0.01059\n",
            "\n",
            "Epoch 00065: val_loss did not improve from 0.01059\n",
            "\n",
            "Epoch 00066: val_loss did not improve from 0.01059\n",
            "\n",
            "Epoch 00067: val_loss did not improve from 0.01059\n",
            "\n",
            "Epoch 00068: val_loss did not improve from 0.01059\n",
            "\n",
            "Epoch 00069: val_loss did not improve from 0.01059\n",
            "\n",
            "Epoch 00070: val_loss did not improve from 0.01059\n",
            "\n",
            "Epoch 00071: val_loss did not improve from 0.01059\n",
            "\n",
            "Epoch 00072: val_loss did not improve from 0.01059\n",
            "\n",
            "Epoch 00073: val_loss did not improve from 0.01059\n",
            "\n",
            "Epoch 00074: val_loss did not improve from 0.01059\n",
            "\n",
            "Epoch 00075: val_loss did not improve from 0.01059\n",
            "\n",
            "Epoch 00076: val_loss did not improve from 0.01059\n",
            "\n",
            "Epoch 00077: val_loss did not improve from 0.01059\n",
            "\n",
            "Epoch 00078: val_loss did not improve from 0.01059\n",
            "\n",
            "Epoch 00079: val_loss did not improve from 0.01059\n",
            "\n",
            "Epoch 00080: val_loss did not improve from 0.01059\n",
            "\n",
            "Epoch 00081: val_loss did not improve from 0.01059\n",
            "\n",
            "Epoch 00082: val_loss did not improve from 0.01059\n",
            "\n",
            "Epoch 00083: val_loss did not improve from 0.01059\n",
            "\n",
            "Epoch 00084: val_loss did not improve from 0.01059\n",
            "\n",
            "Epoch 00085: val_loss did not improve from 0.01059\n",
            "\n",
            "Epoch 00086: val_loss did not improve from 0.01059\n",
            "\n",
            "Epoch 00087: val_loss did not improve from 0.01059\n",
            "\n",
            "Epoch 00088: val_loss did not improve from 0.01059\n",
            "\n",
            "Epoch 00089: val_loss did not improve from 0.01059\n",
            "\n",
            "Epoch 00090: val_loss improved from 0.01059 to 0.00934, saving model to model/wine_090_0.0093.h5\n",
            "\n",
            "Epoch 00091: val_loss did not improve from 0.00934\n",
            "\n",
            "Epoch 00092: val_loss did not improve from 0.00934\n",
            "\n",
            "Epoch 00093: val_loss did not improve from 0.00934\n",
            "\n",
            "Epoch 00094: val_loss did not improve from 0.00934\n",
            "\n",
            "Epoch 00095: val_loss did not improve from 0.00934\n",
            "\n",
            "Epoch 00096: val_loss did not improve from 0.00934\n",
            "\n",
            "Epoch 00097: val_loss did not improve from 0.00934\n",
            "\n",
            "Epoch 00098: val_loss did not improve from 0.00934\n",
            "\n",
            "Epoch 00099: val_loss did not improve from 0.00934\n",
            "\n",
            "Epoch 00100: val_loss did not improve from 0.00934\n",
            "\n",
            "Epoch 00101: val_loss did not improve from 0.00934\n",
            "\n",
            "Epoch 00102: val_loss did not improve from 0.00934\n",
            "\n",
            "Epoch 00103: val_loss did not improve from 0.00934\n",
            "\n",
            "Epoch 00104: val_loss did not improve from 0.00934\n",
            "\n",
            "Epoch 00105: val_loss did not improve from 0.00934\n",
            "\n",
            "Epoch 00106: val_loss did not improve from 0.00934\n",
            "\n",
            "Epoch 00107: val_loss did not improve from 0.00934\n",
            "\n",
            "Epoch 00108: val_loss did not improve from 0.00934\n",
            "\n",
            "Epoch 00109: val_loss did not improve from 0.00934\n",
            "\n",
            "Epoch 00110: val_loss did not improve from 0.00934\n",
            "\n",
            "Epoch 00111: val_loss did not improve from 0.00934\n",
            "\n",
            "Epoch 00112: val_loss did not improve from 0.00934\n",
            "\n",
            "Epoch 00113: val_loss did not improve from 0.00934\n",
            "\n",
            "Epoch 00114: val_loss did not improve from 0.00934\n",
            "\n",
            "Epoch 00115: val_loss did not improve from 0.00934\n",
            "\n",
            "Epoch 00116: val_loss did not improve from 0.00934\n",
            "\n",
            "Epoch 00117: val_loss did not improve from 0.00934\n",
            "\n",
            "Epoch 00118: val_loss did not improve from 0.00934\n",
            "\n",
            "Epoch 00119: val_loss did not improve from 0.00934\n",
            "\n",
            "Epoch 00120: val_loss did not improve from 0.00934\n",
            "\n",
            "Epoch 00121: val_loss improved from 0.00934 to 0.00473, saving model to model/wine_121_0.0047.h5\n",
            "\n",
            "Epoch 00122: val_loss did not improve from 0.00473\n",
            "\n",
            "Epoch 00123: val_loss improved from 0.00473 to 0.00436, saving model to model/wine_123_0.0044.h5\n",
            "\n",
            "Epoch 00124: val_loss improved from 0.00436 to 0.00221, saving model to model/wine_124_0.0022.h5\n",
            "\n",
            "Epoch 00125: val_loss improved from 0.00221 to 0.00210, saving model to model/wine_125_0.0021.h5\n",
            "\n",
            "Epoch 00126: val_loss did not improve from 0.00210\n",
            "\n",
            "Epoch 00127: val_loss improved from 0.00210 to 0.00191, saving model to model/wine_127_0.0019.h5\n",
            "\n",
            "Epoch 00128: val_loss did not improve from 0.00191\n",
            "\n",
            "Epoch 00129: val_loss did not improve from 0.00191\n",
            "\n",
            "Epoch 00130: val_loss did not improve from 0.00191\n",
            "\n",
            "Epoch 00131: val_loss did not improve from 0.00191\n",
            "\n",
            "Epoch 00132: val_loss did not improve from 0.00191\n",
            "\n",
            "Epoch 00133: val_loss improved from 0.00191 to 0.00173, saving model to model/wine_133_0.0017.h5\n",
            "\n",
            "Epoch 00134: val_loss did not improve from 0.00173\n",
            "\n",
            "Epoch 00135: val_loss did not improve from 0.00173\n",
            "\n",
            "Epoch 00136: val_loss did not improve from 0.00173\n",
            "\n",
            "Epoch 00137: val_loss did not improve from 0.00173\n",
            "\n",
            "Epoch 00138: val_loss did not improve from 0.00173\n",
            "\n",
            "Epoch 00139: val_loss did not improve from 0.00173\n",
            "\n",
            "Epoch 00140: val_loss did not improve from 0.00173\n",
            "\n",
            "Epoch 00141: val_loss did not improve from 0.00173\n",
            "\n",
            "Epoch 00142: val_loss did not improve from 0.00173\n",
            "\n",
            "Epoch 00143: val_loss did not improve from 0.00173\n",
            "\n",
            "Epoch 00144: val_loss did not improve from 0.00173\n",
            "\n",
            "Epoch 00145: val_loss did not improve from 0.00173\n",
            "\n",
            "Epoch 00146: val_loss did not improve from 0.00173\n",
            "\n",
            "Epoch 00147: val_loss did not improve from 0.00173\n",
            "\n",
            "Epoch 00148: val_loss did not improve from 0.00173\n",
            "\n",
            "Epoch 00149: val_loss did not improve from 0.00173\n",
            "\n",
            "Epoch 00150: val_loss did not improve from 0.00173\n",
            "\n",
            "Epoch 00151: val_loss did not improve from 0.00173\n",
            "\n",
            "Epoch 00152: val_loss did not improve from 0.00173\n",
            "\n",
            "Epoch 00153: val_loss did not improve from 0.00173\n",
            "\n",
            "Epoch 00154: val_loss did not improve from 0.00173\n",
            "\n",
            "Epoch 00155: val_loss did not improve from 0.00173\n",
            "\n",
            "Epoch 00156: val_loss did not improve from 0.00173\n",
            "\n",
            "Epoch 00157: val_loss did not improve from 0.00173\n",
            "\n",
            "Epoch 00158: val_loss did not improve from 0.00173\n",
            "\n",
            "Epoch 00159: val_loss did not improve from 0.00173\n",
            "\n",
            "Epoch 00160: val_loss did not improve from 0.00173\n",
            "\n",
            "Epoch 00161: val_loss did not improve from 0.00173\n",
            "\n",
            "Epoch 00162: val_loss did not improve from 0.00173\n",
            "\n",
            "Epoch 00163: val_loss did not improve from 0.00173\n",
            "\n",
            "Epoch 00164: val_loss did not improve from 0.00173\n",
            "\n",
            "Epoch 00165: val_loss did not improve from 0.00173\n",
            "\n",
            "Epoch 00166: val_loss did not improve from 0.00173\n",
            "\n",
            "Epoch 00167: val_loss did not improve from 0.00173\n",
            "\n",
            "Epoch 00168: val_loss did not improve from 0.00173\n",
            "\n",
            "Epoch 00169: val_loss did not improve from 0.00173\n",
            "\n",
            "Epoch 00170: val_loss did not improve from 0.00173\n",
            "\n",
            "Epoch 00171: val_loss did not improve from 0.00173\n",
            "\n",
            "Epoch 00172: val_loss did not improve from 0.00173\n",
            "\n",
            "Epoch 00173: val_loss did not improve from 0.00173\n",
            "\n",
            "Epoch 00174: val_loss did not improve from 0.00173\n",
            "\n",
            "Epoch 00175: val_loss did not improve from 0.00173\n",
            "\n",
            "Epoch 00176: val_loss did not improve from 0.00173\n",
            "\n",
            "Epoch 00177: val_loss did not improve from 0.00173\n",
            "\n",
            "Epoch 00178: val_loss did not improve from 0.00173\n",
            "\n",
            "Epoch 00179: val_loss did not improve from 0.00173\n",
            "\n",
            "Epoch 00180: val_loss did not improve from 0.00173\n",
            "\n",
            "Epoch 00181: val_loss did not improve from 0.00173\n",
            "\n",
            "Epoch 00182: val_loss did not improve from 0.00173\n",
            "\n",
            "Epoch 00183: val_loss did not improve from 0.00173\n",
            "\n",
            "Epoch 00184: val_loss did not improve from 0.00173\n",
            "\n",
            "Epoch 00185: val_loss did not improve from 0.00173\n",
            "\n",
            "Epoch 00186: val_loss did not improve from 0.00173\n",
            "\n",
            "Epoch 00187: val_loss did not improve from 0.00173\n",
            "\n",
            "Epoch 00188: val_loss did not improve from 0.00173\n",
            "\n",
            "Epoch 00189: val_loss did not improve from 0.00173\n",
            "\n",
            "Epoch 00190: val_loss did not improve from 0.00173\n",
            "\n",
            "Epoch 00191: val_loss did not improve from 0.00173\n",
            "\n",
            "Epoch 00192: val_loss did not improve from 0.00173\n",
            "\n",
            "Epoch 00193: val_loss did not improve from 0.00173\n",
            "\n",
            "Epoch 00194: val_loss did not improve from 0.00173\n",
            "\n",
            "Epoch 00195: val_loss did not improve from 0.00173\n",
            "\n",
            "Epoch 00196: val_loss did not improve from 0.00173\n",
            "\n",
            "Epoch 00197: val_loss did not improve from 0.00173\n",
            "\n",
            "Epoch 00198: val_loss did not improve from 0.00173\n",
            "\n",
            "Epoch 00199: val_loss did not improve from 0.00173\n",
            "\n",
            "Epoch 00200: val_loss did not improve from 0.00173\n"
          ]
        }
      ]
    },
    {
      "cell_type": "markdown",
      "source": [
        "- 베스트 모델 로딩한 후 평가"
      ],
      "metadata": {
        "id": "z5YnzNW9llpQ"
      }
    },
    {
      "cell_type": "code",
      "source": [
        ""
      ],
      "metadata": {
        "id": "5vGUJq2NlqjA"
      },
      "execution_count": null,
      "outputs": []
    },
    {
      "cell_type": "code",
      "source": [
        "from tensorflow.keras.models import load_model\n",
        "best_model_path = 'model/wine_133_0.0017.h5'\n",
        "best_model = load_model(best_model_path)\n",
        "best_model.evaluate(X_test, y_test)"
      ],
      "metadata": {
        "colab": {
          "base_uri": "https://localhost:8080/"
        },
        "id": "0ontUWoSkmFq",
        "outputId": "fdebd4f6-85c4-4fba-d512-34ee9db337c2"
      },
      "execution_count": 23,
      "outputs": [
        {
          "output_type": "stream",
          "name": "stdout",
          "text": [
            "51/51 [==============================] - 0s 1ms/step - loss: 0.0116 - accuracy: 0.9969\n"
          ]
        },
        {
          "output_type": "execute_result",
          "data": {
            "text/plain": [
              "[0.011586986482143402, 0.9969230890274048]"
            ]
          },
          "metadata": {},
          "execution_count": 23
        }
      ]
    },
    {
      "cell_type": "code",
      "source": [
        "y_acc = hist.history['accuracy'][:200]\n",
        "y_vloss = hist.history['val_loss'][:200]\n",
        "xs = np.arange(1,len(y_acc)+1)\n"
      ],
      "metadata": {
        "id": "xmZeNTlql9Bg"
      },
      "execution_count": 24,
      "outputs": []
    },
    {
      "cell_type": "code",
      "source": [
        "\n",
        "import matplotlib.pyplot as plt"
      ],
      "metadata": {
        "id": "Oe8T51NTmXLa"
      },
      "execution_count": 29,
      "outputs": []
    },
    {
      "cell_type": "code",
      "source": [
        "plt.figure(figsize=(12,8))\n",
        "plt.plot(xs, y_acc, ms =5, label = 'train accuracy')\n",
        "plt.plot(xs, y_vloss, ms = 5, label = 'validation loss')\n",
        "plt.legend()\n",
        "plt.grid()\n",
        "plt.xlabel('Epoch')\n",
        "plt.show()"
      ],
      "metadata": {
        "colab": {
          "base_uri": "https://localhost:8080/",
          "height": 497
        },
        "id": "yjxIYrhEmNID",
        "outputId": "4d1e0fd8-6679-4441-8815-9d25c45fd22c"
      },
      "execution_count": 30,
      "outputs": [
        {
          "output_type": "display_data",
          "data": {
            "image/png": "[encoded data removed]",
            "text/plain": [
              "<Figure size 864x576 with 1 Axes>"
            ]
          },
          "metadata": {
            "needs_background": "light"
          }
        }
      ]
    },
    {
      "cell_type": "code",
      "source": [
        ""
      ],
      "metadata": {
        "id": "8FNpYWnimWBS"
      },
      "execution_count": null,
      "outputs": []
    }
  ]
}