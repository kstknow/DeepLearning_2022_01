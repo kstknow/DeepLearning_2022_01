{
  "nbformat": 4,
  "nbformat_minor": 0,
  "metadata": {
    "colab": {
      "name": "11.다중분류.ipynb",
      "provenance": []
    },
    "kernelspec": {
      "name": "python3",
      "display_name": "Python 3"
    },
    "language_info": {
      "name": "python"
    }
  },
  "cells": [
    {
      "cell_type": "markdown",
      "source": [
        "## 다중분류 - 아이리스 품종 분류"
      ],
      "metadata": {
        "id": "PvCp3MoWjaVr"
      }
    },
    {
      "cell_type": "code",
      "source": [
        "import numpy as np\n",
        "import tensorflow as tf\n",
        "seed = 2022\n",
        "np.random.seed(seed)\n",
        "tf.random.set_seed(seed)\n",
        "import pandas as pd"
      ],
      "metadata": {
        "id": "sZ7GSbyfjl7T"
      },
      "execution_count": 1,
      "outputs": []
    },
    {
      "cell_type": "markdown",
      "source": [
        "- 데이터 전처리"
      ],
      "metadata": {
        "id": "WlcNIz22jp_o"
      }
    },
    {
      "cell_type": "code",
      "source": [
        "from sklearn.datasets import load_iris\n",
        "iris = load_iris()"
      ],
      "metadata": {
        "id": "WzLj3QPSj6DT"
      },
      "execution_count": 2,
      "outputs": []
    },
    {
      "cell_type": "code",
      "source": [
        "# X data는 정규화\n",
        "from sklearn.preprocessing import StandardScaler\n",
        "X_scaled = StandardScaler().fit_transform(iris.data)\n",
        "X_scaled.shape"
      ],
      "metadata": {
        "colab": {
          "base_uri": "https://localhost:8080/"
        },
        "id": "IFYMjdvvkAU2",
        "outputId": "0b62a0a9-58d4-4377-95ba-0679f2f962ce"
      },
      "execution_count": 3,
      "outputs": [
        {
          "output_type": "execute_result",
          "data": {
            "text/plain": [
              "(150, 4)"
            ]
          },
          "metadata": {},
          "execution_count": 3
        }
      ]
    },
    {
      "cell_type": "code",
      "source": [
        "# Y data는 one- hot encoding\n",
        "from tensorflow.keras.utils import to_categorical\n",
        "Y_onehot = to_categorical(iris.target) # y를 대문자로 쓰는 이유는 2차원\n",
        "Y_onehot[:5]"
      ],
      "metadata": {
        "colab": {
          "base_uri": "https://localhost:8080/"
        },
        "id": "FV3MoY_gkEID",
        "outputId": "440ffd79-22da-4d59-c38a-6fb3a5ace34b"
      },
      "execution_count": 4,
      "outputs": [
        {
          "output_type": "execute_result",
          "data": {
            "text/plain": [
              "array([[1., 0., 0.],\n",
              "       [1., 0., 0.],\n",
              "       [1., 0., 0.],\n",
              "       [1., 0., 0.],\n",
              "       [1., 0., 0.]], dtype=float32)"
            ]
          },
          "metadata": {},
          "execution_count": 4
        }
      ]
    },
    {
      "cell_type": "code",
      "source": [
        "Y_onehot.shape\n"
      ],
      "metadata": {
        "colab": {
          "base_uri": "https://localhost:8080/"
        },
        "id": "gPmE0_jpk6MZ",
        "outputId": "13953209-b5cb-4aed-cbd4-334629d4da7e"
      },
      "execution_count": 5,
      "outputs": [
        {
          "output_type": "execute_result",
          "data": {
            "text/plain": [
              "(150, 3)"
            ]
          },
          "metadata": {},
          "execution_count": 5
        }
      ]
    },
    {
      "cell_type": "code",
      "source": [
        "from sklearn.model_selection import train_test_split\n",
        "X_train, X_test, y_train, y_test = train_test_split(\n",
        "    X_scaled, Y_onehot, stratify = Y_onehot, test_size = 0.2, random_state = seed\n",
        ")"
      ],
      "metadata": {
        "id": "B2UmZHqklQj9"
      },
      "execution_count": 8,
      "outputs": []
    },
    {
      "cell_type": "code",
      "source": [
        "X_train.shape, X_test.shape, y_train.shape, y_test.shape"
      ],
      "metadata": {
        "colab": {
          "base_uri": "https://localhost:8080/"
        },
        "id": "BNhw8b9rljUk",
        "outputId": "5dcbbc9c-00f2-4cbf-fc20-bc5270560da6"
      },
      "execution_count": 9,
      "outputs": [
        {
          "output_type": "execute_result",
          "data": {
            "text/plain": [
              "((120, 4), (30, 4), (120, 3), (30, 3))"
            ]
          },
          "metadata": {},
          "execution_count": 9
        }
      ]
    },
    {
      "cell_type": "markdown",
      "source": [
        "- 모델 정의/설정/학습/평가"
      ],
      "metadata": {
        "id": "kmMLLLW3lo04"
      }
    },
    {
      "cell_type": "code",
      "source": [
        "from tensorflow.keras.models import Sequential\n",
        "from tensorflow.keras.layers import Dense"
      ],
      "metadata": {
        "id": "769CQ5ZMmAnG"
      },
      "execution_count": 10,
      "outputs": []
    },
    {
      "cell_type": "code",
      "source": [
        "model = Sequential([\n",
        "    Dense(16, input_dim=4, activation= 'relu'),  # Hiddem Layer\n",
        "    Dense(3, activation= 'softmax')              # Output Layer\n",
        "])\n",
        "model.summary()"
      ],
      "metadata": {
        "colab": {
          "base_uri": "https://localhost:8080/"
        },
        "id": "jCeWcRq8mLiG",
        "outputId": "b8de99c0-0468-4c74-8cf4-d69ba291c022"
      },
      "execution_count": 11,
      "outputs": [
        {
          "output_type": "stream",
          "name": "stdout",
          "text": [
            "Model: \"sequential\"\n",
            "_________________________________________________________________\n",
            " Layer (type)                Output Shape              Param #   \n",
            "=================================================================\n",
            " dense (Dense)               (None, 16)                80        \n",
            "                                                                 \n",
            " dense_1 (Dense)             (None, 3)                 51        \n",
            "                                                                 \n",
            "=================================================================\n",
            "Total params: 131\n",
            "Trainable params: 131\n",
            "Non-trainable params: 0\n",
            "_________________________________________________________________\n"
          ]
        }
      ]
    },
    {
      "cell_type": "markdown",
      "source": [
        "- 실행 환경 설정(compile)"
      ],
      "metadata": {
        "id": "ZFkH4OTYqxp6"
      }
    },
    {
      "cell_type": "code",
      "source": [
        "model.compile(\n",
        "    optimizer= 'adam',\n",
        "    loss = 'categorical_crossentropy',         # 다중분류시 오차 함수\n",
        "    metrics=['accuracy']                       \n",
        "\n",
        ")"
      ],
      "metadata": {
        "id": "-YrwTRmjq5YM"
      },
      "execution_count": 13,
      "outputs": []
    },
    {
      "cell_type": "code",
      "source": [
        "history = model.fit(\n",
        "    X_train,  y_train, validation_split = 0.2, epochs =200, batch_size = 50, verbose =0\n",
        ")"
      ],
      "metadata": {
        "id": "7XkUsQEVrVTj"
      },
      "execution_count": 14,
      "outputs": []
    },
    {
      "cell_type": "code",
      "source": [
        "model.evaluate(X_test, y_test)\n"
      ],
      "metadata": {
        "colab": {
          "base_uri": "https://localhost:8080/"
        },
        "id": "1BLDIuK_rqN8",
        "outputId": "cffdc769-d9fa-492f-86b1-bdd69de4abd1"
      },
      "execution_count": 16,
      "outputs": [
        {
          "output_type": "stream",
          "name": "stdout",
          "text": [
            "1/1 [==============================] - 0s 18ms/step - loss: 0.2548 - accuracy: 0.9333\n"
          ]
        },
        {
          "output_type": "execute_result",
          "data": {
            "text/plain": [
              "[0.2547621428966522, 0.9333333373069763]"
            ]
          },
          "metadata": {},
          "execution_count": 16
        }
      ]
    },
    {
      "cell_type": "markdown",
      "source": [
        "- 모델 저장/로드"
      ],
      "metadata": {
        "id": "RSAlqQlcr4pc"
      }
    },
    {
      "cell_type": "code",
      "source": [
        "!mkdir model"
      ],
      "metadata": {
        "colab": {
          "base_uri": "https://localhost:8080/"
        },
        "id": "mLETGpKVsec1",
        "outputId": "d3c2d25d-7c9d-4248-da9d-f3912950cbc9"
      },
      "execution_count": 24,
      "outputs": [
        {
          "output_type": "stream",
          "name": "stdout",
          "text": [
            "mkdir: cannot create directory ‘model’: File exists\n"
          ]
        }
      ]
    },
    {
      "cell_type": "code",
      "source": [
        "model.save('model/iris.h5')"
      ],
      "metadata": {
        "id": "_O8j5SM3sx85"
      },
      "execution_count": 25,
      "outputs": []
    },
    {
      "cell_type": "markdown",
      "source": [
        "- 복구"
      ],
      "metadata": {
        "id": "mKF4WQ3AtjOU"
      }
    },
    {
      "cell_type": "code",
      "source": [
        "from tensorflow.keras.models import load_model\n",
        "my_model = load_model('model/iris.h5')"
      ],
      "metadata": {
        "id": "7CWUzMTItw9F"
      },
      "execution_count": 26,
      "outputs": []
    },
    {
      "cell_type": "code",
      "source": [
        "my_model.evaluate(X_test,y_test)"
      ],
      "metadata": {
        "colab": {
          "base_uri": "https://localhost:8080/"
        },
        "id": "fRWfkn5Dt5IC",
        "outputId": "8bc6e2de-7f4a-4cc3-d268-99ae0414e073"
      },
      "execution_count": 27,
      "outputs": [
        {
          "output_type": "stream",
          "name": "stdout",
          "text": [
            "1/1 [==============================] - 0s 119ms/step - loss: 0.2548 - accuracy: 0.9333\n"
          ]
        },
        {
          "output_type": "execute_result",
          "data": {
            "text/plain": [
              "[0.2547621428966522, 0.9333333373069763]"
            ]
          },
          "metadata": {},
          "execution_count": 27
        }
      ]
    },
    {
      "cell_type": "markdown",
      "source": [
        "- 아이리스는 세토사 데이터가 많으면 맞는거고 , 버지니카 같은 데이터가 많으면 틀린거라고 운빨적이다.\n",
        "- 정형화 data = 이미지, 텍스트 데이터 "
      ],
      "metadata": {
        "id": "XK97SX4It827"
      }
    },
    {
      "cell_type": "markdown",
      "source": [
        "- 학습과정 시각화"
      ],
      "metadata": {
        "id": "-RIZezG3udCT"
      }
    },
    {
      "cell_type": "code",
      "source": [
        "import matplotlib.pyplot as plt"
      ],
      "metadata": {
        "id": "IYHVbnABu1dw"
      },
      "execution_count": 29,
      "outputs": []
    },
    {
      "cell_type": "code",
      "source": [
        "y_acc = history.history['accuracy']\n",
        "y_vloss = history.history['val_loss']\n",
        "xs = np.arange(1,len(y_acc)+1)\n"
      ],
      "metadata": {
        "id": "mfS1GvoEu9MP"
      },
      "execution_count": 30,
      "outputs": []
    },
    {
      "cell_type": "code",
      "source": [
        "plt.figure(figsize=(12,8))\n",
        "plt.plot(xs, y_acc, ms =5, label = 'train accuracy')\n",
        "plt.plot(xs, y_vloss, ms = 5, label = 'validation loss')\n",
        "plt.legend()\n",
        "plt.grid()\n",
        "plt.xlabel('Epoch')\n",
        "plt.show()"
      ],
      "metadata": {
        "colab": {
          "base_uri": "https://localhost:8080/",
          "height": 497
        },
        "id": "5ZayAjfXvRuQ",
        "outputId": "a831e642-1483-46dc-ab21-ac973c659cf7"
      },
      "execution_count": 31,
      "outputs": [
        {
          "output_type": "display_data",
          "data": {
            "image/png": "[encoded data removed]",
            "text/plain": [
              "<Figure size 864x576 with 1 Axes>"
            ]
          },
          "metadata": {
            "needs_background": "light"
          }
        }
      ]
    },
    {
      "cell_type": "markdown",
      "source": [
        "- Epoch 횟수를 더 늘려서 학습을 해보자"
      ],
      "metadata": {
        "id": "GBz8tcbwvsi-"
      }
    },
    {
      "cell_type": "code",
      "source": [
        "model2 = Sequential([\n",
        "    Dense(16, input_dim=4, activation= 'relu'),  # Hiddem Layer\n",
        "    Dense(3, activation= 'softmax')              # Output Layer\n",
        "])\n",
        "model.summary()"
      ],
      "metadata": {
        "colab": {
          "base_uri": "https://localhost:8080/"
        },
        "id": "69rkvl3Kwbwz",
        "outputId": "fc51eff6-2ea6-45b7-d62f-0c5ad7e7a53d"
      },
      "execution_count": 43,
      "outputs": [
        {
          "output_type": "stream",
          "name": "stdout",
          "text": [
            "Model: \"sequential\"\n",
            "_________________________________________________________________\n",
            " Layer (type)                Output Shape              Param #   \n",
            "=================================================================\n",
            " dense (Dense)               (None, 16)                80        \n",
            "                                                                 \n",
            " dense_1 (Dense)             (None, 3)                 51        \n",
            "                                                                 \n",
            "=================================================================\n",
            "Total params: 131\n",
            "Trainable params: 131\n",
            "Non-trainable params: 0\n",
            "_________________________________________________________________\n"
          ]
        }
      ]
    },
    {
      "cell_type": "code",
      "source": [
        "model2.compile(\n",
        "    optimizer= 'adam',\n",
        "    loss = 'categorical_crossentropy',         # 다중분류시 오차 함수\n",
        "    metrics=['accuracy']                       \n",
        "\n",
        ")"
      ],
      "metadata": {
        "id": "cfgwU9knwy6E"
      },
      "execution_count": 44,
      "outputs": []
    },
    {
      "cell_type": "code",
      "source": [
        "history2 = model2.fit(\n",
        "    X_train,  y_train, validation_split = 0.2, epochs =1000, batch_size = 50, verbose =0\n",
        ")"
      ],
      "metadata": {
        "id": "OP0W8aIFw0pb"
      },
      "execution_count": 45,
      "outputs": []
    },
    {
      "cell_type": "code",
      "source": [
        "model2.evaluate(X_test,y_test)"
      ],
      "metadata": {
        "colab": {
          "base_uri": "https://localhost:8080/"
        },
        "id": "IUBBsF4sxKrf",
        "outputId": "5b251af7-7153-4afe-cb23-80b8e7a9e469"
      },
      "execution_count": 46,
      "outputs": [
        {
          "output_type": "stream",
          "name": "stdout",
          "text": [
            "1/1 [==============================] - 0s 18ms/step - loss: 0.1334 - accuracy: 0.9000\n"
          ]
        },
        {
          "output_type": "execute_result",
          "data": {
            "text/plain": [
              "[0.13342145085334778, 0.8999999761581421]"
            ]
          },
          "metadata": {},
          "execution_count": 46
        }
      ]
    },
    {
      "cell_type": "code",
      "source": [
        "y_acc = history2.history['accuracy']\n",
        "y_vloss = history2.history['val_loss']\n",
        "xs = np.arange(1,len(y_acc)+1)\n"
      ],
      "metadata": {
        "id": "8TAVmr09xce-"
      },
      "execution_count": 47,
      "outputs": []
    },
    {
      "cell_type": "code",
      "source": [
        "plt.figure(figsize=(12,8))\n",
        "plt.plot(xs, y_acc, ms =5, label = 'train accuracy')\n",
        "plt.plot(xs, y_vloss, ms = 5, label = 'validation loss')\n",
        "plt.legend()\n",
        "plt.grid()\n",
        "plt.xlabel('Epoch')\n",
        "plt.show()"
      ],
      "metadata": {
        "colab": {
          "base_uri": "https://localhost:8080/",
          "height": 497
        },
        "id": "HftypngAxvsI",
        "outputId": "f46b4331-8347-4b27-9d1f-17f85c8162e4"
      },
      "execution_count": 48,
      "outputs": [
        {
          "output_type": "display_data",
          "data": {
            "image/png": "[encoded data removed]",
            "text/plain": [
              "<Figure size 864x576 with 1 Axes>"
            ]
          },
          "metadata": {
            "needs_background": "light"
          }
        }
      ]
    },
    {
      "cell_type": "markdown",
      "source": [
        "-  370 epoch 넘어가면서 부턴 100프로 되면서 과적합된 상태, 위에 그래프는 100프로가 되지 않았다."
      ],
      "metadata": {
        "id": "7xlMvRUGxx1U"
      }
    },
    {
      "cell_type": "markdown",
      "source": [
        "- 정형화된 데이터는 신경망 보다는 앙상블(XGBoost)가 잘한다."
      ],
      "metadata": {
        "id": "4zA9zyphyomM"
      }
    },
    {
      "cell_type": "code",
      "source": [
        ""
      ],
      "metadata": {
        "id": "smpfsj5Hy1oZ"
      },
      "execution_count": null,
      "outputs": []
    }
  ]
}