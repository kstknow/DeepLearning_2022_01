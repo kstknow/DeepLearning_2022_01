{
  "cells": [
    {
      "cell_type": "markdown",
      "metadata": {
        "id": "U8c7PMIq4LYk"
      },
      "source": [
        "# 타이타닉 데이터 이진분류 정확도 경시대회"
      ]
    },
    {
      "cell_type": "code",
      "execution_count": 1,
      "metadata": {
        "id": "gNmAybPRu3-T"
      },
      "outputs": [],
      "source": [
        "import seaborn as sns\n",
        "dataset_names = sns.get_dataset_names()\n",
        "titanic = sns.load_dataset('titanic')"
      ]
    },
    {
      "cell_type": "code",
      "execution_count": 1,
      "metadata": {
        "id": "UpQohAYcIABk"
      },
      "outputs": [],
      "source": []
    },
    {
      "cell_type": "code",
      "execution_count": 2,
      "metadata": {
        "colab": {
          "base_uri": "https://localhost:8080/",
          "height": 206
        },
        "id": "WdHdUj0X10Hb",
        "outputId": "c9b88fb9-ed0c-4e94-d435-c85a35c962cc"
      },
      "outputs": [
        {
          "data": {
            "text/html": [
              "\n",
              "  <div id=\"df-9e6c85ab-1dba-4acb-9201-dfccf40af092\">\n",
              "    <div class=\"colab-df-container\">\n",
              "      <div>\n",
              "<style scoped>\n",
              "    .dataframe tbody tr th:only-of-type {\n",
              "        vertical-align: middle;\n",
              "    }\n",
              "\n",
              "    .dataframe tbody tr th {\n",
              "        vertical-align: top;\n",
              "    }\n",
              "\n",
              "    .dataframe thead th {\n",
              "        text-align: right;\n",
              "    }\n",
              "</style>\n",
              "<table border=\"1\" class=\"dataframe\">\n",
              "  <thead>\n",
              "    <tr style=\"text-align: right;\">\n",
              "      <th></th>\n",
              "      <th>survived</th>\n",
              "      <th>pclass</th>\n",
              "      <th>sex</th>\n",
              "      <th>age</th>\n",
              "      <th>sibsp</th>\n",
              "      <th>parch</th>\n",
              "      <th>fare</th>\n",
              "      <th>embarked</th>\n",
              "      <th>class</th>\n",
              "      <th>who</th>\n",
              "      <th>adult_male</th>\n",
              "      <th>deck</th>\n",
              "      <th>embark_town</th>\n",
              "      <th>alive</th>\n",
              "      <th>alone</th>\n",
              "    </tr>\n",
              "  </thead>\n",
              "  <tbody>\n",
              "    <tr>\n",
              "      <th>0</th>\n",
              "      <td>0</td>\n",
              "      <td>3</td>\n",
              "      <td>male</td>\n",
              "      <td>22.0</td>\n",
              "      <td>1</td>\n",
              "      <td>0</td>\n",
              "      <td>7.2500</td>\n",
              "      <td>S</td>\n",
              "      <td>Third</td>\n",
              "      <td>man</td>\n",
              "      <td>True</td>\n",
              "      <td>NaN</td>\n",
              "      <td>Southampton</td>\n",
              "      <td>no</td>\n",
              "      <td>False</td>\n",
              "    </tr>\n",
              "    <tr>\n",
              "      <th>1</th>\n",
              "      <td>1</td>\n",
              "      <td>1</td>\n",
              "      <td>female</td>\n",
              "      <td>38.0</td>\n",
              "      <td>1</td>\n",
              "      <td>0</td>\n",
              "      <td>71.2833</td>\n",
              "      <td>C</td>\n",
              "      <td>First</td>\n",
              "      <td>woman</td>\n",
              "      <td>False</td>\n",
              "      <td>C</td>\n",
              "      <td>Cherbourg</td>\n",
              "      <td>yes</td>\n",
              "      <td>False</td>\n",
              "    </tr>\n",
              "    <tr>\n",
              "      <th>2</th>\n",
              "      <td>1</td>\n",
              "      <td>3</td>\n",
              "      <td>female</td>\n",
              "      <td>26.0</td>\n",
              "      <td>0</td>\n",
              "      <td>0</td>\n",
              "      <td>7.9250</td>\n",
              "      <td>S</td>\n",
              "      <td>Third</td>\n",
              "      <td>woman</td>\n",
              "      <td>False</td>\n",
              "      <td>NaN</td>\n",
              "      <td>Southampton</td>\n",
              "      <td>yes</td>\n",
              "      <td>True</td>\n",
              "    </tr>\n",
              "    <tr>\n",
              "      <th>3</th>\n",
              "      <td>1</td>\n",
              "      <td>1</td>\n",
              "      <td>female</td>\n",
              "      <td>35.0</td>\n",
              "      <td>1</td>\n",
              "      <td>0</td>\n",
              "      <td>53.1000</td>\n",
              "      <td>S</td>\n",
              "      <td>First</td>\n",
              "      <td>woman</td>\n",
              "      <td>False</td>\n",
              "      <td>C</td>\n",
              "      <td>Southampton</td>\n",
              "      <td>yes</td>\n",
              "      <td>False</td>\n",
              "    </tr>\n",
              "    <tr>\n",
              "      <th>4</th>\n",
              "      <td>0</td>\n",
              "      <td>3</td>\n",
              "      <td>male</td>\n",
              "      <td>35.0</td>\n",
              "      <td>0</td>\n",
              "      <td>0</td>\n",
              "      <td>8.0500</td>\n",
              "      <td>S</td>\n",
              "      <td>Third</td>\n",
              "      <td>man</td>\n",
              "      <td>True</td>\n",
              "      <td>NaN</td>\n",
              "      <td>Southampton</td>\n",
              "      <td>no</td>\n",
              "      <td>True</td>\n",
              "    </tr>\n",
              "  </tbody>\n",
              "</table>\n",
              "</div>\n",
              "      <button class=\"colab-df-convert\" onclick=\"convertToInteractive('df-9e6c85ab-1dba-4acb-9201-dfccf40af092')\"\n",
              "              title=\"Convert this dataframe to an interactive table.\"\n",
              "              style=\"display:none;\">\n",
              "        \n",
              "  <svg xmlns=\"http://www.w3.org/2000/svg\" height=\"24px\"viewBox=\"0 0 24 24\"\n",
              "       width=\"24px\">\n",
              "    <path d=\"M0 0h24v24H0V0z\" fill=\"none\"/>\n",
              "    <path d=\"M18.56 5.44l.94 2.06.94-2.06 2.06-.94-2.06-.94-.94-2.06-.94 2.06-2.06.94zm-11 1L8.5 8.5l.94-2.06 2.06-.94-2.06-.94L8.5 2.5l-.94 2.06-2.06.94zm10 10l.94 2.06.94-2.06 2.06-.94-2.06-.94-.94-2.06-.94 2.06-2.06.94z\"/><path d=\"M17.41 7.96l-1.37-1.37c-.4-.4-.92-.59-1.43-.59-.52 0-1.04.2-1.43.59L10.3 9.45l-7.72 7.72c-.78.78-.78 2.05 0 2.83L4 21.41c.39.39.9.59 1.41.59.51 0 1.02-.2 1.41-.59l7.78-7.78 2.81-2.81c.8-.78.8-2.07 0-2.86zM5.41 20L4 18.59l7.72-7.72 1.47 1.35L5.41 20z\"/>\n",
              "  </svg>\n",
              "      </button>\n",
              "      \n",
              "  <style>\n",
              "    .colab-df-container {\n",
              "      display:flex;\n",
              "      flex-wrap:wrap;\n",
              "      gap: 12px;\n",
              "    }\n",
              "\n",
              "    .colab-df-convert {\n",
              "      background-color: #E8F0FE;\n",
              "      border: none;\n",
              "      border-radius: 50%;\n",
              "      cursor: pointer;\n",
              "      display: none;\n",
              "      fill: #1967D2;\n",
              "      height: 32px;\n",
              "      padding: 0 0 0 0;\n",
              "      width: 32px;\n",
              "    }\n",
              "\n",
              "    .colab-df-convert:hover {\n",
              "      background-color: #E2EBFA;\n",
              "      box-shadow: 0px 1px 2px rgba(60, 64, 67, 0.3), 0px 1px 3px 1px rgba(60, 64, 67, 0.15);\n",
              "      fill: #174EA6;\n",
              "    }\n",
              "\n",
              "    [theme=dark] .colab-df-convert {\n",
              "      background-color: #3B4455;\n",
              "      fill: #D2E3FC;\n",
              "    }\n",
              "\n",
              "    [theme=dark] .colab-df-convert:hover {\n",
              "      background-color: #434B5C;\n",
              "      box-shadow: 0px 1px 3px 1px rgba(0, 0, 0, 0.15);\n",
              "      filter: drop-shadow(0px 1px 2px rgba(0, 0, 0, 0.3));\n",
              "      fill: #FFFFFF;\n",
              "    }\n",
              "  </style>\n",
              "\n",
              "      <script>\n",
              "        const buttonEl =\n",
              "          document.querySelector('#df-9e6c85ab-1dba-4acb-9201-dfccf40af092 button.colab-df-convert');\n",
              "        buttonEl.style.display =\n",
              "          google.colab.kernel.accessAllowed ? 'block' : 'none';\n",
              "\n",
              "        async function convertToInteractive(key) {\n",
              "          const element = document.querySelector('#df-9e6c85ab-1dba-4acb-9201-dfccf40af092');\n",
              "          const dataTable =\n",
              "            await google.colab.kernel.invokeFunction('convertToInteractive',\n",
              "                                                     [key], {});\n",
              "          if (!dataTable) return;\n",
              "\n",
              "          const docLinkHtml = 'Like what you see? Visit the ' +\n",
              "            '<a target=\"_blank\" href=https://colab.research.google.com/notebooks/data_table.ipynb>data table notebook</a>'\n",
              "            + ' to learn more about interactive tables.';\n",
              "          element.innerHTML = '';\n",
              "          dataTable['output_type'] = 'display_data';\n",
              "          await google.colab.output.renderOutput(dataTable, element);\n",
              "          const docLink = document.createElement('div');\n",
              "          docLink.innerHTML = docLinkHtml;\n",
              "          element.appendChild(docLink);\n",
              "        }\n",
              "      </script>\n",
              "    </div>\n",
              "  </div>\n",
              "  "
            ],
            "text/plain": [
              "   survived  pclass     sex   age  ...  deck  embark_town  alive  alone\n",
              "0         0       3    male  22.0  ...   NaN  Southampton     no  False\n",
              "1         1       1  female  38.0  ...     C    Cherbourg    yes  False\n",
              "2         1       3  female  26.0  ...   NaN  Southampton    yes   True\n",
              "3         1       1  female  35.0  ...     C  Southampton    yes  False\n",
              "4         0       3    male  35.0  ...   NaN  Southampton     no   True\n",
              "\n",
              "[5 rows x 15 columns]"
            ]
          },
          "execution_count": 2,
          "metadata": {},
          "output_type": "execute_result"
        }
      ],
      "source": [
        "df = sns.load_dataset('titanic')\n",
        "df.head(5)"
      ]
    },
    {
      "cell_type": "code",
      "execution_count": 3,
      "metadata": {
        "id": "OuQk6eYku5IL"
      },
      "outputs": [],
      "source": [
        "import numpy as np\n",
        "import pandas as pd\n",
        "import tensorflow as tf\n",
        "seed = 2022\n",
        "np.random.seed(seed)\n",
        "tf.random.set_seed(seed)"
      ]
    },
    {
      "cell_type": "code",
      "execution_count": 4,
      "metadata": {
        "colab": {
          "base_uri": "https://localhost:8080/",
          "height": 300
        },
        "id": "DipwhkOCu6J8",
        "outputId": "b0b83257-1c8a-445c-d697-3b63f0479c3d"
      },
      "outputs": [
        {
          "data": {
            "text/html": [
              "\n",
              "  <div id=\"df-96840579-39bf-4326-bf49-2c0268ed76ed\">\n",
              "    <div class=\"colab-df-container\">\n",
              "      <div>\n",
              "<style scoped>\n",
              "    .dataframe tbody tr th:only-of-type {\n",
              "        vertical-align: middle;\n",
              "    }\n",
              "\n",
              "    .dataframe tbody tr th {\n",
              "        vertical-align: top;\n",
              "    }\n",
              "\n",
              "    .dataframe thead th {\n",
              "        text-align: right;\n",
              "    }\n",
              "</style>\n",
              "<table border=\"1\" class=\"dataframe\">\n",
              "  <thead>\n",
              "    <tr style=\"text-align: right;\">\n",
              "      <th></th>\n",
              "      <th>survived</th>\n",
              "      <th>pclass</th>\n",
              "      <th>age</th>\n",
              "      <th>sibsp</th>\n",
              "      <th>parch</th>\n",
              "      <th>fare</th>\n",
              "    </tr>\n",
              "  </thead>\n",
              "  <tbody>\n",
              "    <tr>\n",
              "      <th>count</th>\n",
              "      <td>891.000000</td>\n",
              "      <td>891.000000</td>\n",
              "      <td>714.000000</td>\n",
              "      <td>891.000000</td>\n",
              "      <td>891.000000</td>\n",
              "      <td>891.000000</td>\n",
              "    </tr>\n",
              "    <tr>\n",
              "      <th>mean</th>\n",
              "      <td>0.383838</td>\n",
              "      <td>2.308642</td>\n",
              "      <td>29.699118</td>\n",
              "      <td>0.523008</td>\n",
              "      <td>0.381594</td>\n",
              "      <td>32.204208</td>\n",
              "    </tr>\n",
              "    <tr>\n",
              "      <th>std</th>\n",
              "      <td>0.486592</td>\n",
              "      <td>0.836071</td>\n",
              "      <td>14.526497</td>\n",
              "      <td>1.102743</td>\n",
              "      <td>0.806057</td>\n",
              "      <td>49.693429</td>\n",
              "    </tr>\n",
              "    <tr>\n",
              "      <th>min</th>\n",
              "      <td>0.000000</td>\n",
              "      <td>1.000000</td>\n",
              "      <td>0.420000</td>\n",
              "      <td>0.000000</td>\n",
              "      <td>0.000000</td>\n",
              "      <td>0.000000</td>\n",
              "    </tr>\n",
              "    <tr>\n",
              "      <th>25%</th>\n",
              "      <td>0.000000</td>\n",
              "      <td>2.000000</td>\n",
              "      <td>20.125000</td>\n",
              "      <td>0.000000</td>\n",
              "      <td>0.000000</td>\n",
              "      <td>7.910400</td>\n",
              "    </tr>\n",
              "    <tr>\n",
              "      <th>50%</th>\n",
              "      <td>0.000000</td>\n",
              "      <td>3.000000</td>\n",
              "      <td>28.000000</td>\n",
              "      <td>0.000000</td>\n",
              "      <td>0.000000</td>\n",
              "      <td>14.454200</td>\n",
              "    </tr>\n",
              "    <tr>\n",
              "      <th>75%</th>\n",
              "      <td>1.000000</td>\n",
              "      <td>3.000000</td>\n",
              "      <td>38.000000</td>\n",
              "      <td>1.000000</td>\n",
              "      <td>0.000000</td>\n",
              "      <td>31.000000</td>\n",
              "    </tr>\n",
              "    <tr>\n",
              "      <th>max</th>\n",
              "      <td>1.000000</td>\n",
              "      <td>3.000000</td>\n",
              "      <td>80.000000</td>\n",
              "      <td>8.000000</td>\n",
              "      <td>6.000000</td>\n",
              "      <td>512.329200</td>\n",
              "    </tr>\n",
              "  </tbody>\n",
              "</table>\n",
              "</div>\n",
              "      <button class=\"colab-df-convert\" onclick=\"convertToInteractive('df-96840579-39bf-4326-bf49-2c0268ed76ed')\"\n",
              "              title=\"Convert this dataframe to an interactive table.\"\n",
              "              style=\"display:none;\">\n",
              "        \n",
              "  <svg xmlns=\"http://www.w3.org/2000/svg\" height=\"24px\"viewBox=\"0 0 24 24\"\n",
              "       width=\"24px\">\n",
              "    <path d=\"M0 0h24v24H0V0z\" fill=\"none\"/>\n",
              "    <path d=\"M18.56 5.44l.94 2.06.94-2.06 2.06-.94-2.06-.94-.94-2.06-.94 2.06-2.06.94zm-11 1L8.5 8.5l.94-2.06 2.06-.94-2.06-.94L8.5 2.5l-.94 2.06-2.06.94zm10 10l.94 2.06.94-2.06 2.06-.94-2.06-.94-.94-2.06-.94 2.06-2.06.94z\"/><path d=\"M17.41 7.96l-1.37-1.37c-.4-.4-.92-.59-1.43-.59-.52 0-1.04.2-1.43.59L10.3 9.45l-7.72 7.72c-.78.78-.78 2.05 0 2.83L4 21.41c.39.39.9.59 1.41.59.51 0 1.02-.2 1.41-.59l7.78-7.78 2.81-2.81c.8-.78.8-2.07 0-2.86zM5.41 20L4 18.59l7.72-7.72 1.47 1.35L5.41 20z\"/>\n",
              "  </svg>\n",
              "      </button>\n",
              "      \n",
              "  <style>\n",
              "    .colab-df-container {\n",
              "      display:flex;\n",
              "      flex-wrap:wrap;\n",
              "      gap: 12px;\n",
              "    }\n",
              "\n",
              "    .colab-df-convert {\n",
              "      background-color: #E8F0FE;\n",
              "      border: none;\n",
              "      border-radius: 50%;\n",
              "      cursor: pointer;\n",
              "      display: none;\n",
              "      fill: #1967D2;\n",
              "      height: 32px;\n",
              "      padding: 0 0 0 0;\n",
              "      width: 32px;\n",
              "    }\n",
              "\n",
              "    .colab-df-convert:hover {\n",
              "      background-color: #E2EBFA;\n",
              "      box-shadow: 0px 1px 2px rgba(60, 64, 67, 0.3), 0px 1px 3px 1px rgba(60, 64, 67, 0.15);\n",
              "      fill: #174EA6;\n",
              "    }\n",
              "\n",
              "    [theme=dark] .colab-df-convert {\n",
              "      background-color: #3B4455;\n",
              "      fill: #D2E3FC;\n",
              "    }\n",
              "\n",
              "    [theme=dark] .colab-df-convert:hover {\n",
              "      background-color: #434B5C;\n",
              "      box-shadow: 0px 1px 3px 1px rgba(0, 0, 0, 0.15);\n",
              "      filter: drop-shadow(0px 1px 2px rgba(0, 0, 0, 0.3));\n",
              "      fill: #FFFFFF;\n",
              "    }\n",
              "  </style>\n",
              "\n",
              "      <script>\n",
              "        const buttonEl =\n",
              "          document.querySelector('#df-96840579-39bf-4326-bf49-2c0268ed76ed button.colab-df-convert');\n",
              "        buttonEl.style.display =\n",
              "          google.colab.kernel.accessAllowed ? 'block' : 'none';\n",
              "\n",
              "        async function convertToInteractive(key) {\n",
              "          const element = document.querySelector('#df-96840579-39bf-4326-bf49-2c0268ed76ed');\n",
              "          const dataTable =\n",
              "            await google.colab.kernel.invokeFunction('convertToInteractive',\n",
              "                                                     [key], {});\n",
              "          if (!dataTable) return;\n",
              "\n",
              "          const docLinkHtml = 'Like what you see? Visit the ' +\n",
              "            '<a target=\"_blank\" href=https://colab.research.google.com/notebooks/data_table.ipynb>data table notebook</a>'\n",
              "            + ' to learn more about interactive tables.';\n",
              "          element.innerHTML = '';\n",
              "          dataTable['output_type'] = 'display_data';\n",
              "          await google.colab.output.renderOutput(dataTable, element);\n",
              "          const docLink = document.createElement('div');\n",
              "          docLink.innerHTML = docLinkHtml;\n",
              "          element.appendChild(docLink);\n",
              "        }\n",
              "      </script>\n",
              "    </div>\n",
              "  </div>\n",
              "  "
            ],
            "text/plain": [
              "         survived      pclass         age       sibsp       parch        fare\n",
              "count  891.000000  891.000000  714.000000  891.000000  891.000000  891.000000\n",
              "mean     0.383838    2.308642   29.699118    0.523008    0.381594   32.204208\n",
              "std      0.486592    0.836071   14.526497    1.102743    0.806057   49.693429\n",
              "min      0.000000    1.000000    0.420000    0.000000    0.000000    0.000000\n",
              "25%      0.000000    2.000000   20.125000    0.000000    0.000000    7.910400\n",
              "50%      0.000000    3.000000   28.000000    0.000000    0.000000   14.454200\n",
              "75%      1.000000    3.000000   38.000000    1.000000    0.000000   31.000000\n",
              "max      1.000000    3.000000   80.000000    8.000000    6.000000  512.329200"
            ]
          },
          "execution_count": 4,
          "metadata": {},
          "output_type": "execute_result"
        }
      ],
      "source": [
        "titanic.describe()"
      ]
    },
    {
      "cell_type": "markdown",
      "metadata": {
        "id": "nZ4m82GJ4RWz"
      },
      "source": [
        "# 1. 데이터 전처리"
      ]
    },
    {
      "cell_type": "markdown",
      "metadata": {
        "id": "06g7BeWz4T-6"
      },
      "source": [
        "- Feature selection"
      ]
    },
    {
      "cell_type": "code",
      "execution_count": 5,
      "metadata": {
        "id": "aJ95eanH1Q07"
      },
      "outputs": [],
      "source": [
        "df = df[['survived','pclass','sex','age','sibsp','parch','fare','embarked','deck']]"
      ]
    },
    {
      "cell_type": "markdown",
      "metadata": {
        "id": "Na_O9MoS4diq"
      },
      "source": [
        "- 결측치 확인"
      ]
    },
    {
      "cell_type": "code",
      "execution_count": 6,
      "metadata": {
        "colab": {
          "base_uri": "https://localhost:8080/"
        },
        "id": "rZRn3Q0Jw9Kj",
        "outputId": "08cf0ac4-39b4-402b-84f7-b447f8d1c3c2"
      },
      "outputs": [
        {
          "data": {
            "text/plain": [
              "survived      0\n",
              "pclass        0\n",
              "sex           0\n",
              "age         177\n",
              "sibsp         0\n",
              "parch         0\n",
              "fare          0\n",
              "embarked      2\n",
              "deck        688\n",
              "dtype: int64"
            ]
          },
          "execution_count": 6,
          "metadata": {},
          "output_type": "execute_result"
        }
      ],
      "source": [
        "df.isna().sum()"
      ]
    },
    {
      "cell_type": "code",
      "execution_count": 7,
      "metadata": {
        "colab": {
          "base_uri": "https://localhost:8080/"
        },
        "id": "lR77bcGi4has",
        "outputId": "87ea73c0-dc18-472d-9386-78ef36352c67"
      },
      "outputs": [
        {
          "name": "stderr",
          "output_type": "stream",
          "text": [
            "/usr/local/lib/python3.7/dist-packages/pandas/core/series.py:4536: SettingWithCopyWarning: \n",
            "A value is trying to be set on a copy of a slice from a DataFrame\n",
            "\n",
            "See the caveats in the documentation: https://pandas.pydata.org/pandas-docs/stable/user_guide/indexing.html#returning-a-view-versus-a-copy\n",
            "  downcast=downcast,\n"
          ]
        }
      ],
      "source": [
        "# age 칼럼은 평균으로 대체\n",
        "df.age.fillna(df.age.mean(), inplace= True)"
      ]
    },
    {
      "cell_type": "code",
      "execution_count": 8,
      "metadata": {
        "colab": {
          "base_uri": "https://localhost:8080/"
        },
        "id": "um9Kjm9O48aG",
        "outputId": "1fdb13d6-04b2-4eac-e368-e9ff6f1bf8f6"
      },
      "outputs": [
        {
          "data": {
            "text/plain": [
              "S    644\n",
              "C    168\n",
              "Q     77\n",
              "Name: embarked, dtype: int64"
            ]
          },
          "execution_count": 8,
          "metadata": {},
          "output_type": "execute_result"
        }
      ],
      "source": [
        "# embarked 컬럼은 최빈값으로 대체\n",
        "df.embarked.value_counts()"
      ]
    },
    {
      "cell_type": "code",
      "execution_count": 9,
      "metadata": {
        "colab": {
          "base_uri": "https://localhost:8080/"
        },
        "id": "GQ_qgdk35EYh",
        "outputId": "6cd4ccf2-270f-4d8c-e875-c05b0949f0fa"
      },
      "outputs": [
        {
          "name": "stderr",
          "output_type": "stream",
          "text": [
            "/usr/local/lib/python3.7/dist-packages/pandas/core/series.py:4536: SettingWithCopyWarning: \n",
            "A value is trying to be set on a copy of a slice from a DataFrame\n",
            "\n",
            "See the caveats in the documentation: https://pandas.pydata.org/pandas-docs/stable/user_guide/indexing.html#returning-a-view-versus-a-copy\n",
            "  downcast=downcast,\n"
          ]
        },
        {
          "data": {
            "text/plain": [
              "survived      0\n",
              "pclass        0\n",
              "sex           0\n",
              "age           0\n",
              "sibsp         0\n",
              "parch         0\n",
              "fare          0\n",
              "embarked      0\n",
              "deck        688\n",
              "dtype: int64"
            ]
          },
          "execution_count": 9,
          "metadata": {},
          "output_type": "execute_result"
        }
      ],
      "source": [
        "df.embarked.fillna('S', inplace =True)\n",
        "df.isna().sum()"
      ]
    },
    {
      "cell_type": "code",
      "execution_count": 10,
      "metadata": {
        "colab": {
          "base_uri": "https://localhost:8080/"
        },
        "id": "c6X1tBoK5W2L",
        "outputId": "8862fc74-c507-4a0c-ee50-facf942096fe"
      },
      "outputs": [
        {
          "name": "stderr",
          "output_type": "stream",
          "text": [
            "/usr/local/lib/python3.7/dist-packages/pandas/core/frame.py:4174: SettingWithCopyWarning: \n",
            "A value is trying to be set on a copy of a slice from a DataFrame\n",
            "\n",
            "See the caveats in the documentation: https://pandas.pydata.org/pandas-docs/stable/user_guide/indexing.html#returning-a-view-versus-a-copy\n",
            "  errors=errors,\n"
          ]
        },
        {
          "data": {
            "text/plain": [
              "survived    0\n",
              "pclass      0\n",
              "sex         0\n",
              "age         0\n",
              "sibsp       0\n",
              "parch       0\n",
              "fare        0\n",
              "embarked    0\n",
              "dtype: int64"
            ]
          },
          "execution_count": 10,
          "metadata": {},
          "output_type": "execute_result"
        }
      ],
      "source": [
        "# deck 컬럼은 삭제\n",
        "df.drop(columns = ['deck'], inplace = True)\n",
        "df.isna().sum()"
      ]
    },
    {
      "cell_type": "markdown",
      "metadata": {
        "id": "O1jF5b4D5jzf"
      },
      "source": [
        "- 카테고리 값인 sex, embarked 컬럼은 숫자로 변환"
      ]
    },
    {
      "cell_type": "code",
      "execution_count": 11,
      "metadata": {
        "id": "HyE-tyIZ5vwU"
      },
      "outputs": [],
      "source": [
        "from sklearn.preprocessing import LabelEncoder\n",
        "le = LabelEncoder()"
      ]
    },
    {
      "cell_type": "code",
      "execution_count": 12,
      "metadata": {
        "colab": {
          "base_uri": "https://localhost:8080/",
          "height": 206
        },
        "id": "Fl4rl0lL5481",
        "outputId": "258e96c5-fba7-49f6-af56-486f29c3fd42"
      },
      "outputs": [
        {
          "data": {
            "text/html": [
              "\n",
              "  <div id=\"df-5b07217d-328a-46ea-8087-1892d9bb46d4\">\n",
              "    <div class=\"colab-df-container\">\n",
              "      <div>\n",
              "<style scoped>\n",
              "    .dataframe tbody tr th:only-of-type {\n",
              "        vertical-align: middle;\n",
              "    }\n",
              "\n",
              "    .dataframe tbody tr th {\n",
              "        vertical-align: top;\n",
              "    }\n",
              "\n",
              "    .dataframe thead th {\n",
              "        text-align: right;\n",
              "    }\n",
              "</style>\n",
              "<table border=\"1\" class=\"dataframe\">\n",
              "  <thead>\n",
              "    <tr style=\"text-align: right;\">\n",
              "      <th></th>\n",
              "      <th>survived</th>\n",
              "      <th>pclass</th>\n",
              "      <th>sex</th>\n",
              "      <th>age</th>\n",
              "      <th>sibsp</th>\n",
              "      <th>parch</th>\n",
              "      <th>fare</th>\n",
              "      <th>embarked</th>\n",
              "    </tr>\n",
              "  </thead>\n",
              "  <tbody>\n",
              "    <tr>\n",
              "      <th>0</th>\n",
              "      <td>0</td>\n",
              "      <td>3</td>\n",
              "      <td>1</td>\n",
              "      <td>22.0</td>\n",
              "      <td>1</td>\n",
              "      <td>0</td>\n",
              "      <td>7.2500</td>\n",
              "      <td>2</td>\n",
              "    </tr>\n",
              "    <tr>\n",
              "      <th>1</th>\n",
              "      <td>1</td>\n",
              "      <td>1</td>\n",
              "      <td>0</td>\n",
              "      <td>38.0</td>\n",
              "      <td>1</td>\n",
              "      <td>0</td>\n",
              "      <td>71.2833</td>\n",
              "      <td>0</td>\n",
              "    </tr>\n",
              "    <tr>\n",
              "      <th>2</th>\n",
              "      <td>1</td>\n",
              "      <td>3</td>\n",
              "      <td>0</td>\n",
              "      <td>26.0</td>\n",
              "      <td>0</td>\n",
              "      <td>0</td>\n",
              "      <td>7.9250</td>\n",
              "      <td>2</td>\n",
              "    </tr>\n",
              "    <tr>\n",
              "      <th>3</th>\n",
              "      <td>1</td>\n",
              "      <td>1</td>\n",
              "      <td>0</td>\n",
              "      <td>35.0</td>\n",
              "      <td>1</td>\n",
              "      <td>0</td>\n",
              "      <td>53.1000</td>\n",
              "      <td>2</td>\n",
              "    </tr>\n",
              "    <tr>\n",
              "      <th>4</th>\n",
              "      <td>0</td>\n",
              "      <td>3</td>\n",
              "      <td>1</td>\n",
              "      <td>35.0</td>\n",
              "      <td>0</td>\n",
              "      <td>0</td>\n",
              "      <td>8.0500</td>\n",
              "      <td>2</td>\n",
              "    </tr>\n",
              "  </tbody>\n",
              "</table>\n",
              "</div>\n",
              "      <button class=\"colab-df-convert\" onclick=\"convertToInteractive('df-5b07217d-328a-46ea-8087-1892d9bb46d4')\"\n",
              "              title=\"Convert this dataframe to an interactive table.\"\n",
              "              style=\"display:none;\">\n",
              "        \n",
              "  <svg xmlns=\"http://www.w3.org/2000/svg\" height=\"24px\"viewBox=\"0 0 24 24\"\n",
              "       width=\"24px\">\n",
              "    <path d=\"M0 0h24v24H0V0z\" fill=\"none\"/>\n",
              "    <path d=\"M18.56 5.44l.94 2.06.94-2.06 2.06-.94-2.06-.94-.94-2.06-.94 2.06-2.06.94zm-11 1L8.5 8.5l.94-2.06 2.06-.94-2.06-.94L8.5 2.5l-.94 2.06-2.06.94zm10 10l.94 2.06.94-2.06 2.06-.94-2.06-.94-.94-2.06-.94 2.06-2.06.94z\"/><path d=\"M17.41 7.96l-1.37-1.37c-.4-.4-.92-.59-1.43-.59-.52 0-1.04.2-1.43.59L10.3 9.45l-7.72 7.72c-.78.78-.78 2.05 0 2.83L4 21.41c.39.39.9.59 1.41.59.51 0 1.02-.2 1.41-.59l7.78-7.78 2.81-2.81c.8-.78.8-2.07 0-2.86zM5.41 20L4 18.59l7.72-7.72 1.47 1.35L5.41 20z\"/>\n",
              "  </svg>\n",
              "      </button>\n",
              "      \n",
              "  <style>\n",
              "    .colab-df-container {\n",
              "      display:flex;\n",
              "      flex-wrap:wrap;\n",
              "      gap: 12px;\n",
              "    }\n",
              "\n",
              "    .colab-df-convert {\n",
              "      background-color: #E8F0FE;\n",
              "      border: none;\n",
              "      border-radius: 50%;\n",
              "      cursor: pointer;\n",
              "      display: none;\n",
              "      fill: #1967D2;\n",
              "      height: 32px;\n",
              "      padding: 0 0 0 0;\n",
              "      width: 32px;\n",
              "    }\n",
              "\n",
              "    .colab-df-convert:hover {\n",
              "      background-color: #E2EBFA;\n",
              "      box-shadow: 0px 1px 2px rgba(60, 64, 67, 0.3), 0px 1px 3px 1px rgba(60, 64, 67, 0.15);\n",
              "      fill: #174EA6;\n",
              "    }\n",
              "\n",
              "    [theme=dark] .colab-df-convert {\n",
              "      background-color: #3B4455;\n",
              "      fill: #D2E3FC;\n",
              "    }\n",
              "\n",
              "    [theme=dark] .colab-df-convert:hover {\n",
              "      background-color: #434B5C;\n",
              "      box-shadow: 0px 1px 3px 1px rgba(0, 0, 0, 0.15);\n",
              "      filter: drop-shadow(0px 1px 2px rgba(0, 0, 0, 0.3));\n",
              "      fill: #FFFFFF;\n",
              "    }\n",
              "  </style>\n",
              "\n",
              "      <script>\n",
              "        const buttonEl =\n",
              "          document.querySelector('#df-5b07217d-328a-46ea-8087-1892d9bb46d4 button.colab-df-convert');\n",
              "        buttonEl.style.display =\n",
              "          google.colab.kernel.accessAllowed ? 'block' : 'none';\n",
              "\n",
              "        async function convertToInteractive(key) {\n",
              "          const element = document.querySelector('#df-5b07217d-328a-46ea-8087-1892d9bb46d4');\n",
              "          const dataTable =\n",
              "            await google.colab.kernel.invokeFunction('convertToInteractive',\n",
              "                                                     [key], {});\n",
              "          if (!dataTable) return;\n",
              "\n",
              "          const docLinkHtml = 'Like what you see? Visit the ' +\n",
              "            '<a target=\"_blank\" href=https://colab.research.google.com/notebooks/data_table.ipynb>data table notebook</a>'\n",
              "            + ' to learn more about interactive tables.';\n",
              "          element.innerHTML = '';\n",
              "          dataTable['output_type'] = 'display_data';\n",
              "          await google.colab.output.renderOutput(dataTable, element);\n",
              "          const docLink = document.createElement('div');\n",
              "          docLink.innerHTML = docLinkHtml;\n",
              "          element.appendChild(docLink);\n",
              "        }\n",
              "      </script>\n",
              "    </div>\n",
              "  </div>\n",
              "  "
            ],
            "text/plain": [
              "   survived  pclass  sex   age  sibsp  parch     fare  embarked\n",
              "0         0       3    1  22.0      1      0   7.2500         2\n",
              "1         1       1    0  38.0      1      0  71.2833         0\n",
              "2         1       3    0  26.0      0      0   7.9250         2\n",
              "3         1       1    0  35.0      1      0  53.1000         2\n",
              "4         0       3    1  35.0      0      0   8.0500         2"
            ]
          },
          "execution_count": 12,
          "metadata": {},
          "output_type": "execute_result"
        }
      ],
      "source": [
        "df.sex = le.fit_transform(df.sex)\n",
        "df.embarked = le.fit_transform(df.embarked)\n",
        "df.head()"
      ]
    },
    {
      "cell_type": "markdown",
      "metadata": {
        "id": "-ZK_hMuI6X1i"
      },
      "source": [
        "2. Train/Test dataset으로 분리"
      ]
    },
    {
      "cell_type": "code",
      "execution_count": 13,
      "metadata": {
        "colab": {
          "base_uri": "https://localhost:8080/"
        },
        "id": "FMNoV7ew6jc6",
        "outputId": "1b6577ec-90cd-42be-9808-f2e3d1ab6606"
      },
      "outputs": [
        {
          "data": {
            "text/plain": [
              "((891, 7), (891,))"
            ]
          },
          "execution_count": 13,
          "metadata": {},
          "output_type": "execute_result"
        }
      ],
      "source": [
        "# X와 y를 넘파이 배열로\n",
        "X = df.iloc[:,1:].values\n",
        "y = df.survived.values\n",
        "X.shape, y.shape"
      ]
    },
    {
      "cell_type": "code",
      "execution_count": 14,
      "metadata": {
        "colab": {
          "base_uri": "https://localhost:8080/"
        },
        "id": "YXdRiluK6pWx",
        "outputId": "d56e6be8-b42c-4fb8-e602-4eeab9becbcb"
      },
      "outputs": [
        {
          "data": {
            "text/plain": [
              "0    549\n",
              "1    342\n",
              "Name: survived, dtype: int64"
            ]
          },
          "execution_count": 14,
          "metadata": {},
          "output_type": "execute_result"
        }
      ],
      "source": [
        "# y값의 분포\n",
        "df.survived.value_counts()"
      ]
    },
    {
      "cell_type": "code",
      "execution_count": 15,
      "metadata": {
        "colab": {
          "base_uri": "https://localhost:8080/"
        },
        "id": "ui7XIbro6tjL",
        "outputId": "169586fc-3d33-4b29-e3dd-c47b9895a125"
      },
      "outputs": [
        {
          "data": {
            "text/plain": [
              "((712, 7), (179, 7), (712,), (179,))"
            ]
          },
          "execution_count": 15,
          "metadata": {},
          "output_type": "execute_result"
        }
      ],
      "source": [
        "from sklearn.model_selection import train_test_split\n",
        "X_train, X_test, y_train, y_test = train_test_split(\n",
        "    X, y, stratify=y, test_size=0.2, random_state=2022\n",
        ")\n",
        "X_train.shape, X_test.shape, y_train.shape, y_test.shape"
      ]
    },
    {
      "cell_type": "code",
      "execution_count": 16,
      "metadata": {
        "colab": {
          "base_uri": "https://localhost:8080/"
        },
        "id": "uw9kBgnZ6vdz",
        "outputId": "c7fd316b-06dd-4b5f-f011-ff17fea9ee83"
      },
      "outputs": [
        {
          "data": {
            "text/plain": [
              "(array([0, 1]), array([439, 273]))"
            ]
          },
          "execution_count": 16,
          "metadata": {},
          "output_type": "execute_result"
        }
      ],
      "source": [
        "np.unique(y_train, return_counts=True)"
      ]
    },
    {
      "cell_type": "markdown",
      "metadata": {
        "id": "83lT4NruAo5R"
      },
      "source": [
        "- 모델 저장조건 설정"
      ]
    },
    {
      "cell_type": "code",
      "execution_count": 17,
      "metadata": {
        "id": "yLEjbghFArm5"
      },
      "outputs": [],
      "source": [
        "from tensorflow.keras.callbacks import ModelCheckpoint"
      ]
    },
    {
      "cell_type": "code",
      "execution_count": 18,
      "metadata": {
        "id": "UKy3XX24Azs8"
      },
      "outputs": [],
      "source": [
        "import os\n",
        "if not os.path.exists('model'):\n",
        "    os.mkdir('model')"
      ]
    },
    {
      "cell_type": "code",
      "execution_count": 19,
      "metadata": {
        "id": "tn14Tv5aA2GD"
      },
      "outputs": [],
      "source": [
        "model_path = 'model/titanic.h5'\n",
        "checkpoint = ModelCheckpoint(\n",
        "    model_path, monitor= 'val_loss', verbose = 1, save_best_only = True\n",
        ")"
      ]
    },
    {
      "cell_type": "markdown",
      "metadata": {
        "id": "v0eJ309y8O-i"
      },
      "source": [
        "- X값 StandardScaler"
      ]
    },
    {
      "cell_type": "code",
      "execution_count": 20,
      "metadata": {
        "colab": {
          "base_uri": "https://localhost:8080/"
        },
        "id": "-RWALYya7piP",
        "outputId": "6730373e-d013-415e-a5d0-9b5ad4eb12ff"
      },
      "outputs": [
        {
          "data": {
            "text/plain": [
              "(891, 7)"
            ]
          },
          "execution_count": 20,
          "metadata": {},
          "output_type": "execute_result"
        }
      ],
      "source": [
        "from sklearn.preprocessing import StandardScaler\n",
        "X_scaled = StandardScaler().fit_transform(X)\n",
        "X_scaled.shape"
      ]
    },
    {
      "cell_type": "code",
      "execution_count": 21,
      "metadata": {
        "colab": {
          "base_uri": "https://localhost:8080/"
        },
        "id": "Xm0exzRZ7_VM",
        "outputId": "571cfbd2-fa39-4261-a737-d62185e11b3e"
      },
      "outputs": [
        {
          "data": {
            "text/plain": [
              "(891,)"
            ]
          },
          "execution_count": 21,
          "metadata": {},
          "output_type": "execute_result"
        }
      ],
      "source": [
        "y.shape"
      ]
    },
    {
      "cell_type": "markdown",
      "metadata": {
        "id": "Bwwpi2Yq8K3U"
      },
      "source": [
        "- 모델 정의/설정/학습평가"
      ]
    },
    {
      "cell_type": "code",
      "execution_count": 22,
      "metadata": {
        "id": "38EoTQ9Q8YXk"
      },
      "outputs": [],
      "source": [
        "from tensorflow.keras.models import Sequential\n",
        "from tensorflow.keras.layers import Dense"
      ]
    },
    {
      "cell_type": "code",
      "execution_count": 23,
      "metadata": {
        "colab": {
          "base_uri": "https://localhost:8080/"
        },
        "id": "TYaKlaQ19hqs",
        "outputId": "cf98b997-ade0-47df-86b7-98d7747ffe00"
      },
      "outputs": [
        {
          "name": "stdout",
          "output_type": "stream",
          "text": [
            "Model: \"sequential\"\n",
            "_________________________________________________________________\n",
            " Layer (type)                Output Shape              Param #   \n",
            "=================================================================\n",
            " dense (Dense)               (None, 30)                240       \n",
            "                                                                 \n",
            " dense_1 (Dense)             (None, 15)                465       \n",
            "                                                                 \n",
            " dense_2 (Dense)             (None, 1)                 16        \n",
            "                                                                 \n",
            "=================================================================\n",
            "Total params: 721\n",
            "Trainable params: 721\n",
            "Non-trainable params: 0\n",
            "_________________________________________________________________\n"
          ]
        }
      ],
      "source": [
        "model = Sequential([\n",
        "    Dense(30, input_dim=7, activation= 'relu'),  # Hiddem Layer\n",
        "    Dense(15, activation= 'relu'),\n",
        "    Dense(1, activation= 'sigmoid')              # Output Layer\n",
        "])\n",
        "model.summary()"
      ]
    },
    {
      "cell_type": "markdown",
      "metadata": {
        "id": "QERk_bGE-7w7"
      },
      "source": [
        "- 실행 환경 설정(complie)"
      ]
    },
    {
      "cell_type": "code",
      "execution_count": 24,
      "metadata": {
        "id": "GtXiXAVcAePG"
      },
      "outputs": [],
      "source": [
        "from tensorflow.keras.callbacks import EarlyStopping\n",
        "\n",
        "early_stopping = EarlyStopping(patience = 30)"
      ]
    },
    {
      "cell_type": "code",
      "execution_count": 25,
      "metadata": {
        "id": "LiljCJjh-dNV"
      },
      "outputs": [],
      "source": [
        "model.compile(\n",
        "    optimizer= 'adam',\n",
        "    loss = 'binary_crossentropy',        \n",
        "    metrics=['accuracy']                       \n",
        "\n",
        ")"
      ]
    },
    {
      "cell_type": "code",
      "execution_count": 26,
      "metadata": {
        "colab": {
          "base_uri": "https://localhost:8080/"
        },
        "id": "1SqlWanj_AYD",
        "outputId": "dacd5213-8af0-4406-fd57-ef3d881396c7"
      },
      "outputs": [
        {
          "name": "stdout",
          "output_type": "stream",
          "text": [
            "\n",
            "Epoch 00001: val_loss improved from inf to 1.18278, saving model to model/titanic.h5\n",
            "\n",
            "Epoch 00002: val_loss improved from 1.18278 to 0.87903, saving model to model/titanic.h5\n",
            "\n",
            "Epoch 00003: val_loss improved from 0.87903 to 0.63671, saving model to model/titanic.h5\n",
            "\n",
            "Epoch 00004: val_loss improved from 0.63671 to 0.55104, saving model to model/titanic.h5\n",
            "\n",
            "Epoch 00005: val_loss improved from 0.55104 to 0.51989, saving model to model/titanic.h5\n",
            "\n",
            "Epoch 00006: val_loss improved from 0.51989 to 0.50954, saving model to model/titanic.h5\n",
            "\n",
            "Epoch 00007: val_loss did not improve from 0.50954\n",
            "\n",
            "Epoch 00008: val_loss improved from 0.50954 to 0.49698, saving model to model/titanic.h5\n",
            "\n",
            "Epoch 00009: val_loss did not improve from 0.49698\n",
            "\n",
            "Epoch 00010: val_loss did not improve from 0.49698\n",
            "\n",
            "Epoch 00011: val_loss did not improve from 0.49698\n",
            "\n",
            "Epoch 00012: val_loss improved from 0.49698 to 0.47891, saving model to model/titanic.h5\n",
            "\n",
            "Epoch 00013: val_loss did not improve from 0.47891\n",
            "\n",
            "Epoch 00014: val_loss did not improve from 0.47891\n",
            "\n",
            "Epoch 00015: val_loss improved from 0.47891 to 0.47877, saving model to model/titanic.h5\n",
            "\n",
            "Epoch 00016: val_loss did not improve from 0.47877\n",
            "\n",
            "Epoch 00017: val_loss improved from 0.47877 to 0.46630, saving model to model/titanic.h5\n",
            "\n",
            "Epoch 00018: val_loss did not improve from 0.46630\n",
            "\n",
            "Epoch 00019: val_loss improved from 0.46630 to 0.45108, saving model to model/titanic.h5\n",
            "\n",
            "Epoch 00020: val_loss did not improve from 0.45108\n",
            "\n",
            "Epoch 00021: val_loss did not improve from 0.45108\n",
            "\n",
            "Epoch 00022: val_loss did not improve from 0.45108\n",
            "\n",
            "Epoch 00023: val_loss improved from 0.45108 to 0.44632, saving model to model/titanic.h5\n",
            "\n",
            "Epoch 00024: val_loss did not improve from 0.44632\n",
            "\n",
            "Epoch 00025: val_loss improved from 0.44632 to 0.43711, saving model to model/titanic.h5\n",
            "\n",
            "Epoch 00026: val_loss did not improve from 0.43711\n",
            "\n",
            "Epoch 00027: val_loss did not improve from 0.43711\n",
            "\n",
            "Epoch 00028: val_loss did not improve from 0.43711\n",
            "\n",
            "Epoch 00029: val_loss improved from 0.43711 to 0.43045, saving model to model/titanic.h5\n",
            "\n",
            "Epoch 00030: val_loss did not improve from 0.43045\n",
            "\n",
            "Epoch 00031: val_loss did not improve from 0.43045\n",
            "\n",
            "Epoch 00032: val_loss did not improve from 0.43045\n",
            "\n",
            "Epoch 00033: val_loss did not improve from 0.43045\n",
            "\n",
            "Epoch 00034: val_loss improved from 0.43045 to 0.41559, saving model to model/titanic.h5\n",
            "\n",
            "Epoch 00035: val_loss did not improve from 0.41559\n",
            "\n",
            "Epoch 00036: val_loss improved from 0.41559 to 0.40476, saving model to model/titanic.h5\n",
            "\n",
            "Epoch 00037: val_loss did not improve from 0.40476\n",
            "\n",
            "Epoch 00038: val_loss improved from 0.40476 to 0.39693, saving model to model/titanic.h5\n",
            "\n",
            "Epoch 00039: val_loss did not improve from 0.39693\n",
            "\n",
            "Epoch 00040: val_loss did not improve from 0.39693\n",
            "\n",
            "Epoch 00041: val_loss improved from 0.39693 to 0.38924, saving model to model/titanic.h5\n",
            "\n",
            "Epoch 00042: val_loss did not improve from 0.38924\n",
            "\n",
            "Epoch 00043: val_loss did not improve from 0.38924\n",
            "\n",
            "Epoch 00044: val_loss did not improve from 0.38924\n",
            "\n",
            "Epoch 00045: val_loss did not improve from 0.38924\n",
            "\n",
            "Epoch 00046: val_loss improved from 0.38924 to 0.38206, saving model to model/titanic.h5\n",
            "\n",
            "Epoch 00047: val_loss did not improve from 0.38206\n",
            "\n",
            "Epoch 00048: val_loss did not improve from 0.38206\n",
            "\n",
            "Epoch 00049: val_loss improved from 0.38206 to 0.37915, saving model to model/titanic.h5\n",
            "\n",
            "Epoch 00050: val_loss did not improve from 0.37915\n",
            "\n",
            "Epoch 00051: val_loss did not improve from 0.37915\n",
            "\n",
            "Epoch 00052: val_loss did not improve from 0.37915\n",
            "\n",
            "Epoch 00053: val_loss did not improve from 0.37915\n",
            "\n",
            "Epoch 00054: val_loss improved from 0.37915 to 0.37811, saving model to model/titanic.h5\n",
            "\n",
            "Epoch 00055: val_loss did not improve from 0.37811\n",
            "\n",
            "Epoch 00056: val_loss improved from 0.37811 to 0.36605, saving model to model/titanic.h5\n",
            "\n",
            "Epoch 00057: val_loss did not improve from 0.36605\n",
            "\n",
            "Epoch 00058: val_loss did not improve from 0.36605\n",
            "\n",
            "Epoch 00059: val_loss did not improve from 0.36605\n",
            "\n",
            "Epoch 00060: val_loss improved from 0.36605 to 0.36525, saving model to model/titanic.h5\n",
            "\n",
            "Epoch 00061: val_loss did not improve from 0.36525\n",
            "\n",
            "Epoch 00062: val_loss did not improve from 0.36525\n",
            "\n",
            "Epoch 00063: val_loss did not improve from 0.36525\n",
            "\n",
            "Epoch 00064: val_loss improved from 0.36525 to 0.36090, saving model to model/titanic.h5\n",
            "\n",
            "Epoch 00065: val_loss did not improve from 0.36090\n",
            "\n",
            "Epoch 00066: val_loss did not improve from 0.36090\n",
            "\n",
            "Epoch 00067: val_loss did not improve from 0.36090\n",
            "\n",
            "Epoch 00068: val_loss did not improve from 0.36090\n",
            "\n",
            "Epoch 00069: val_loss did not improve from 0.36090\n",
            "\n",
            "Epoch 00070: val_loss did not improve from 0.36090\n",
            "\n",
            "Epoch 00071: val_loss did not improve from 0.36090\n",
            "\n",
            "Epoch 00072: val_loss did not improve from 0.36090\n",
            "\n",
            "Epoch 00073: val_loss did not improve from 0.36090\n",
            "\n",
            "Epoch 00074: val_loss did not improve from 0.36090\n",
            "\n",
            "Epoch 00075: val_loss improved from 0.36090 to 0.36055, saving model to model/titanic.h5\n",
            "\n",
            "Epoch 00076: val_loss did not improve from 0.36055\n",
            "\n",
            "Epoch 00077: val_loss did not improve from 0.36055\n",
            "\n",
            "Epoch 00078: val_loss did not improve from 0.36055\n",
            "\n",
            "Epoch 00079: val_loss did not improve from 0.36055\n",
            "\n",
            "Epoch 00080: val_loss did not improve from 0.36055\n",
            "\n",
            "Epoch 00081: val_loss did not improve from 0.36055\n",
            "\n",
            "Epoch 00082: val_loss did not improve from 0.36055\n",
            "\n",
            "Epoch 00083: val_loss did not improve from 0.36055\n",
            "\n",
            "Epoch 00084: val_loss did not improve from 0.36055\n",
            "\n",
            "Epoch 00085: val_loss did not improve from 0.36055\n",
            "\n",
            "Epoch 00086: val_loss did not improve from 0.36055\n",
            "\n",
            "Epoch 00087: val_loss did not improve from 0.36055\n",
            "\n",
            "Epoch 00088: val_loss did not improve from 0.36055\n",
            "\n",
            "Epoch 00089: val_loss did not improve from 0.36055\n",
            "\n",
            "Epoch 00090: val_loss improved from 0.36055 to 0.35080, saving model to model/titanic.h5\n",
            "\n",
            "Epoch 00091: val_loss did not improve from 0.35080\n",
            "\n",
            "Epoch 00092: val_loss did not improve from 0.35080\n",
            "\n",
            "Epoch 00093: val_loss did not improve from 0.35080\n",
            "\n",
            "Epoch 00094: val_loss did not improve from 0.35080\n",
            "\n",
            "Epoch 00095: val_loss did not improve from 0.35080\n",
            "\n",
            "Epoch 00096: val_loss did not improve from 0.35080\n",
            "\n",
            "Epoch 00097: val_loss did not improve from 0.35080\n",
            "\n",
            "Epoch 00098: val_loss did not improve from 0.35080\n",
            "\n",
            "Epoch 00099: val_loss did not improve from 0.35080\n",
            "\n",
            "Epoch 00100: val_loss did not improve from 0.35080\n",
            "\n",
            "Epoch 00101: val_loss did not improve from 0.35080\n",
            "\n",
            "Epoch 00102: val_loss did not improve from 0.35080\n",
            "\n",
            "Epoch 00103: val_loss did not improve from 0.35080\n",
            "\n",
            "Epoch 00104: val_loss did not improve from 0.35080\n",
            "\n",
            "Epoch 00105: val_loss did not improve from 0.35080\n",
            "\n",
            "Epoch 00106: val_loss did not improve from 0.35080\n",
            "\n",
            "Epoch 00107: val_loss improved from 0.35080 to 0.34564, saving model to model/titanic.h5\n",
            "\n",
            "Epoch 00108: val_loss did not improve from 0.34564\n",
            "\n",
            "Epoch 00109: val_loss did not improve from 0.34564\n",
            "\n",
            "Epoch 00110: val_loss did not improve from 0.34564\n",
            "\n",
            "Epoch 00111: val_loss improved from 0.34564 to 0.34348, saving model to model/titanic.h5\n",
            "\n",
            "Epoch 00112: val_loss did not improve from 0.34348\n",
            "\n",
            "Epoch 00113: val_loss did not improve from 0.34348\n",
            "\n",
            "Epoch 00114: val_loss did not improve from 0.34348\n",
            "\n",
            "Epoch 00115: val_loss did not improve from 0.34348\n",
            "\n",
            "Epoch 00116: val_loss did not improve from 0.34348\n",
            "\n",
            "Epoch 00117: val_loss did not improve from 0.34348\n",
            "\n",
            "Epoch 00118: val_loss did not improve from 0.34348\n",
            "\n",
            "Epoch 00119: val_loss did not improve from 0.34348\n",
            "\n",
            "Epoch 00120: val_loss did not improve from 0.34348\n",
            "\n",
            "Epoch 00121: val_loss did not improve from 0.34348\n",
            "\n",
            "Epoch 00122: val_loss did not improve from 0.34348\n",
            "\n",
            "Epoch 00123: val_loss did not improve from 0.34348\n",
            "\n",
            "Epoch 00124: val_loss did not improve from 0.34348\n",
            "\n",
            "Epoch 00125: val_loss did not improve from 0.34348\n",
            "\n",
            "Epoch 00126: val_loss did not improve from 0.34348\n",
            "\n",
            "Epoch 00127: val_loss did not improve from 0.34348\n",
            "\n",
            "Epoch 00128: val_loss did not improve from 0.34348\n",
            "\n",
            "Epoch 00129: val_loss did not improve from 0.34348\n",
            "\n",
            "Epoch 00130: val_loss did not improve from 0.34348\n",
            "\n",
            "Epoch 00131: val_loss did not improve from 0.34348\n",
            "\n",
            "Epoch 00132: val_loss did not improve from 0.34348\n",
            "\n",
            "Epoch 00133: val_loss did not improve from 0.34348\n",
            "\n",
            "Epoch 00134: val_loss did not improve from 0.34348\n",
            "\n",
            "Epoch 00135: val_loss did not improve from 0.34348\n",
            "\n",
            "Epoch 00136: val_loss did not improve from 0.34348\n",
            "\n",
            "Epoch 00137: val_loss did not improve from 0.34348\n",
            "\n",
            "Epoch 00138: val_loss did not improve from 0.34348\n",
            "\n",
            "Epoch 00139: val_loss did not improve from 0.34348\n",
            "\n",
            "Epoch 00140: val_loss did not improve from 0.34348\n",
            "\n",
            "Epoch 00141: val_loss improved from 0.34348 to 0.34097, saving model to model/titanic.h5\n",
            "\n",
            "Epoch 00142: val_loss did not improve from 0.34097\n",
            "\n",
            "Epoch 00143: val_loss did not improve from 0.34097\n",
            "\n",
            "Epoch 00144: val_loss did not improve from 0.34097\n",
            "\n",
            "Epoch 00145: val_loss did not improve from 0.34097\n",
            "\n",
            "Epoch 00146: val_loss did not improve from 0.34097\n",
            "\n",
            "Epoch 00147: val_loss did not improve from 0.34097\n",
            "\n",
            "Epoch 00148: val_loss did not improve from 0.34097\n",
            "\n",
            "Epoch 00149: val_loss did not improve from 0.34097\n",
            "\n",
            "Epoch 00150: val_loss did not improve from 0.34097\n",
            "\n",
            "Epoch 00151: val_loss did not improve from 0.34097\n",
            "\n",
            "Epoch 00152: val_loss did not improve from 0.34097\n",
            "\n",
            "Epoch 00153: val_loss did not improve from 0.34097\n",
            "\n",
            "Epoch 00154: val_loss did not improve from 0.34097\n",
            "\n",
            "Epoch 00155: val_loss did not improve from 0.34097\n",
            "\n",
            "Epoch 00156: val_loss did not improve from 0.34097\n",
            "\n",
            "Epoch 00157: val_loss did not improve from 0.34097\n",
            "\n",
            "Epoch 00158: val_loss did not improve from 0.34097\n",
            "\n",
            "Epoch 00159: val_loss did not improve from 0.34097\n",
            "\n",
            "Epoch 00160: val_loss improved from 0.34097 to 0.33789, saving model to model/titanic.h5\n",
            "\n",
            "Epoch 00161: val_loss did not improve from 0.33789\n",
            "\n",
            "Epoch 00162: val_loss did not improve from 0.33789\n",
            "\n",
            "Epoch 00163: val_loss did not improve from 0.33789\n",
            "\n",
            "Epoch 00164: val_loss did not improve from 0.33789\n",
            "\n",
            "Epoch 00165: val_loss did not improve from 0.33789\n",
            "\n",
            "Epoch 00166: val_loss did not improve from 0.33789\n",
            "\n",
            "Epoch 00167: val_loss did not improve from 0.33789\n",
            "\n",
            "Epoch 00168: val_loss did not improve from 0.33789\n",
            "\n",
            "Epoch 00169: val_loss did not improve from 0.33789\n",
            "\n",
            "Epoch 00170: val_loss did not improve from 0.33789\n",
            "\n",
            "Epoch 00171: val_loss did not improve from 0.33789\n",
            "\n",
            "Epoch 00172: val_loss did not improve from 0.33789\n",
            "\n",
            "Epoch 00173: val_loss did not improve from 0.33789\n",
            "\n",
            "Epoch 00174: val_loss did not improve from 0.33789\n",
            "\n",
            "Epoch 00175: val_loss did not improve from 0.33789\n",
            "\n",
            "Epoch 00176: val_loss did not improve from 0.33789\n",
            "\n",
            "Epoch 00177: val_loss did not improve from 0.33789\n",
            "\n",
            "Epoch 00178: val_loss did not improve from 0.33789\n",
            "\n",
            "Epoch 00179: val_loss did not improve from 0.33789\n",
            "\n",
            "Epoch 00180: val_loss did not improve from 0.33789\n",
            "\n",
            "Epoch 00181: val_loss improved from 0.33789 to 0.33558, saving model to model/titanic.h5\n",
            "\n",
            "Epoch 00182: val_loss did not improve from 0.33558\n",
            "\n",
            "Epoch 00183: val_loss did not improve from 0.33558\n",
            "\n",
            "Epoch 00184: val_loss did not improve from 0.33558\n",
            "\n",
            "Epoch 00185: val_loss did not improve from 0.33558\n",
            "\n",
            "Epoch 00186: val_loss did not improve from 0.33558\n",
            "\n",
            "Epoch 00187: val_loss did not improve from 0.33558\n",
            "\n",
            "Epoch 00188: val_loss did not improve from 0.33558\n",
            "\n",
            "Epoch 00189: val_loss did not improve from 0.33558\n",
            "\n",
            "Epoch 00190: val_loss did not improve from 0.33558\n",
            "\n",
            "Epoch 00191: val_loss did not improve from 0.33558\n",
            "\n",
            "Epoch 00192: val_loss did not improve from 0.33558\n",
            "\n",
            "Epoch 00193: val_loss did not improve from 0.33558\n",
            "\n",
            "Epoch 00194: val_loss did not improve from 0.33558\n",
            "\n",
            "Epoch 00195: val_loss did not improve from 0.33558\n",
            "\n",
            "Epoch 00196: val_loss did not improve from 0.33558\n",
            "\n",
            "Epoch 00197: val_loss did not improve from 0.33558\n",
            "\n",
            "Epoch 00198: val_loss did not improve from 0.33558\n",
            "\n",
            "Epoch 00199: val_loss did not improve from 0.33558\n",
            "\n",
            "Epoch 00200: val_loss did not improve from 0.33558\n",
            "\n",
            "Epoch 00201: val_loss did not improve from 0.33558\n",
            "\n",
            "Epoch 00202: val_loss did not improve from 0.33558\n",
            "\n",
            "Epoch 00203: val_loss did not improve from 0.33558\n",
            "\n",
            "Epoch 00204: val_loss did not improve from 0.33558\n",
            "\n",
            "Epoch 00205: val_loss did not improve from 0.33558\n",
            "\n",
            "Epoch 00206: val_loss did not improve from 0.33558\n",
            "\n",
            "Epoch 00207: val_loss did not improve from 0.33558\n",
            "\n",
            "Epoch 00208: val_loss did not improve from 0.33558\n",
            "\n",
            "Epoch 00209: val_loss did not improve from 0.33558\n",
            "\n",
            "Epoch 00210: val_loss did not improve from 0.33558\n",
            "\n",
            "Epoch 00211: val_loss did not improve from 0.33558\n"
          ]
        }
      ],
      "source": [
        "hist = model.fit(\n",
        "    X,  y, validation_split = 0.2, epochs =300, \n",
        "    batch_size = 50, verbose =0, callbacks=[checkpoint, early_stopping]\n",
        ")"
      ]
    },
    {
      "cell_type": "code",
      "execution_count": 27,
      "metadata": {
        "colab": {
          "base_uri": "https://localhost:8080/"
        },
        "id": "gpMOVCFx_Kao",
        "outputId": "886a2f92-3d39-45b3-d787-e410caef3b1f"
      },
      "outputs": [
        {
          "name": "stdout",
          "output_type": "stream",
          "text": [
            "6/6 [==============================] - 0s 2ms/step - loss: 0.3900 - accuracy: 0.8492\n"
          ]
        },
        {
          "data": {
            "text/plain": [
              "[0.3899904489517212, 0.8491619825363159]"
            ]
          },
          "execution_count": 27,
          "metadata": {},
          "output_type": "execute_result"
        }
      ],
      "source": [
        "from tensorflow.keras.models import load_model\n",
        "best_model = load_model(model_path)\n",
        "best_model.evaluate(X_test, y_test)"
      ]
    },
    {
      "cell_type": "code",
      "execution_count": 27,
      "metadata": {
        "id": "J0ipMZnqD5Ie"
      },
      "outputs": [],
      "source": []
    }
  ],
  "metadata": {
    "colab": {
      "collapsed_sections": [],
      "name": "타이타닉_이진분류실습.ipynb",
      "provenance": []
    },
    "kernelspec": {
      "display_name": "Python 3",
      "name": "python3"
    },
    "language_info": {
      "name": "python"
    }
  },
  "nbformat": 4,
  "nbformat_minor": 0
}
