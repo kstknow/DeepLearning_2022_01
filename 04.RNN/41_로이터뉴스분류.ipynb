{
  "nbformat": 4,
  "nbformat_minor": 0,
  "metadata": {
    "colab": {
      "name": "41.로이터뉴스분류.ipynb",
      "provenance": [],
      "collapsed_sections": []
    },
    "kernelspec": {
      "name": "python3",
      "display_name": "Python 3"
    },
    "language_info": {
      "name": "python"
    },
    "accelerator": "GPU"
  },
  "cells": [
    {
      "cell_type": "markdown",
      "source": [
        "## 로이터 뉴스 분류하기 - LSTM\n",
        "- 케라스에서 데이터셋 불러온다."
      ],
      "metadata": {
        "id": "9cAUoPootlvb"
      }
    },
    {
      "cell_type": "code",
      "source": [
        "import numpy as np\n",
        "import seaborn as sns\n",
        "import matplotlib.pyplot as plt\n",
        "from tensorflow.keras.datasets import reuters\n",
        "import warnings\n",
        "warnings.filterwarnings('ignore')"
      ],
      "metadata": {
        "id": "97UfDnDPts6K"
      },
      "execution_count": 1,
      "outputs": []
    },
    {
      "cell_type": "code",
      "source": [
        "(X_train, y_train), (X_test, y_test) = reuters.load_data() # 튜플로 받는다."
      ],
      "metadata": {
        "colab": {
          "base_uri": "https://localhost:8080/"
        },
        "id": "M7WeEzxsuJ6o",
        "outputId": "06197951-4913-46c2-ff14-bbad13228f39"
      },
      "execution_count": 2,
      "outputs": [
        {
          "output_type": "stream",
          "name": "stdout",
          "text": [
            "Downloading data from https://storage.googleapis.com/tensorflow/tf-keras-datasets/reuters.npz\n",
            "2113536/2110848 [==============================] - 0s 0us/step\n",
            "2121728/2110848 [==============================] - 0s 0us/step\n"
          ]
        }
      ]
    },
    {
      "cell_type": "code",
      "source": [
        "# 데이터 갯수\n",
        "len(X_train), len(X_test)"
      ],
      "metadata": {
        "colab": {
          "base_uri": "https://localhost:8080/"
        },
        "id": "Llp8g0hLukXK",
        "outputId": "a09dc9ca-f450-4f59-eb2c-9d54861ab9d8"
      },
      "execution_count": 3,
      "outputs": [
        {
          "output_type": "execute_result",
          "data": {
            "text/plain": [
              "(8982, 2246)"
            ]
          },
          "metadata": {},
          "execution_count": 3
        }
      ]
    },
    {
      "cell_type": "code",
      "source": [
        "#카테고리 갯수\n",
        "max(y_train) + 1"
      ],
      "metadata": {
        "colab": {
          "base_uri": "https://localhost:8080/"
        },
        "id": "Od4eI692uv6p",
        "outputId": "f3e99199-d59d-4b03-f96d-1feb953b3b48"
      },
      "execution_count": 4,
      "outputs": [
        {
          "output_type": "execute_result",
          "data": {
            "text/plain": [
              "46"
            ]
          },
          "metadata": {},
          "execution_count": 4
        }
      ]
    },
    {
      "cell_type": "code",
      "source": [
        "# 첫번째 뉴스\n",
        "print(X_train[0])"
      ],
      "metadata": {
        "colab": {
          "base_uri": "https://localhost:8080/"
        },
        "id": "H_3UVLYEvJG5",
        "outputId": "22fe635b-97ad-4826-e55e-ca0f4775a674"
      },
      "execution_count": 5,
      "outputs": [
        {
          "output_type": "stream",
          "name": "stdout",
          "text": [
            "[1, 27595, 28842, 8, 43, 10, 447, 5, 25, 207, 270, 5, 3095, 111, 16, 369, 186, 90, 67, 7, 89, 5, 19, 102, 6, 19, 124, 15, 90, 67, 84, 22, 482, 26, 7, 48, 4, 49, 8, 864, 39, 209, 154, 6, 151, 6, 83, 11, 15, 22, 155, 11, 15, 7, 48, 9, 4579, 1005, 504, 6, 258, 6, 272, 11, 15, 22, 134, 44, 11, 15, 16, 8, 197, 1245, 90, 67, 52, 29, 209, 30, 32, 132, 6, 109, 15, 17, 12]\n"
          ]
        }
      ]
    },
    {
      "cell_type": "code",
      "source": [
        "type(reuters.get_word_index()), reuters.get_word_index()['the']"
      ],
      "metadata": {
        "colab": {
          "base_uri": "https://localhost:8080/"
        },
        "id": "6MV-f9wxvN4B",
        "outputId": "04694b02-3220-4682-f7b1-dceb6844cfb1"
      },
      "execution_count": 6,
      "outputs": [
        {
          "output_type": "stream",
          "name": "stdout",
          "text": [
            "Downloading data from https://storage.googleapis.com/tensorflow/tf-keras-datasets/reuters_word_index.json\n",
            "557056/550378 [==============================] - 0s 0us/step\n",
            "565248/550378 [==============================] - 0s 0us/step\n"
          ]
        },
        {
          "output_type": "execute_result",
          "data": {
            "text/plain": [
              "(dict, 1)"
            ]
          },
          "metadata": {},
          "execution_count": 6
        }
      ]
    },
    {
      "cell_type": "code",
      "source": [
        "index_word = {}\n",
        "for key, value in reuters.get_word_index().items():\n",
        "    index_word[value] = key\n",
        "len(index_word)\n",
        "# value와 키를 바꿈"
      ],
      "metadata": {
        "colab": {
          "base_uri": "https://localhost:8080/"
        },
        "id": "2BsxTqD6vkuq",
        "outputId": "1359e439-c493-4f99-ba7d-37bcc3e55fb9"
      },
      "execution_count": 7,
      "outputs": [
        {
          "output_type": "execute_result",
          "data": {
            "text/plain": [
              "30979"
            ]
          },
          "metadata": {},
          "execution_count": 7
        }
      ]
    },
    {
      "cell_type": "code",
      "source": [
        "# 첫번째 기사 복원\n",
        "' '.join(index_word[index] for index in X_train[0])\n",
        "# 파이썬에서 많이 사용/ 리스트 표현식, join은 꼭 기억해라"
      ],
      "metadata": {
        "colab": {
          "base_uri": "https://localhost:8080/",
          "height": 90
        },
        "id": "eeqWPEYGv1TS",
        "outputId": "2310f90f-97b1-4aa3-94e1-0f9828daae7d"
      },
      "execution_count": 8,
      "outputs": [
        {
          "output_type": "execute_result",
          "data": {
            "application/vnd.google.colaboratory.intrinsic+json": {
              "type": "string"
            },
            "text/plain": [
              "'the wattie nondiscriminatory mln loss for plc said at only ended said commonwealth could 1 traders now april 0 a after said from 1985 and from foreign 000 april 0 prices its account year a but in this mln home an states earlier and rise and revs vs 000 its 16 vs 000 a but 3 psbr oils several and shareholders and dividend vs 000 its all 4 vs 000 1 mln agreed largely april 0 are 2 states will billion total and against 000 pct dlrs'"
            ]
          },
          "metadata": {},
          "execution_count": 8
        }
      ]
    },
    {
      "cell_type": "code",
      "source": [
        "# 뉴스 기사의 길이\n",
        "print('뉴스 최대길이: ', max(len(s) for s in X_train))\n",
        "print('뉴스 평균길이: ', sum(map(len, X_train)) /len(X_train)) #len함수를 매핑해서 합을 도출"
      ],
      "metadata": {
        "colab": {
          "base_uri": "https://localhost:8080/"
        },
        "id": "hJ954035wa27",
        "outputId": "ba3bbdda-106a-4e14-d649-20d59090c706"
      },
      "execution_count": 9,
      "outputs": [
        {
          "output_type": "stream",
          "name": "stdout",
          "text": [
            "뉴스 최대길이:  2376\n",
            "뉴스 평균길이:  145.5398574927633\n"
          ]
        }
      ]
    },
    {
      "cell_type": "code",
      "source": [
        "x = [[1,2,3],[4,5,6,7],[8,9]]\n",
        "list(map(len, x))\n",
        "sum(map(len, x))"
      ],
      "metadata": {
        "colab": {
          "base_uri": "https://localhost:8080/"
        },
        "id": "F2SyfKPjxtNb",
        "outputId": "ccb9ce1b-938b-4a86-cfa3-c605a7a78619"
      },
      "execution_count": 10,
      "outputs": [
        {
          "output_type": "execute_result",
          "data": {
            "text/plain": [
              "9"
            ]
          },
          "metadata": {},
          "execution_count": 10
        }
      ]
    },
    {
      "cell_type": "code",
      "source": [
        "# 대부분의 기사는 앞쪽에 있다\n",
        "plt.hist([len(s) for s in X_train], bins=50)\n",
        "plt.xlabel('length of samples')\n",
        "plt.ylabel('number of samples')\n",
        "plt.show()"
      ],
      "metadata": {
        "colab": {
          "base_uri": "https://localhost:8080/",
          "height": 279
        },
        "id": "n7GMInKpyCmK",
        "outputId": "709b04c1-2a25-4811-e1c2-a260765edd80"
      },
      "execution_count": 11,
      "outputs": [
        {
          "output_type": "display_data",
          "data": {
            "image/png": "[encoded data removed]",
            "text/plain": [
              "<Figure size 432x288 with 1 Axes>"
            ]
          },
          "metadata": {
            "needs_background": "light"
          }
        }
      ]
    },
    {
      "cell_type": "code",
      "source": [
        "plt.figure(figsize=(12,5))\n",
        "sns.countplot(y_train);"
      ],
      "metadata": {
        "colab": {
          "base_uri": "https://localhost:8080/",
          "height": 320
        },
        "id": "J6mge9lxyP5i",
        "outputId": "56ea52e7-2dc4-46fa-ca02-4dca96672f2f"
      },
      "execution_count": 12,
      "outputs": [
        {
          "output_type": "display_data",
          "data": {
            "image/png": "[encoded data removed]",
            "text/plain": [
              "<Figure size 864x360 with 1 Axes>"
            ]
          },
          "metadata": {
            "needs_background": "light"
          }
        }
      ]
    },
    {
      "cell_type": "code",
      "source": [
        "# 데이터가 0에서 45까지 있다. 분포가 고르지 못하고 3,4기사 압도적으로 많음"
      ],
      "metadata": {
        "id": "GTlcRwi1yppE"
      },
      "execution_count": 13,
      "outputs": []
    },
    {
      "cell_type": "markdown",
      "source": [
        "### LSTM으로 로이터 뉴스 분류\n",
        "- 단어 : 빈도수 기준 1,000 단어 (총 단어수: 30,979)\n",
        "- 길이 : 100단어까지 (최대 2,376)  \n",
        "- LSTM에서는 단어의 갯수를 맞춰 진행해야된다."
      ],
      "metadata": {
        "id": "18P2JNBpzBU0"
      }
    },
    {
      "cell_type": "code",
      "source": [
        "num_words = 1000\n",
        "max_len = 100"
      ],
      "metadata": {
        "id": "wQAQhEVY0zxV"
      },
      "execution_count": 14,
      "outputs": []
    },
    {
      "cell_type": "code",
      "source": [
        "import numpy as np\n",
        "import tensorflow as tf\n",
        "seed = 2022\n",
        "np.random.seed(seed)\n",
        "tf.random.set_seed(seed)"
      ],
      "metadata": {
        "id": "gEWpXuEYzeFL"
      },
      "execution_count": 15,
      "outputs": []
    },
    {
      "cell_type": "code",
      "source": [
        "from tensorflow.keras.models import Sequential, load_model\n",
        "from tensorflow.keras.layers import Embedding, LSTM, Dense\n",
        "from tensorflow.keras.preprocessing.sequence import pad_sequences\n",
        "from tensorflow.keras.utils import to_categorical\n",
        "from tensorflow.keras.callbacks import ModelCheckpoint, EarlyStopping"
      ],
      "metadata": {
        "id": "7nPc-7rLzuKC"
      },
      "execution_count": 16,
      "outputs": []
    },
    {
      "cell_type": "code",
      "source": [
        "(X_train, y_train), (X_test, y_test) = reuters.load_data(num_words = num_words,  test_split = 0.2)\n",
        "# 미리 문장길이를 제한 하지 말고 다 뽑아 놓고 pad_sequences에서 뽑아라\n",
        "# max_len을 100으로 설정했기 때문에 뉴스의 길이가 50이면 100을 안넘어서 설정이 안됨. 짧은 문장은 0padding 긴 문장은 짤리고"
      ],
      "metadata": {
        "id": "57o_GpQh0QB6"
      },
      "execution_count": 17,
      "outputs": []
    },
    {
      "cell_type": "code",
      "source": [
        "X_train = pad_sequences(X_train, maxlen=max_len)\n",
        "X_test = pad_sequences(X_test, maxlen= max_len)\n",
        "Y_train = to_categorical(y_train)\n",
        "Y_test = to_categorical(y_test)\n",
        "X_train.shape, X_test.shape, Y_train.shape, Y_test.shape"
      ],
      "metadata": {
        "colab": {
          "base_uri": "https://localhost:8080/"
        },
        "id": "T4H5PFL21Gp0",
        "outputId": "644978af-38ce-448e-f204-506258504490"
      },
      "execution_count": 18,
      "outputs": [
        {
          "output_type": "execute_result",
          "data": {
            "text/plain": [
              "((8982, 100), (2246, 100), (8982, 46), (2246, 46))"
            ]
          },
          "metadata": {},
          "execution_count": 18
        }
      ]
    },
    {
      "cell_type": "markdown",
      "source": [
        "- 모델 정의/설정/학습"
      ],
      "metadata": {
        "id": "o3PCeYzh2k-9"
      }
    },
    {
      "cell_type": "code",
      "source": [
        "embedding_dim = 128\n",
        "hidden_units = 128\n",
        "num_classes = 46\n"
      ],
      "metadata": {
        "id": "x_HRbakM1mhL"
      },
      "execution_count": 19,
      "outputs": []
    },
    {
      "cell_type": "code",
      "source": [
        "model = Sequential([\n",
        "                    Embedding(num_words, embedding_dim, input_length = max_len),\n",
        "                    LSTM(hidden_units),\n",
        "                    Dense(num_classes, activation='softmax')\n",
        "])\n",
        "model.summary()"
      ],
      "metadata": {
        "colab": {
          "base_uri": "https://localhost:8080/"
        },
        "id": "ZF9R2otR2ini",
        "outputId": "4926e6ba-34e7-44f4-a2d7-4a02a14eb12b"
      },
      "execution_count": 20,
      "outputs": [
        {
          "output_type": "stream",
          "name": "stdout",
          "text": [
            "Model: \"sequential\"\n",
            "_________________________________________________________________\n",
            " Layer (type)                Output Shape              Param #   \n",
            "=================================================================\n",
            " embedding (Embedding)       (None, 100, 128)          128000    \n",
            "                                                                 \n",
            " lstm (LSTM)                 (None, 128)               131584    \n",
            "                                                                 \n",
            " dense (Dense)               (None, 46)                5934      \n",
            "                                                                 \n",
            "=================================================================\n",
            "Total params: 265,518\n",
            "Trainable params: 265,518\n",
            "Non-trainable params: 0\n",
            "_________________________________________________________________\n"
          ]
        }
      ]
    },
    {
      "cell_type": "code",
      "source": [
        "model.compile('adam', 'categorical_crossentropy', ['accuracy'])\n"
      ],
      "metadata": {
        "id": "6vLkwHOf3rJS"
      },
      "execution_count": 21,
      "outputs": []
    },
    {
      "cell_type": "code",
      "source": [
        "model_path = 'best-reuters-lstm.h5'\n",
        "mc = ModelCheckpoint(model_path, save_best_only= True, verbose = 1 )\n",
        "es = EarlyStopping(patience= 5)"
      ],
      "metadata": {
        "id": "mZaZ0YgT37Ob"
      },
      "execution_count": 22,
      "outputs": []
    },
    {
      "cell_type": "code",
      "source": [
        "hist = model.fit(\n",
        "    X_train, Y_train ,epochs = 30, batch_size=128,\n",
        "    validation_split = 0.2, callbacks=[mc, es]\n",
        ")"
      ],
      "metadata": {
        "colab": {
          "base_uri": "https://localhost:8080/"
        },
        "id": "qNYGNVKh4NOm",
        "outputId": "5f893db2-4e88-4753-b32a-35ba05d49a80"
      },
      "execution_count": 23,
      "outputs": [
        {
          "output_type": "stream",
          "name": "stdout",
          "text": [
            "Epoch 1/30\n",
            "57/57 [==============================] - ETA: 0s - loss: 2.6760 - accuracy: 0.3354\n",
            "Epoch 00001: val_loss improved from inf to 2.31994, saving model to best-reuters-lstm.h5\n",
            "57/57 [==============================] - 12s 66ms/step - loss: 2.6760 - accuracy: 0.3354 - val_loss: 2.3199 - val_accuracy: 0.3450\n",
            "Epoch 2/30\n",
            "56/57 [============================>.] - ETA: 0s - loss: 2.0393 - accuracy: 0.4598\n",
            "Epoch 00002: val_loss improved from 2.31994 to 1.94407, saving model to best-reuters-lstm.h5\n",
            "57/57 [==============================] - 2s 41ms/step - loss: 2.0391 - accuracy: 0.4597 - val_loss: 1.9441 - val_accuracy: 0.4953\n",
            "Epoch 3/30\n",
            "56/57 [============================>.] - ETA: 0s - loss: 1.8838 - accuracy: 0.5013\n",
            "Epoch 00003: val_loss improved from 1.94407 to 1.88775, saving model to best-reuters-lstm.h5\n",
            "57/57 [==============================] - 2s 35ms/step - loss: 1.8836 - accuracy: 0.5012 - val_loss: 1.8878 - val_accuracy: 0.3973\n",
            "Epoch 4/30\n",
            "55/57 [===========================>..] - ETA: 0s - loss: 1.7690 - accuracy: 0.5202\n",
            "Epoch 00004: val_loss improved from 1.88775 to 1.75030, saving model to best-reuters-lstm.h5\n",
            "57/57 [==============================] - 2s 30ms/step - loss: 1.7680 - accuracy: 0.5214 - val_loss: 1.7503 - val_accuracy: 0.5415\n",
            "Epoch 5/30\n",
            "56/57 [============================>.] - ETA: 0s - loss: 1.6516 - accuracy: 0.5730\n",
            "Epoch 00005: val_loss improved from 1.75030 to 1.66272, saving model to best-reuters-lstm.h5\n",
            "57/57 [==============================] - 2s 29ms/step - loss: 1.6519 - accuracy: 0.5730 - val_loss: 1.6627 - val_accuracy: 0.5876\n",
            "Epoch 6/30\n",
            "56/57 [============================>.] - ETA: 0s - loss: 1.6512 - accuracy: 0.5784\n",
            "Epoch 00006: val_loss improved from 1.66272 to 1.63609, saving model to best-reuters-lstm.h5\n",
            "57/57 [==============================] - 2s 30ms/step - loss: 1.6521 - accuracy: 0.5784 - val_loss: 1.6361 - val_accuracy: 0.5843\n",
            "Epoch 7/30\n",
            "56/57 [============================>.] - ETA: 0s - loss: 1.5163 - accuracy: 0.6131\n",
            "Epoch 00007: val_loss improved from 1.63609 to 1.56381, saving model to best-reuters-lstm.h5\n",
            "57/57 [==============================] - 2s 30ms/step - loss: 1.5154 - accuracy: 0.6134 - val_loss: 1.5638 - val_accuracy: 0.6071\n",
            "Epoch 8/30\n",
            "56/57 [============================>.] - ETA: 0s - loss: 1.4341 - accuracy: 0.6320\n",
            "Epoch 00008: val_loss improved from 1.56381 to 1.52223, saving model to best-reuters-lstm.h5\n",
            "57/57 [==============================] - 2s 30ms/step - loss: 1.4334 - accuracy: 0.6322 - val_loss: 1.5222 - val_accuracy: 0.6110\n",
            "Epoch 9/30\n",
            "55/57 [===========================>..] - ETA: 0s - loss: 1.3620 - accuracy: 0.6520\n",
            "Epoch 00009: val_loss improved from 1.52223 to 1.44836, saving model to best-reuters-lstm.h5\n",
            "57/57 [==============================] - 2s 30ms/step - loss: 1.3613 - accuracy: 0.6526 - val_loss: 1.4484 - val_accuracy: 0.6455\n",
            "Epoch 10/30\n",
            "56/57 [============================>.] - ETA: 0s - loss: 1.2776 - accuracy: 0.6703\n",
            "Epoch 00010: val_loss improved from 1.44836 to 1.39512, saving model to best-reuters-lstm.h5\n",
            "57/57 [==============================] - 2s 30ms/step - loss: 1.2772 - accuracy: 0.6704 - val_loss: 1.3951 - val_accuracy: 0.6583\n",
            "Epoch 11/30\n",
            "55/57 [===========================>..] - ETA: 0s - loss: 1.2025 - accuracy: 0.6918\n",
            "Epoch 00011: val_loss did not improve from 1.39512\n",
            "57/57 [==============================] - 2s 29ms/step - loss: 1.2029 - accuracy: 0.6919 - val_loss: 1.4059 - val_accuracy: 0.6578\n",
            "Epoch 12/30\n",
            "56/57 [============================>.] - ETA: 0s - loss: 1.1759 - accuracy: 0.7002\n",
            "Epoch 00012: val_loss improved from 1.39512 to 1.39012, saving model to best-reuters-lstm.h5\n",
            "57/57 [==============================] - 2s 30ms/step - loss: 1.1761 - accuracy: 0.7001 - val_loss: 1.3901 - val_accuracy: 0.6578\n",
            "Epoch 13/30\n",
            "55/57 [===========================>..] - ETA: 0s - loss: 1.1992 - accuracy: 0.6905\n",
            "Epoch 00013: val_loss improved from 1.39012 to 1.36977, saving model to best-reuters-lstm.h5\n",
            "57/57 [==============================] - 2s 29ms/step - loss: 1.1987 - accuracy: 0.6909 - val_loss: 1.3698 - val_accuracy: 0.6694\n",
            "Epoch 14/30\n",
            "55/57 [===========================>..] - ETA: 0s - loss: 1.0947 - accuracy: 0.7175\n",
            "Epoch 00014: val_loss improved from 1.36977 to 1.30711, saving model to best-reuters-lstm.h5\n",
            "57/57 [==============================] - 2s 30ms/step - loss: 1.0917 - accuracy: 0.7187 - val_loss: 1.3071 - val_accuracy: 0.6895\n",
            "Epoch 15/30\n",
            "55/57 [===========================>..] - ETA: 0s - loss: 1.0410 - accuracy: 0.7304\n",
            "Epoch 00015: val_loss improved from 1.30711 to 1.29733, saving model to best-reuters-lstm.h5\n",
            "57/57 [==============================] - 2s 30ms/step - loss: 1.0460 - accuracy: 0.7296 - val_loss: 1.2973 - val_accuracy: 0.6861\n",
            "Epoch 16/30\n",
            "56/57 [============================>.] - ETA: 0s - loss: 0.9833 - accuracy: 0.7527\n",
            "Epoch 00016: val_loss did not improve from 1.29733\n",
            "57/57 [==============================] - 2s 29ms/step - loss: 0.9824 - accuracy: 0.7528 - val_loss: 1.3184 - val_accuracy: 0.6895\n",
            "Epoch 17/30\n",
            "56/57 [============================>.] - ETA: 0s - loss: 0.9578 - accuracy: 0.7573\n",
            "Epoch 00017: val_loss improved from 1.29733 to 1.28527, saving model to best-reuters-lstm.h5\n",
            "57/57 [==============================] - 2s 30ms/step - loss: 0.9569 - accuracy: 0.7574 - val_loss: 1.2853 - val_accuracy: 0.6989\n",
            "Epoch 18/30\n",
            "56/57 [============================>.] - ETA: 0s - loss: 0.9148 - accuracy: 0.7719\n",
            "Epoch 00018: val_loss improved from 1.28527 to 1.27698, saving model to best-reuters-lstm.h5\n",
            "57/57 [==============================] - 2s 30ms/step - loss: 0.9144 - accuracy: 0.7720 - val_loss: 1.2770 - val_accuracy: 0.6973\n",
            "Epoch 19/30\n",
            "55/57 [===========================>..] - ETA: 0s - loss: 0.8631 - accuracy: 0.7827\n",
            "Epoch 00019: val_loss did not improve from 1.27698\n",
            "57/57 [==============================] - 2s 29ms/step - loss: 0.8622 - accuracy: 0.7826 - val_loss: 1.2852 - val_accuracy: 0.7073\n",
            "Epoch 20/30\n",
            "55/57 [===========================>..] - ETA: 0s - loss: 0.8356 - accuracy: 0.7905\n",
            "Epoch 00020: val_loss did not improve from 1.27698\n",
            "57/57 [==============================] - 2s 28ms/step - loss: 0.8357 - accuracy: 0.7905 - val_loss: 1.3152 - val_accuracy: 0.6939\n",
            "Epoch 21/30\n",
            "57/57 [==============================] - ETA: 0s - loss: 0.8083 - accuracy: 0.7961\n",
            "Epoch 00021: val_loss did not improve from 1.27698\n",
            "57/57 [==============================] - 2s 29ms/step - loss: 0.8083 - accuracy: 0.7961 - val_loss: 1.2947 - val_accuracy: 0.7134\n",
            "Epoch 22/30\n",
            "55/57 [===========================>..] - ETA: 0s - loss: 0.7553 - accuracy: 0.8116\n",
            "Epoch 00022: val_loss did not improve from 1.27698\n",
            "57/57 [==============================] - 2s 29ms/step - loss: 0.7577 - accuracy: 0.8117 - val_loss: 1.3033 - val_accuracy: 0.7123\n",
            "Epoch 23/30\n",
            "56/57 [============================>.] - ETA: 0s - loss: 0.7520 - accuracy: 0.8064\n",
            "Epoch 00023: val_loss did not improve from 1.27698\n",
            "57/57 [==============================] - 2s 29ms/step - loss: 0.7537 - accuracy: 0.8063 - val_loss: 1.3025 - val_accuracy: 0.7090\n"
          ]
        }
      ]
    },
    {
      "cell_type": "code",
      "source": [
        "best_model = load_model(model_path)\n",
        "best_model.evaluate(X_test, Y_test)"
      ],
      "metadata": {
        "colab": {
          "base_uri": "https://localhost:8080/"
        },
        "id": "o-wPp2764gvS",
        "outputId": "bf3e97a9-1a70-4382-923d-cf1265b34afd"
      },
      "execution_count": 25,
      "outputs": [
        {
          "output_type": "stream",
          "name": "stdout",
          "text": [
            "71/71 [==============================] - 2s 12ms/step - loss: 1.3044 - accuracy: 0.6825\n"
          ]
        },
        {
          "output_type": "execute_result",
          "data": {
            "text/plain": [
              "[1.3043806552886963, 0.6825467348098755]"
            ]
          },
          "metadata": {},
          "execution_count": 25
        }
      ]
    },
    {
      "cell_type": "markdown",
      "source": [
        "- case 2) : max_len이 300일 경우"
      ],
      "metadata": {
        "id": "CcwLIe207II9"
      }
    },
    {
      "cell_type": "code",
      "source": [
        "(X_train, y_train), (X_test, y_test) = reuters.load_data(num_words = num_words,  test_split = 0.2)"
      ],
      "metadata": {
        "id": "G1QWv93Y7O4s"
      },
      "execution_count": 26,
      "outputs": []
    },
    {
      "cell_type": "code",
      "source": [
        "max_len = 300\n",
        "X_train = pad_sequences(X_train, maxlen=max_len)\n",
        "X_test = pad_sequences(X_test, maxlen= max_len)\n",
        "Y_train = to_categorical(y_train)\n",
        "Y_test = to_categorical(y_test)\n",
        "X_train.shape, X_test.shape, Y_train.shape, Y_test.shape"
      ],
      "metadata": {
        "colab": {
          "base_uri": "https://localhost:8080/"
        },
        "id": "URBQhNEc7gQh",
        "outputId": "e9be284f-fb49-479d-e962-aba013499bfb"
      },
      "execution_count": 27,
      "outputs": [
        {
          "output_type": "execute_result",
          "data": {
            "text/plain": [
              "((8982, 300), (2246, 300), (8982, 46), (2246, 46))"
            ]
          },
          "metadata": {},
          "execution_count": 27
        }
      ]
    },
    {
      "cell_type": "code",
      "source": [
        "model2 = Sequential([\n",
        "                    Embedding(num_words, embedding_dim, input_length = max_len),\n",
        "                    LSTM(hidden_units),\n",
        "                    Dense(num_classes, activation='softmax')\n",
        "])\n",
        "model2.summary()"
      ],
      "metadata": {
        "colab": {
          "base_uri": "https://localhost:8080/"
        },
        "id": "eDotPm-e7n-U",
        "outputId": "130f33db-8460-4de4-ca85-27a54a572118"
      },
      "execution_count": 28,
      "outputs": [
        {
          "output_type": "stream",
          "name": "stdout",
          "text": [
            "Model: \"sequential_1\"\n",
            "_________________________________________________________________\n",
            " Layer (type)                Output Shape              Param #   \n",
            "=================================================================\n",
            " embedding_1 (Embedding)     (None, 300, 128)          128000    \n",
            "                                                                 \n",
            " lstm_1 (LSTM)               (None, 128)               131584    \n",
            "                                                                 \n",
            " dense_1 (Dense)             (None, 46)                5934      \n",
            "                                                                 \n",
            "=================================================================\n",
            "Total params: 265,518\n",
            "Trainable params: 265,518\n",
            "Non-trainable params: 0\n",
            "_________________________________________________________________\n"
          ]
        }
      ]
    },
    {
      "cell_type": "code",
      "source": [
        "model_path = 'best-reuters-lstm.h5'\n",
        "mc = ModelCheckpoint(model_path, save_best_only= True, verbose = 1 )\n",
        "es = EarlyStopping(patience= 10)"
      ],
      "metadata": {
        "id": "cmRYf5cp8VdF"
      },
      "execution_count": 29,
      "outputs": []
    },
    {
      "cell_type": "code",
      "source": [
        "model2.compile('adam', 'categorical_crossentropy', ['accuracy'])\n"
      ],
      "metadata": {
        "id": "Zcp9uMAa7rlO"
      },
      "execution_count": 30,
      "outputs": []
    },
    {
      "cell_type": "code",
      "source": [
        "hist = model2.fit(\n",
        "    X_train, Y_train ,epochs = 50, batch_size=128,\n",
        "    validation_split = 0.2, callbacks=[mc, es]\n",
        ")"
      ],
      "metadata": {
        "colab": {
          "base_uri": "https://localhost:8080/"
        },
        "id": "3uYeCel87zpR",
        "outputId": "b55587bc-1f26-47c8-ae58-b533cc4755fb"
      },
      "execution_count": 31,
      "outputs": [
        {
          "output_type": "stream",
          "name": "stdout",
          "text": [
            "Epoch 1/50\n",
            "57/57 [==============================] - ETA: 0s - loss: 2.6729 - accuracy: 0.3470\n",
            "Epoch 00001: val_loss improved from inf to 2.42792, saving model to best-reuters-lstm.h5\n",
            "57/57 [==============================] - 8s 85ms/step - loss: 2.6729 - accuracy: 0.3470 - val_loss: 2.4279 - val_accuracy: 0.3450\n",
            "Epoch 2/50\n",
            "57/57 [==============================] - ETA: 0s - loss: 2.2145 - accuracy: 0.4420\n",
            "Epoch 00002: val_loss improved from 2.42792 to 2.09838, saving model to best-reuters-lstm.h5\n",
            "57/57 [==============================] - 4s 73ms/step - loss: 2.2145 - accuracy: 0.4420 - val_loss: 2.0984 - val_accuracy: 0.4691\n",
            "Epoch 3/50\n",
            "56/57 [============================>.] - ETA: 0s - loss: 2.0316 - accuracy: 0.4961\n",
            "Epoch 00003: val_loss improved from 2.09838 to 2.01480, saving model to best-reuters-lstm.h5\n",
            "57/57 [==============================] - 4s 74ms/step - loss: 2.0313 - accuracy: 0.4962 - val_loss: 2.0148 - val_accuracy: 0.4853\n",
            "Epoch 4/50\n",
            "57/57 [==============================] - ETA: 0s - loss: 1.9030 - accuracy: 0.5193\n",
            "Epoch 00004: val_loss improved from 2.01480 to 1.85749, saving model to best-reuters-lstm.h5\n",
            "57/57 [==============================] - 4s 74ms/step - loss: 1.9030 - accuracy: 0.5193 - val_loss: 1.8575 - val_accuracy: 0.5326\n",
            "Epoch 5/50\n",
            "57/57 [==============================] - ETA: 0s - loss: 1.7773 - accuracy: 0.5381\n",
            "Epoch 00005: val_loss improved from 1.85749 to 1.71831, saving model to best-reuters-lstm.h5\n",
            "57/57 [==============================] - 4s 73ms/step - loss: 1.7773 - accuracy: 0.5381 - val_loss: 1.7183 - val_accuracy: 0.5576\n",
            "Epoch 6/50\n",
            "57/57 [==============================] - ETA: 0s - loss: 1.6874 - accuracy: 0.5656\n",
            "Epoch 00006: val_loss improved from 1.71831 to 1.71633, saving model to best-reuters-lstm.h5\n",
            "57/57 [==============================] - 4s 74ms/step - loss: 1.6874 - accuracy: 0.5656 - val_loss: 1.7163 - val_accuracy: 0.5554\n",
            "Epoch 7/50\n",
            "57/57 [==============================] - ETA: 0s - loss: 1.6530 - accuracy: 0.5716\n",
            "Epoch 00007: val_loss improved from 1.71633 to 1.64591, saving model to best-reuters-lstm.h5\n",
            "57/57 [==============================] - 4s 73ms/step - loss: 1.6530 - accuracy: 0.5716 - val_loss: 1.6459 - val_accuracy: 0.5782\n",
            "Epoch 8/50\n",
            "57/57 [==============================] - ETA: 0s - loss: 1.6093 - accuracy: 0.5864\n",
            "Epoch 00008: val_loss did not improve from 1.64591\n",
            "57/57 [==============================] - 4s 75ms/step - loss: 1.6093 - accuracy: 0.5864 - val_loss: 1.6682 - val_accuracy: 0.5721\n",
            "Epoch 9/50\n",
            "57/57 [==============================] - ETA: 0s - loss: 1.5944 - accuracy: 0.5930\n",
            "Epoch 00009: val_loss improved from 1.64591 to 1.56514, saving model to best-reuters-lstm.h5\n",
            "57/57 [==============================] - 4s 77ms/step - loss: 1.5944 - accuracy: 0.5930 - val_loss: 1.5651 - val_accuracy: 0.6177\n",
            "Epoch 10/50\n",
            "57/57 [==============================] - ETA: 0s - loss: 1.4547 - accuracy: 0.6285\n",
            "Epoch 00010: val_loss improved from 1.56514 to 1.52909, saving model to best-reuters-lstm.h5\n",
            "57/57 [==============================] - 4s 74ms/step - loss: 1.4547 - accuracy: 0.6285 - val_loss: 1.5291 - val_accuracy: 0.6110\n",
            "Epoch 11/50\n",
            "57/57 [==============================] - ETA: 0s - loss: 1.3909 - accuracy: 0.6498\n",
            "Epoch 00011: val_loss improved from 1.52909 to 1.37996, saving model to best-reuters-lstm.h5\n",
            "57/57 [==============================] - 4s 74ms/step - loss: 1.3909 - accuracy: 0.6498 - val_loss: 1.3800 - val_accuracy: 0.6672\n",
            "Epoch 12/50\n",
            "57/57 [==============================] - ETA: 0s - loss: 1.3421 - accuracy: 0.6628\n",
            "Epoch 00012: val_loss did not improve from 1.37996\n",
            "57/57 [==============================] - 4s 73ms/step - loss: 1.3421 - accuracy: 0.6628 - val_loss: 1.4202 - val_accuracy: 0.6472\n",
            "Epoch 13/50\n",
            "57/57 [==============================] - ETA: 0s - loss: 1.3432 - accuracy: 0.6605\n",
            "Epoch 00013: val_loss did not improve from 1.37996\n",
            "57/57 [==============================] - 4s 73ms/step - loss: 1.3432 - accuracy: 0.6605 - val_loss: 1.3977 - val_accuracy: 0.6550\n",
            "Epoch 14/50\n",
            "57/57 [==============================] - ETA: 0s - loss: 1.2529 - accuracy: 0.6831\n",
            "Epoch 00014: val_loss improved from 1.37996 to 1.33471, saving model to best-reuters-lstm.h5\n",
            "57/57 [==============================] - 4s 74ms/step - loss: 1.2529 - accuracy: 0.6831 - val_loss: 1.3347 - val_accuracy: 0.6533\n",
            "Epoch 15/50\n",
            "57/57 [==============================] - ETA: 0s - loss: 1.3297 - accuracy: 0.6604\n",
            "Epoch 00015: val_loss did not improve from 1.33471\n",
            "57/57 [==============================] - 4s 73ms/step - loss: 1.3297 - accuracy: 0.6604 - val_loss: 1.3583 - val_accuracy: 0.6667\n",
            "Epoch 16/50\n",
            "57/57 [==============================] - ETA: 0s - loss: 1.1488 - accuracy: 0.7100\n",
            "Epoch 00016: val_loss improved from 1.33471 to 1.23645, saving model to best-reuters-lstm.h5\n",
            "57/57 [==============================] - 4s 73ms/step - loss: 1.1488 - accuracy: 0.7100 - val_loss: 1.2365 - val_accuracy: 0.6984\n",
            "Epoch 17/50\n",
            "57/57 [==============================] - ETA: 0s - loss: 1.0890 - accuracy: 0.7255\n",
            "Epoch 00017: val_loss did not improve from 1.23645\n",
            "57/57 [==============================] - 4s 74ms/step - loss: 1.0890 - accuracy: 0.7255 - val_loss: 1.2648 - val_accuracy: 0.6912\n",
            "Epoch 18/50\n",
            "57/57 [==============================] - ETA: 0s - loss: 1.1668 - accuracy: 0.7061\n",
            "Epoch 00018: val_loss did not improve from 1.23645\n",
            "57/57 [==============================] - 4s 73ms/step - loss: 1.1668 - accuracy: 0.7061 - val_loss: 1.3142 - val_accuracy: 0.6784\n",
            "Epoch 19/50\n",
            "57/57 [==============================] - ETA: 0s - loss: 1.0470 - accuracy: 0.7343\n",
            "Epoch 00019: val_loss improved from 1.23645 to 1.20901, saving model to best-reuters-lstm.h5\n",
            "57/57 [==============================] - 4s 74ms/step - loss: 1.0470 - accuracy: 0.7343 - val_loss: 1.2090 - val_accuracy: 0.6962\n",
            "Epoch 20/50\n",
            "57/57 [==============================] - ETA: 0s - loss: 0.9895 - accuracy: 0.7489\n",
            "Epoch 00020: val_loss improved from 1.20901 to 1.16493, saving model to best-reuters-lstm.h5\n",
            "57/57 [==============================] - 4s 74ms/step - loss: 0.9895 - accuracy: 0.7489 - val_loss: 1.1649 - val_accuracy: 0.7117\n",
            "Epoch 21/50\n",
            "57/57 [==============================] - ETA: 0s - loss: 0.9581 - accuracy: 0.7608\n",
            "Epoch 00021: val_loss improved from 1.16493 to 1.16108, saving model to best-reuters-lstm.h5\n",
            "57/57 [==============================] - 4s 78ms/step - loss: 0.9581 - accuracy: 0.7608 - val_loss: 1.1611 - val_accuracy: 0.7145\n",
            "Epoch 22/50\n",
            "57/57 [==============================] - ETA: 0s - loss: 0.9130 - accuracy: 0.7695\n",
            "Epoch 00022: val_loss improved from 1.16108 to 1.14751, saving model to best-reuters-lstm.h5\n",
            "57/57 [==============================] - 4s 78ms/step - loss: 0.9130 - accuracy: 0.7695 - val_loss: 1.1475 - val_accuracy: 0.7273\n",
            "Epoch 23/50\n",
            "57/57 [==============================] - ETA: 0s - loss: 0.8789 - accuracy: 0.7773\n",
            "Epoch 00023: val_loss improved from 1.14751 to 1.13447, saving model to best-reuters-lstm.h5\n",
            "57/57 [==============================] - 5s 80ms/step - loss: 0.8789 - accuracy: 0.7773 - val_loss: 1.1345 - val_accuracy: 0.7307\n",
            "Epoch 24/50\n",
            "57/57 [==============================] - ETA: 0s - loss: 0.8639 - accuracy: 0.7811\n",
            "Epoch 00024: val_loss did not improve from 1.13447\n",
            "57/57 [==============================] - 5s 82ms/step - loss: 0.8639 - accuracy: 0.7811 - val_loss: 1.1698 - val_accuracy: 0.7223\n",
            "Epoch 25/50\n",
            "57/57 [==============================] - ETA: 0s - loss: 0.9666 - accuracy: 0.7570\n",
            "Epoch 00025: val_loss improved from 1.13447 to 1.13244, saving model to best-reuters-lstm.h5\n",
            "57/57 [==============================] - 5s 81ms/step - loss: 0.9666 - accuracy: 0.7570 - val_loss: 1.1324 - val_accuracy: 0.7307\n",
            "Epoch 26/50\n",
            "57/57 [==============================] - ETA: 0s - loss: 0.8323 - accuracy: 0.7887\n",
            "Epoch 00026: val_loss improved from 1.13244 to 1.12312, saving model to best-reuters-lstm.h5\n",
            "57/57 [==============================] - 4s 77ms/step - loss: 0.8323 - accuracy: 0.7887 - val_loss: 1.1231 - val_accuracy: 0.7323\n",
            "Epoch 27/50\n",
            "57/57 [==============================] - ETA: 0s - loss: 0.7929 - accuracy: 0.7989\n",
            "Epoch 00027: val_loss improved from 1.12312 to 1.11125, saving model to best-reuters-lstm.h5\n",
            "57/57 [==============================] - 4s 78ms/step - loss: 0.7929 - accuracy: 0.7989 - val_loss: 1.1112 - val_accuracy: 0.7357\n",
            "Epoch 28/50\n",
            "57/57 [==============================] - ETA: 0s - loss: 0.7647 - accuracy: 0.8039\n",
            "Epoch 00028: val_loss improved from 1.11125 to 1.08721, saving model to best-reuters-lstm.h5\n",
            "57/57 [==============================] - 5s 80ms/step - loss: 0.7647 - accuracy: 0.8039 - val_loss: 1.0872 - val_accuracy: 0.7462\n",
            "Epoch 29/50\n",
            "57/57 [==============================] - ETA: 0s - loss: 0.7240 - accuracy: 0.8148\n",
            "Epoch 00029: val_loss improved from 1.08721 to 1.08553, saving model to best-reuters-lstm.h5\n",
            "57/57 [==============================] - 4s 79ms/step - loss: 0.7240 - accuracy: 0.8148 - val_loss: 1.0855 - val_accuracy: 0.7385\n",
            "Epoch 30/50\n",
            "57/57 [==============================] - ETA: 0s - loss: 0.7186 - accuracy: 0.8127\n",
            "Epoch 00030: val_loss improved from 1.08553 to 1.07554, saving model to best-reuters-lstm.h5\n",
            "57/57 [==============================] - 4s 75ms/step - loss: 0.7186 - accuracy: 0.8127 - val_loss: 1.0755 - val_accuracy: 0.7429\n",
            "Epoch 31/50\n",
            "57/57 [==============================] - ETA: 0s - loss: 0.6920 - accuracy: 0.8225\n",
            "Epoch 00031: val_loss did not improve from 1.07554\n",
            "57/57 [==============================] - 4s 77ms/step - loss: 0.6920 - accuracy: 0.8225 - val_loss: 1.0894 - val_accuracy: 0.7490\n",
            "Epoch 32/50\n",
            "57/57 [==============================] - ETA: 0s - loss: 0.6959 - accuracy: 0.8230\n",
            "Epoch 00032: val_loss did not improve from 1.07554\n",
            "57/57 [==============================] - 4s 79ms/step - loss: 0.6959 - accuracy: 0.8230 - val_loss: 1.1218 - val_accuracy: 0.7351\n",
            "Epoch 33/50\n",
            "57/57 [==============================] - ETA: 0s - loss: 0.6670 - accuracy: 0.8305\n",
            "Epoch 00033: val_loss did not improve from 1.07554\n",
            "57/57 [==============================] - 4s 77ms/step - loss: 0.6670 - accuracy: 0.8305 - val_loss: 1.0957 - val_accuracy: 0.7485\n",
            "Epoch 34/50\n",
            "57/57 [==============================] - ETA: 0s - loss: 0.6263 - accuracy: 0.8374\n",
            "Epoch 00034: val_loss did not improve from 1.07554\n",
            "57/57 [==============================] - 5s 80ms/step - loss: 0.6263 - accuracy: 0.8374 - val_loss: 1.1109 - val_accuracy: 0.7307\n",
            "Epoch 35/50\n",
            "57/57 [==============================] - ETA: 0s - loss: 0.6146 - accuracy: 0.8412\n",
            "Epoch 00035: val_loss did not improve from 1.07554\n",
            "57/57 [==============================] - 4s 78ms/step - loss: 0.6146 - accuracy: 0.8412 - val_loss: 1.1005 - val_accuracy: 0.7379\n",
            "Epoch 36/50\n",
            "57/57 [==============================] - ETA: 0s - loss: 0.5956 - accuracy: 0.8500\n",
            "Epoch 00036: val_loss did not improve from 1.07554\n",
            "57/57 [==============================] - 4s 76ms/step - loss: 0.5956 - accuracy: 0.8500 - val_loss: 1.0964 - val_accuracy: 0.7551\n",
            "Epoch 37/50\n",
            "57/57 [==============================] - ETA: 0s - loss: 0.5568 - accuracy: 0.8600\n",
            "Epoch 00037: val_loss did not improve from 1.07554\n",
            "57/57 [==============================] - 4s 74ms/step - loss: 0.5568 - accuracy: 0.8600 - val_loss: 1.1175 - val_accuracy: 0.7529\n",
            "Epoch 38/50\n",
            "57/57 [==============================] - ETA: 0s - loss: 0.5805 - accuracy: 0.8543\n",
            "Epoch 00038: val_loss did not improve from 1.07554\n",
            "57/57 [==============================] - 4s 73ms/step - loss: 0.5805 - accuracy: 0.8543 - val_loss: 1.0964 - val_accuracy: 0.7457\n",
            "Epoch 39/50\n",
            "57/57 [==============================] - ETA: 0s - loss: 0.5288 - accuracy: 0.8653\n",
            "Epoch 00039: val_loss did not improve from 1.07554\n",
            "57/57 [==============================] - 4s 74ms/step - loss: 0.5288 - accuracy: 0.8653 - val_loss: 1.1264 - val_accuracy: 0.7435\n",
            "Epoch 40/50\n",
            "57/57 [==============================] - ETA: 0s - loss: 0.5228 - accuracy: 0.8672\n",
            "Epoch 00040: val_loss did not improve from 1.07554\n",
            "57/57 [==============================] - 4s 73ms/step - loss: 0.5228 - accuracy: 0.8672 - val_loss: 1.1273 - val_accuracy: 0.7474\n"
          ]
        }
      ]
    },
    {
      "cell_type": "code",
      "source": [
        "best_model = load_model(model_path)\n",
        "best_model.evaluate(X_test, Y_test)"
      ],
      "metadata": {
        "colab": {
          "base_uri": "https://localhost:8080/"
        },
        "id": "wmnf5OAM8bpk",
        "outputId": "6561dbaf-5eb9-4db6-a672-cd48a26f86f5"
      },
      "execution_count": 32,
      "outputs": [
        {
          "output_type": "stream",
          "name": "stdout",
          "text": [
            "71/71 [==============================] - 2s 20ms/step - loss: 1.1171 - accuracy: 0.7400\n"
          ]
        },
        {
          "output_type": "execute_result",
          "data": {
            "text/plain": [
              "[1.1171225309371948, 0.7399821877479553]"
            ]
          },
          "metadata": {},
          "execution_count": 32
        }
      ]
    },
    {
      "cell_type": "code",
      "source": [
        ""
      ],
      "metadata": {
        "id": "nhkfc6hT8_TH"
      },
      "execution_count": null,
      "outputs": []
    }
  ]
}