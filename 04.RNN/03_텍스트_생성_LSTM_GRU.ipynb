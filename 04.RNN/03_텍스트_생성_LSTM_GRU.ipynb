{
  "nbformat": 4,
  "nbformat_minor": 0,
  "metadata": {
    "colab": {
      "name": "03.텍스트 생성_LSTM_GRU.ipynb",
      "provenance": []
    },
    "kernelspec": {
      "name": "python3",
      "display_name": "Python 3"
    },
    "language_info": {
      "name": "python"
    }
  },
  "cells": [
    {
      "cell_type": "markdown",
      "source": [
        "# RNN, LSTM, GRU을 이용한 텍스트 생성\n",
        "    '경마장에 있는 말이 뛰고 있다'\n",
        "    '그의 말이 법이다'\n",
        "    '가는 말이 고와야 오는 말이 곱다' \n",
        "\n",
        "\n",
        "<pre> \n",
        "'A quick brown fox'\n",
        "</pre>\n",
        "\n",
        "- 박스 안에 넣는거 Tab,<pre>"
      ],
      "metadata": {
        "id": "7dcRWHoaiN3C"
      }
    },
    {
      "cell_type": "code",
      "source": [
        "import numpy as np\n",
        "import tensorflow as tf\n",
        "seed = 2022\n",
        "np.random.seed(seed)\n",
        "tf.random.set_seed(seed)"
      ],
      "metadata": {
        "id": "C6zLFJLgizBT"
      },
      "execution_count": 1,
      "outputs": []
    },
    {
      "cell_type": "code",
      "source": [
        "text = '''경마장에 있는 말이 뛰고 있다.\n",
        "그의 말이 법이다.\n",
        "가는 말이 고와야 오는 말이 곱다.''' "
      ],
      "metadata": {
        "id": "vywv078Ti3fs"
      },
      "execution_count": 2,
      "outputs": []
    },
    {
      "cell_type": "markdown",
      "source": [
        "- 텍스트 전처리"
      ],
      "metadata": {
        "id": "1TIYq7FPjYvP"
      }
    },
    {
      "cell_type": "code",
      "source": [
        "from tensorflow.keras.preprocessing.text import Tokenizer\n",
        "from tensorflow.keras.preprocessing.sequence import pad_sequences\n",
        "from tensorflow.keras.utils import to_categorical"
      ],
      "metadata": {
        "id": "SDvEEFZ32KBo"
      },
      "execution_count": 3,
      "outputs": []
    },
    {
      "cell_type": "code",
      "source": [
        "# 단어 집합 생성\n",
        "t = Tokenizer()\n",
        "t.fit_on_texts([text]) # 스프링이여서 안됨 리스트 형태로 변환"
      ],
      "metadata": {
        "id": "HOoU5fgYmf8t"
      },
      "execution_count": 4,
      "outputs": []
    },
    {
      "cell_type": "code",
      "source": [
        "t.word_index # Bag of Words 에서 단어 찾는거랑 비슷\n",
        "# 값이 특이함 "
      ],
      "metadata": {
        "colab": {
          "base_uri": "https://localhost:8080/"
        },
        "id": "YLSBLfH0nZu9",
        "outputId": "434409db-763e-4014-9e5c-36389353e813"
      },
      "execution_count": 5,
      "outputs": [
        {
          "output_type": "execute_result",
          "data": {
            "text/plain": [
              "{'가는': 8,\n",
              " '경마장에': 2,\n",
              " '고와야': 9,\n",
              " '곱다': 11,\n",
              " '그의': 6,\n",
              " '뛰고': 4,\n",
              " '말이': 1,\n",
              " '법이다': 7,\n",
              " '오는': 10,\n",
              " '있는': 3,\n",
              " '있다': 5}"
            ]
          },
          "metadata": {},
          "execution_count": 5
        }
      ]
    },
    {
      "cell_type": "markdown",
      "source": [
        "- 특징 \n",
        "1. word_index 순서가 가나다 순서가 아니고, 많이 나온 단어 순\n",
        "2. 0 index가 없다"
      ],
      "metadata": {
        "id": "kQ7zGjds3W-i"
      }
    },
    {
      "cell_type": "code",
      "source": [
        "# 단어 집합 크기 - Keras Tokenizer의 시작 인덱스가 1이기 때문에 항상 1을 더해준다.\n",
        "vocab_size = len(t.word_index) + 1\n",
        "vocab_size"
      ],
      "metadata": {
        "colab": {
          "base_uri": "https://localhost:8080/"
        },
        "id": "IF3iyRif3sLj",
        "outputId": "366c3316-50b4-40fa-8e17-656df3f5bf6d"
      },
      "execution_count": 6,
      "outputs": [
        {
          "output_type": "execute_result",
          "data": {
            "text/plain": [
              "12"
            ]
          },
          "metadata": {},
          "execution_count": 6
        }
      ]
    },
    {
      "cell_type": "code",
      "source": [
        "t.texts_to_sequences(['그의 말이 법이다.'])"
      ],
      "metadata": {
        "colab": {
          "base_uri": "https://localhost:8080/"
        },
        "id": "KEN5DB5s3-CY",
        "outputId": "925d4a9a-c320-4567-a3a3-06df41550943"
      },
      "execution_count": 7,
      "outputs": [
        {
          "output_type": "execute_result",
          "data": {
            "text/plain": [
              "[[6, 1, 7]]"
            ]
          },
          "metadata": {},
          "execution_count": 7
        }
      ]
    },
    {
      "cell_type": "code",
      "source": [
        "for line in text.split('\\n'):\n",
        "    encoded = t.texts_to_sequences([line])[0]\n",
        "    print(encoded)"
      ],
      "metadata": {
        "colab": {
          "base_uri": "https://localhost:8080/"
        },
        "id": "pM1YMQfm4Yjx",
        "outputId": "e90772bb-ea7f-4c64-8162-500fbfc451e9"
      },
      "execution_count": 8,
      "outputs": [
        {
          "output_type": "stream",
          "name": "stdout",
          "text": [
            "[2, 3, 1, 4, 5]\n",
            "[6, 1, 7]\n",
            "[8, 1, 9, 10, 1, 11]\n"
          ]
        }
      ]
    },
    {
      "cell_type": "code",
      "source": [
        "sequences = []\n",
        "for line in text.split('\\n'):\n",
        "    encoded = t.texts_to_sequences([line])[0]\n",
        "    for i in range(1, len(encoded)):\n",
        "        sequences.append(encoded[: i+1])\n",
        "\n",
        "sequences"
      ],
      "metadata": {
        "colab": {
          "base_uri": "https://localhost:8080/"
        },
        "id": "lq0-Tsib47ug",
        "outputId": "5a13edf4-98a9-48ed-809a-266328b2ca72"
      },
      "execution_count": 9,
      "outputs": [
        {
          "output_type": "execute_result",
          "data": {
            "text/plain": [
              "[[2, 3],\n",
              " [2, 3, 1],\n",
              " [2, 3, 1, 4],\n",
              " [2, 3, 1, 4, 5],\n",
              " [6, 1],\n",
              " [6, 1, 7],\n",
              " [8, 1],\n",
              " [8, 1, 9],\n",
              " [8, 1, 9, 10],\n",
              " [8, 1, 9, 10, 1],\n",
              " [8, 1, 9, 10, 1, 11]]"
            ]
          },
          "metadata": {},
          "execution_count": 9
        }
      ]
    },
    {
      "cell_type": "code",
      "source": [
        "max_len = max(len(seq) for seq in sequences)\n",
        "max_len"
      ],
      "metadata": {
        "colab": {
          "base_uri": "https://localhost:8080/"
        },
        "id": "yulukoCI6UJ5",
        "outputId": "0be80de1-8eea-4e67-d670-960679f54178"
      },
      "execution_count": 10,
      "outputs": [
        {
          "output_type": "execute_result",
          "data": {
            "text/plain": [
              "6"
            ]
          },
          "metadata": {},
          "execution_count": 10
        }
      ]
    },
    {
      "cell_type": "markdown",
      "source": [
        "- Padding \n",
        "    - 전체 샘플 길이를 max_len에 맞추도록 0를 추가\n",
        "    - pre 옵션을 주면 앞쪽을 채움\n",
        "    "
      ],
      "metadata": {
        "id": "nNU1hSUw6uKI"
      }
    },
    {
      "cell_type": "code",
      "source": [
        "sequences = pad_sequences(sequences, maxlen= max_len, padding = 'pre')\n",
        "sequences[:5] # 앞쪽을 0로 채워주고 마지막에 있는 인덱스가 y가 된다.\n",
        "# 왜 이렇게 하는지? RNN은 shape이 없고 timesteps, input_dima만 있기 때문에"
      ],
      "metadata": {
        "colab": {
          "base_uri": "https://localhost:8080/"
        },
        "id": "I15jLJ0T7NOy",
        "outputId": "c8d6267b-a88e-4be5-f393-3273a2366fd9"
      },
      "execution_count": 11,
      "outputs": [
        {
          "output_type": "execute_result",
          "data": {
            "text/plain": [
              "array([[0, 0, 0, 0, 2, 3],\n",
              "       [0, 0, 0, 2, 3, 1],\n",
              "       [0, 0, 2, 3, 1, 4],\n",
              "       [0, 2, 3, 1, 4, 5],\n",
              "       [0, 0, 0, 0, 6, 1]], dtype=int32)"
            ]
          },
          "metadata": {},
          "execution_count": 11
        }
      ]
    },
    {
      "cell_type": "code",
      "source": [
        "X = sequences[:, :-1]\n",
        "y = sequences[:,-1]"
      ],
      "metadata": {
        "id": "LvUlNNrF7VOB"
      },
      "execution_count": 12,
      "outputs": []
    },
    {
      "cell_type": "code",
      "source": [
        "X.shape # sequences 갯수가 11. timesteps 5 , input_dim은 vocab_size 만큼 있는거"
      ],
      "metadata": {
        "colab": {
          "base_uri": "https://localhost:8080/"
        },
        "id": "PfsDlA-R8ACZ",
        "outputId": "029d4a54-4db9-40b8-f21f-8970e0bd9288"
      },
      "execution_count": 13,
      "outputs": [
        {
          "output_type": "execute_result",
          "data": {
            "text/plain": [
              "(11, 5)"
            ]
          },
          "metadata": {},
          "execution_count": 13
        }
      ]
    },
    {
      "cell_type": "code",
      "source": [
        "Y = to_categorical(y)\n",
        "Y[:3]"
      ],
      "metadata": {
        "colab": {
          "base_uri": "https://localhost:8080/"
        },
        "id": "qTMiKhCn8KWC",
        "outputId": "51070e31-b0b4-460e-adac-26eb5ed51cf5"
      },
      "execution_count": 14,
      "outputs": [
        {
          "output_type": "execute_result",
          "data": {
            "text/plain": [
              "array([[0., 0., 0., 1., 0., 0., 0., 0., 0., 0., 0., 0.],\n",
              "       [0., 1., 0., 0., 0., 0., 0., 0., 0., 0., 0., 0.],\n",
              "       [0., 0., 0., 0., 1., 0., 0., 0., 0., 0., 0., 0.]], dtype=float32)"
            ]
          },
          "metadata": {},
          "execution_count": 14
        }
      ]
    },
    {
      "cell_type": "markdown",
      "source": [
        "### 모델 정의\n",
        "- Embedding\n",
        "- SimpleRNN, LSTM,  GRU\n",
        "- Dense"
      ],
      "metadata": {
        "id": "V07RKMJU8tzK"
      }
    },
    {
      "cell_type": "code",
      "source": [
        "from tensorflow.keras.models import Sequential\n",
        "from tensorflow.keras.layers import Embedding, SimpleRNN, Dense\n",
        "from tensorflow.keras.layers import LSTM, GRU"
      ],
      "metadata": {
        "id": "SSlBnw5h9FMw"
      },
      "execution_count": 15,
      "outputs": []
    },
    {
      "cell_type": "code",
      "source": [
        "from google.colab import files\n",
        "up = files.upload()"
      ],
      "metadata": {
        "colab": {
          "resources": {
            "http://localhost:8080/nbextensions/google.colab/files.js": {
              "data": "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",
              "ok": true,
              "headers": [
                [
                  "content-type",
                  "application/javascript"
                ]
              ],
              "status": 200,
              "status_text": ""
            }
          },
          "base_uri": "https://localhost:8080/",
          "height": 74
        },
        "id": "hev3qUcjUpZf",
        "outputId": "1ece4271-c09c-41aa-ad94-7d22da8cb805"
      },
      "execution_count": 16,
      "outputs": [
        {
          "output_type": "display_data",
          "data": {
            "text/html": [
              "\n",
              "     <input type=\"file\" id=\"files-786f3b01-1011-4288-92fa-2827eca3d4ca\" name=\"files[]\" multiple disabled\n",
              "        style=\"border:none\" />\n",
              "     <output id=\"result-786f3b01-1011-4288-92fa-2827eca3d4ca\">\n",
              "      Upload widget is only available when the cell has been executed in the\n",
              "      current browser session. Please rerun this cell to enable.\n",
              "      </output>\n",
              "      <script src=\"/nbextensions/google.colab/files.js\"></script> "
            ],
            "text/plain": [
              "<IPython.core.display.HTML object>"
            ]
          },
          "metadata": {}
        },
        {
          "output_type": "stream",
          "name": "stdout",
          "text": [
            "Saving my_util.py to my_util.py\n"
          ]
        }
      ]
    },
    {
      "cell_type": "code",
      "source": [
        "from my_util import sentence_generation"
      ],
      "metadata": {
        "id": "W4TSmaPFVH7Q"
      },
      "execution_count": 17,
      "outputs": []
    },
    {
      "cell_type": "markdown",
      "source": [
        "\n",
        "### 모델 변화\n",
        "- SimpleRNN, GRU, LSTM\n",
        "- Embedding vector 갯수 : 2, 4\n",
        "- RNN 유닛 갯수 : 24, 32"
      ],
      "metadata": {
        "id": "kU2l0_PVXGkU"
      }
    },
    {
      "cell_type": "code",
      "source": [
        "def execute_RNN_model(n_embed, n_unit):\n",
        "    model = Sequential([ \n",
        "            Embedding(vocab_size, n_embed, input_length=max_len-1),\n",
        "            SimpleRNN(n_unit),\n",
        "            Dense(vocab_size, activation='softmax')\n",
        "        ])\n",
        "    model.compile('adam', 'categorical_crossentropy', metrics=['accuracy'])\n",
        "    hist = model.fit(X, Y, epochs=200, verbose=0)\n",
        "    print(f\"정확도: {hist.history['accuracy'][-1]:.4f}\")\n",
        "    print(sentence_generation(model, t, max_len, '경마장에', 4))\n",
        "    print(sentence_generation(model, t, max_len, '그의', 2))\n",
        "    print(sentence_generation(model, t, max_len, '가는', 5))\n",
        "    "
      ],
      "metadata": {
        "id": "uXvlow-Kj1ET"
      },
      "execution_count": 18,
      "outputs": []
    },
    {
      "cell_type": "code",
      "source": [
        "def execute_LSTM_model(n_embed, n_unit):\n",
        "    model = Sequential([ \n",
        "            Embedding(vocab_size, n_embed, input_length=max_len-1),\n",
        "            LSTM(n_unit),\n",
        "            Dense(vocab_size, activation='softmax')\n",
        "        ])\n",
        "    model.compile('adam', 'categorical_crossentropy', metrics=['accuracy'])\n",
        "    hist = model.fit(X, Y, epochs=200, verbose=0)\n",
        "    print(f\"정확도: {hist.history['accuracy'][-1]:.4f}\")\n",
        "    print(sentence_generation(model, t, max_len, '경마장에', 4))\n",
        "    print(sentence_generation(model, t, max_len, '그의', 2))\n",
        "    print(sentence_generation(model, t, max_len, '가는', 5))\n",
        "    "
      ],
      "metadata": {
        "id": "auRaxsxSlOOZ"
      },
      "execution_count": 19,
      "outputs": []
    },
    {
      "cell_type": "code",
      "source": [
        "def execute_GRU_model(n_embed, n_unit):\n",
        "    model = Sequential([ \n",
        "            Embedding(vocab_size, n_embed, input_length=max_len-1),\n",
        "            GRU(n_unit),\n",
        "            Dense(vocab_size, activation='softmax')\n",
        "        ])\n",
        "    model.compile('adam', 'categorical_crossentropy', metrics=['accuracy'])\n",
        "    hist = model.fit(X, Y, epochs=200, verbose=0)\n",
        "    print(f\"정확도: {hist.history['accuracy'][-1]:.4f}\")\n",
        "    print(sentence_generation(model, t, max_len, '경마장에', 4))\n",
        "    print(sentence_generation(model, t, max_len, '그의', 2))\n",
        "    print(sentence_generation(model, t, max_len, '가는', 5))\n",
        "    "
      ],
      "metadata": {
        "id": "PROofISHkmjk"
      },
      "execution_count": 20,
      "outputs": []
    },
    {
      "cell_type": "code",
      "source": [
        "for n_embed in [2,4]:\n",
        "    for n_unit in [24,32]:\n",
        "        print(f'SimpleRNN, {n_embed}, {n_unit} ===================')\n",
        "        execute_RNN_model(n_embed, n_unit)\n",
        "        print()\n",
        "        print(f'LSTM, {n_embed}, {n_unit} ===================')\n",
        "        execute_LSTM_model(n_embed, n_unit)\n",
        "        print()\n",
        "        print(f'GRU, {n_embed}, {n_unit} ===================')\n",
        "        execute_GRU_model(n_embed, n_unit)\n",
        "        print()"
      ],
      "metadata": {
        "colab": {
          "base_uri": "https://localhost:8080/"
        },
        "id": "ZFDz0pijXpOv",
        "outputId": "a4b7d014-17c6-4a30-b48d-d054752750e3"
      },
      "execution_count": 21,
      "outputs": [
        {
          "output_type": "stream",
          "name": "stdout",
          "text": [
            "SimpleRNN, 2, 24 ===================\n",
            "정확도: 0.9091\n",
            "경마장에 말이 고와야 오는 말이\n",
            "그의 말이 법이다\n",
            "가는 말이 고와야 오는 말이 곱다\n",
            "\n",
            "LSTM, 2, 24 ===================\n",
            "정확도: 0.4545\n",
            "경마장에 말이 말이 말이 곱다\n",
            "그의 말이 말이\n",
            "가는 말이 말이 말이 오는 곱다\n",
            "\n",
            "GRU, 2, 24 ===================\n",
            "정확도: 0.4545\n",
            "경마장에 말이 말이 말이 말이\n",
            "그의 말이 말이\n",
            "가는 말이 말이 말이 말이 곱다\n",
            "\n",
            "SimpleRNN, 2, 32 ===================\n",
            "정확도: 0.8182\n",
            "경마장에 말이 말이 뛰고 있다\n",
            "그의 말이 말이\n",
            "가는 말이 고와야 오는 말이 곱다\n",
            "\n",
            "LSTM, 2, 32 ===================\n",
            "정확도: 0.4545\n",
            "경마장에 말이 말이 말이 있다\n",
            "그의 말이 말이\n",
            "가는 말이 말이 말이 뛰고 곱다\n",
            "\n",
            "GRU, 2, 32 ===================\n",
            "정확도: 0.5455\n",
            "경마장에 말이 말이 말이 뛰고\n",
            "그의 말이 말이\n",
            "가는 말이 말이 말이 뛰고 곱다\n",
            "\n",
            "SimpleRNN, 4, 24 ===================\n",
            "정확도: 0.9091\n",
            "경마장에 말이 고와야 오는 말이\n",
            "그의 말이 법이다\n",
            "가는 말이 고와야 오는 말이 곱다\n",
            "\n",
            "LSTM, 4, 24 ===================\n",
            "정확도: 0.4545\n",
            "경마장에 말이 말이 말이 말이\n",
            "그의 말이 말이\n",
            "가는 말이 말이 말이 오는 말이\n",
            "\n",
            "GRU, 4, 24 ===================\n",
            "정확도: 0.8182\n",
            "경마장에 말이 고와야 오는 말이\n",
            "그의 말이 법이다\n",
            "가는 말이 고와야 오는 말이 곱다\n",
            "\n",
            "SimpleRNN, 4, 32 ===================\n",
            "정확도: 1.0000\n",
            "경마장에 있는 말이 뛰고 있다\n",
            "그의 말이 법이다\n",
            "가는 말이 고와야 오는 말이 곱다\n",
            "\n",
            "LSTM, 4, 32 ===================\n",
            "정확도: 0.6364\n",
            "경마장에 말이 말이 뛰고 있다\n",
            "그의 말이 말이\n",
            "가는 말이 말이 말이 곱다 있다\n",
            "\n",
            "GRU, 4, 32 ===================\n",
            "정확도: 1.0000\n",
            "경마장에 있는 말이 뛰고 있다\n",
            "그의 말이 법이다\n",
            "가는 말이 고와야 오는 말이 곱다\n",
            "\n"
          ]
        }
      ]
    },
    {
      "cell_type": "markdown",
      "source": [
        "- SimpleRNN = 단어의 갯수가 적으면 효율적\n",
        "- LSTM, FRU = 짧은 문장은 비효율적, 대신에 긴 문장에서 효율적이다"
      ],
      "metadata": {
        "id": "FTBy1ocPlfUn"
      }
    },
    {
      "cell_type": "code",
      "source": [
        ""
      ],
      "metadata": {
        "id": "dyFWhei-YwkH"
      },
      "execution_count": null,
      "outputs": []
    }
  ]
}