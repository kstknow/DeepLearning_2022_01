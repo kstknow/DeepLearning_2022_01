{
  "nbformat": 4,
  "nbformat_minor": 0,
  "metadata": {
    "colab": {
      "name": "52_IMDB_감성분석_Conv1D.ipynb",
      "provenance": []
    },
    "kernelspec": {
      "name": "python3",
      "display_name": "Python 3"
    },
    "language_info": {
      "name": "python"
    },
    "accelerator": "GPU"
  },
  "cells": [
    {
      "cell_type": "markdown",
      "source": [
        "# IMDB 영화 리뷰 감성분석 - Conv1D"
      ],
      "metadata": {
        "id": "d1jydw4Y9w3R"
      }
    },
    {
      "cell_type": "code",
      "source": [
        "import numpy as np\n",
        "import matplotlib.pyplot as plt\n",
        "from tensorflow.keras.datasets import imdb\n",
        "import warnings\n",
        "warnings.filterwarnings('ignore')"
      ],
      "metadata": {
        "id": "GnZvLngv96Mo"
      },
      "execution_count": 2,
      "outputs": []
    },
    {
      "cell_type": "markdown",
      "source": [
        "### Conv1D으로 IMDB 리뷰 감성 분석\n",
        "- 단어 빈도수 : 10,000개 ( 총 88,584)\n",
        "- 문장의 단어수 : 500( 최대 2,494)\n",
        "- test data 중 40%(10,000개)는 검증용으로 분리"
      ],
      "metadata": {
        "id": "GebAy28L_e8t"
      }
    },
    {
      "cell_type": "code",
      "source": [
        "import tensorflow as tf\n",
        "seed = 2022\n",
        "np.random.seed(seed)\n",
        "tf.random.set_seed(seed)"
      ],
      "metadata": {
        "id": "iHHF1uykAWVV"
      },
      "execution_count": 3,
      "outputs": []
    },
    {
      "cell_type": "code",
      "source": [
        "from tensorflow.keras.models import Sequential, load_model\n",
        "from tensorflow.keras.layers import Embedding, Dense, Dropout\n",
        "from tensorflow.keras.layers import Conv1D, MaxPooling1D, GlobalMaxPooling1D\n",
        "from tensorflow.keras.preprocessing.sequence import pad_sequences\n",
        "from tensorflow.keras.callbacks import ModelCheckpoint, EarlyStopping"
      ],
      "metadata": {
        "id": "C0_M6MUpAytp"
      },
      "execution_count": 4,
      "outputs": []
    },
    {
      "cell_type": "code",
      "source": [
        "(X_train, y_train), (X_test, y_test) = imdb.load_data(num_words=10000)\n",
        "X_train.shape, X_test.shape, y_train.shape"
      ],
      "metadata": {
        "colab": {
          "base_uri": "https://localhost:8080/"
        },
        "id": "563UFtTyA8bk",
        "outputId": "144e3cc0-fd52-4f0e-e1f4-cb8f81b85813"
      },
      "execution_count": 5,
      "outputs": [
        {
          "output_type": "stream",
          "name": "stdout",
          "text": [
            "Downloading data from https://storage.googleapis.com/tensorflow/tf-keras-datasets/imdb.npz\n",
            "17465344/17464789 [==============================] - 0s 0us/step\n",
            "17473536/17464789 [==============================] - 0s 0us/step\n"
          ]
        },
        {
          "output_type": "execute_result",
          "data": {
            "text/plain": [
              "((25000,), (25000,), (25000,))"
            ]
          },
          "metadata": {},
          "execution_count": 5
        }
      ]
    },
    {
      "cell_type": "code",
      "source": [
        "max_len = 500\n",
        "X_train = pad_sequences(X_train, maxlen=max_len)\n",
        "X_test = pad_sequences(X_test, maxlen=max_len)\n",
        "X_train.shape, X_test.shape\n",
        "# 500으로 맞춰져 있다."
      ],
      "metadata": {
        "colab": {
          "base_uri": "https://localhost:8080/"
        },
        "id": "lnNHUIkcBHHN",
        "outputId": "fda22161-0827-4cba-c665-aad3c7dd77b5"
      },
      "execution_count": 6,
      "outputs": [
        {
          "output_type": "execute_result",
          "data": {
            "text/plain": [
              "((25000, 500), (25000, 500))"
            ]
          },
          "metadata": {},
          "execution_count": 6
        }
      ]
    },
    {
      "cell_type": "code",
      "source": [
        "from sklearn.model_selection import train_test_split\n",
        "X_test, X_valid, y_test, y_valid = train_test_split(\n",
        "    X_test, y_test, stratify=y_test, test_size=0.4, random_state=seed\n",
        ")\n",
        "X_test.shape, X_valid.shape, y_test.shape, y_valid.shape"
      ],
      "metadata": {
        "colab": {
          "base_uri": "https://localhost:8080/"
        },
        "id": "gW6QrxGdDDZf",
        "outputId": "b9b7a22d-e611-4de4-bbbb-571eaeedc6c5"
      },
      "execution_count": 7,
      "outputs": [
        {
          "output_type": "execute_result",
          "data": {
            "text/plain": [
              "((15000, 500), (10000, 500), (15000,), (10000,))"
            ]
          },
          "metadata": {},
          "execution_count": 7
        }
      ]
    },
    {
      "cell_type": "markdown",
      "source": [
        "- Case 1) Conv1D X 2, MaxPooling1D X 2 , Dropout, GlobalMaxPooling1D\n",
        "    - embedding dim : 100\n",
        "    \n",
        "    "
      ],
      "metadata": {
        "id": "Md8kUFIcBez8"
      }
    },
    {
      "cell_type": "code",
      "source": [
        "model1 = Sequential([ \n",
        "    Embedding(10000, 100, input_length=max_len),\n",
        "    Dropout(0.5),\n",
        "    Conv1D(64, 7, activation='relu'),\n",
        "    MaxPooling1D(7),\n",
        "    Conv1D(64, 5, activation='relu'),\n",
        "    MaxPooling1D(5),\n",
        "    GlobalMaxPooling1D(),\n",
        "    Dense(1, activation='sigmoid')\n",
        "])\n",
        "model1.summary()"
      ],
      "metadata": {
        "colab": {
          "base_uri": "https://localhost:8080/"
        },
        "id": "0AE0cynyBxcN",
        "outputId": "84bf08e8-dc91-45cb-9096-29ab6e7d775d"
      },
      "execution_count": 8,
      "outputs": [
        {
          "output_type": "stream",
          "name": "stdout",
          "text": [
            "Model: \"sequential\"\n",
            "_________________________________________________________________\n",
            " Layer (type)                Output Shape              Param #   \n",
            "=================================================================\n",
            " embedding (Embedding)       (None, 500, 100)          1000000   \n",
            "                                                                 \n",
            " dropout (Dropout)           (None, 500, 100)          0         \n",
            "                                                                 \n",
            " conv1d (Conv1D)             (None, 494, 64)           44864     \n",
            "                                                                 \n",
            " max_pooling1d (MaxPooling1D  (None, 70, 64)           0         \n",
            " )                                                               \n",
            "                                                                 \n",
            " conv1d_1 (Conv1D)           (None, 66, 64)            20544     \n",
            "                                                                 \n",
            " max_pooling1d_1 (MaxPooling  (None, 13, 64)           0         \n",
            " 1D)                                                             \n",
            "                                                                 \n",
            " global_max_pooling1d (Globa  (None, 64)               0         \n",
            " lMaxPooling1D)                                                  \n",
            "                                                                 \n",
            " dense (Dense)               (None, 1)                 65        \n",
            "                                                                 \n",
            "=================================================================\n",
            "Total params: 1,065,473\n",
            "Trainable params: 1,065,473\n",
            "Non-trainable params: 0\n",
            "_________________________________________________________________\n"
          ]
        }
      ]
    },
    {
      "cell_type": "code",
      "source": [
        "model1.compile('adam', 'binary_crossentropy', ['accuracy'])\n",
        "\n",
        "model_path = 'best-imdb-conv1d.h5'\n",
        "mc = ModelCheckpoint(model_path, save_best_only=True, verbose=1)\n",
        "es = EarlyStopping(patience=5)"
      ],
      "metadata": {
        "id": "tjgY1YVrCOxe"
      },
      "execution_count": 9,
      "outputs": []
    },
    {
      "cell_type": "code",
      "source": [
        "hist1 = model1.fit(\n",
        "    X_train, y_train, epochs=30, batch_size=128, \n",
        "    validation_data=[X_valid, y_valid],\n",
        "    callbacks=[mc,es]\n",
        ")"
      ],
      "metadata": {
        "colab": {
          "base_uri": "https://localhost:8080/"
        },
        "id": "aTAwKS9vCmo1",
        "outputId": "ff15be68-f64d-4e05-c80f-98d908010c5f"
      },
      "execution_count": 10,
      "outputs": [
        {
          "output_type": "stream",
          "name": "stdout",
          "text": [
            "Epoch 1/30\n",
            "196/196 [==============================] - ETA: 0s - loss: 0.5392 - accuracy: 0.7017\n",
            "Epoch 00001: val_loss improved from inf to 0.35699, saving model to best-imdb-conv1d.h5\n",
            "196/196 [==============================] - 17s 32ms/step - loss: 0.5392 - accuracy: 0.7017 - val_loss: 0.3570 - val_accuracy: 0.8434\n",
            "Epoch 2/30\n",
            "194/196 [============================>.] - ETA: 0s - loss: 0.2814 - accuracy: 0.8863\n",
            "Epoch 00002: val_loss improved from 0.35699 to 0.32018, saving model to best-imdb-conv1d.h5\n",
            "196/196 [==============================] - 6s 29ms/step - loss: 0.2815 - accuracy: 0.8862 - val_loss: 0.3202 - val_accuracy: 0.8626\n",
            "Epoch 3/30\n",
            "195/196 [============================>.] - ETA: 0s - loss: 0.2066 - accuracy: 0.9204\n",
            "Epoch 00003: val_loss did not improve from 0.32018\n",
            "196/196 [==============================] - 6s 28ms/step - loss: 0.2066 - accuracy: 0.9204 - val_loss: 0.3336 - val_accuracy: 0.8626\n",
            "Epoch 4/30\n",
            "194/196 [============================>.] - ETA: 0s - loss: 0.1545 - accuracy: 0.9416\n",
            "Epoch 00004: val_loss did not improve from 0.32018\n",
            "196/196 [==============================] - 6s 30ms/step - loss: 0.1544 - accuracy: 0.9415 - val_loss: 0.3700 - val_accuracy: 0.8537\n",
            "Epoch 5/30\n",
            "194/196 [============================>.] - ETA: 0s - loss: 0.1188 - accuracy: 0.9560\n",
            "Epoch 00005: val_loss did not improve from 0.32018\n",
            "196/196 [==============================] - 6s 29ms/step - loss: 0.1186 - accuracy: 0.9560 - val_loss: 0.4297 - val_accuracy: 0.8520\n",
            "Epoch 6/30\n",
            "194/196 [============================>.] - ETA: 0s - loss: 0.0879 - accuracy: 0.9680\n",
            "Epoch 00006: val_loss did not improve from 0.32018\n",
            "196/196 [==============================] - 6s 28ms/step - loss: 0.0877 - accuracy: 0.9680 - val_loss: 0.4799 - val_accuracy: 0.8515\n",
            "Epoch 7/30\n",
            "194/196 [============================>.] - ETA: 0s - loss: 0.0653 - accuracy: 0.9779\n",
            "Epoch 00007: val_loss did not improve from 0.32018\n",
            "196/196 [==============================] - 6s 29ms/step - loss: 0.0653 - accuracy: 0.9778 - val_loss: 0.5402 - val_accuracy: 0.8459\n"
          ]
        }
      ]
    },
    {
      "cell_type": "code",
      "source": [
        "best_model = load_model(model_path)\n",
        "best_model.evaluate(X_test, y_test)"
      ],
      "metadata": {
        "colab": {
          "base_uri": "https://localhost:8080/"
        },
        "id": "Iy8yFpPQm9L8",
        "outputId": "06611e18-b8f7-4c0f-c317-9460f81238b5"
      },
      "execution_count": 11,
      "outputs": [
        {
          "output_type": "stream",
          "name": "stdout",
          "text": [
            "469/469 [==============================] - 5s 8ms/step - loss: 0.3165 - accuracy: 0.8659\n"
          ]
        },
        {
          "output_type": "execute_result",
          "data": {
            "text/plain": [
              "[0.316537082195282, 0.8658666610717773]"
            ]
          },
          "metadata": {},
          "execution_count": 11
        }
      ]
    },
    {
      "cell_type": "markdown",
      "source": [
        "- Case 2) Conv1D + LSTM"
      ],
      "metadata": {
        "id": "wccqxIVBD-t-"
      }
    },
    {
      "cell_type": "code",
      "source": [
        "from tensorflow.keras.layers import  LSTM"
      ],
      "metadata": {
        "id": "alilBgTmok4m"
      },
      "execution_count": 12,
      "outputs": []
    },
    {
      "cell_type": "code",
      "source": [
        "model2 = Sequential([ \n",
        "    Embedding(10000, 100, input_length=max_len),\n",
        "    Dropout(0.5),\n",
        "    Conv1D(64, 5, activation='relu'),\n",
        "    MaxPooling1D(4),\n",
        "    LSTM(100),\n",
        "    Dense(1, activation='sigmoid')\n",
        "])\n",
        "model2.summary()"
      ],
      "metadata": {
        "colab": {
          "base_uri": "https://localhost:8080/"
        },
        "id": "c71CbELnoKV-",
        "outputId": "548c8182-c55b-4c77-fb90-e4a7cb4fc2fa"
      },
      "execution_count": 13,
      "outputs": [
        {
          "output_type": "stream",
          "name": "stdout",
          "text": [
            "Model: \"sequential_1\"\n",
            "_________________________________________________________________\n",
            " Layer (type)                Output Shape              Param #   \n",
            "=================================================================\n",
            " embedding_1 (Embedding)     (None, 500, 100)          1000000   \n",
            "                                                                 \n",
            " dropout_1 (Dropout)         (None, 500, 100)          0         \n",
            "                                                                 \n",
            " conv1d_2 (Conv1D)           (None, 496, 64)           32064     \n",
            "                                                                 \n",
            " max_pooling1d_2 (MaxPooling  (None, 124, 64)          0         \n",
            " 1D)                                                             \n",
            "                                                                 \n",
            " lstm (LSTM)                 (None, 100)               66000     \n",
            "                                                                 \n",
            " dense_1 (Dense)             (None, 1)                 101       \n",
            "                                                                 \n",
            "=================================================================\n",
            "Total params: 1,098,165\n",
            "Trainable params: 1,098,165\n",
            "Non-trainable params: 0\n",
            "_________________________________________________________________\n"
          ]
        }
      ]
    },
    {
      "cell_type": "code",
      "source": [
        "model2.compile('adam', 'binary_crossentropy', ['accuracy'])\n",
        "\n",
        "model_path = 'best-imdb-conv1d-lstm.h5'\n",
        "mc = ModelCheckpoint(model_path, save_best_only=True, verbose=1)\n",
        "es = EarlyStopping(patience=5)"
      ],
      "metadata": {
        "id": "D5oNt9zNooSn"
      },
      "execution_count": 14,
      "outputs": []
    },
    {
      "cell_type": "code",
      "source": [
        "hist2 = model2.fit(\n",
        "    X_train, y_train, epochs=30, batch_size=128, \n",
        "    validation_data=[X_valid, y_valid],\n",
        "    callbacks=[mc,es]\n",
        ")"
      ],
      "metadata": {
        "colab": {
          "base_uri": "https://localhost:8080/"
        },
        "id": "rMl54o1OovGt",
        "outputId": "3e3eaa85-af36-4d2d-d9fb-c7af26a74080"
      },
      "execution_count": 15,
      "outputs": [
        {
          "output_type": "stream",
          "name": "stdout",
          "text": [
            "Epoch 1/30\n",
            "196/196 [==============================] - ETA: 0s - loss: 0.4298 - accuracy: 0.7856\n",
            "Epoch 00001: val_loss improved from inf to 0.30066, saving model to best-imdb-conv1d-lstm.h5\n",
            "196/196 [==============================] - 18s 61ms/step - loss: 0.4298 - accuracy: 0.7856 - val_loss: 0.3007 - val_accuracy: 0.8712\n",
            "Epoch 2/30\n",
            "195/196 [============================>.] - ETA: 0s - loss: 0.2162 - accuracy: 0.9192\n",
            "Epoch 00002: val_loss improved from 0.30066 to 0.28842, saving model to best-imdb-conv1d-lstm.h5\n",
            "196/196 [==============================] - 10s 51ms/step - loss: 0.2162 - accuracy: 0.9192 - val_loss: 0.2884 - val_accuracy: 0.8808\n",
            "Epoch 3/30\n",
            "195/196 [============================>.] - ETA: 0s - loss: 0.1568 - accuracy: 0.9435\n",
            "Epoch 00003: val_loss did not improve from 0.28842\n",
            "196/196 [==============================] - 10s 51ms/step - loss: 0.1569 - accuracy: 0.9434 - val_loss: 0.3196 - val_accuracy: 0.8825\n",
            "Epoch 4/30\n",
            "195/196 [============================>.] - ETA: 0s - loss: 0.1219 - accuracy: 0.9569\n",
            "Epoch 00004: val_loss did not improve from 0.28842\n",
            "196/196 [==============================] - 10s 51ms/step - loss: 0.1218 - accuracy: 0.9570 - val_loss: 0.3277 - val_accuracy: 0.8747\n",
            "Epoch 5/30\n",
            "196/196 [==============================] - ETA: 0s - loss: 0.0968 - accuracy: 0.9668\n",
            "Epoch 00005: val_loss did not improve from 0.28842\n",
            "196/196 [==============================] - 10s 51ms/step - loss: 0.0968 - accuracy: 0.9668 - val_loss: 0.4620 - val_accuracy: 0.8611\n",
            "Epoch 6/30\n",
            "196/196 [==============================] - ETA: 0s - loss: 0.0796 - accuracy: 0.9725\n",
            "Epoch 00006: val_loss did not improve from 0.28842\n",
            "196/196 [==============================] - 10s 51ms/step - loss: 0.0796 - accuracy: 0.9725 - val_loss: 0.3897 - val_accuracy: 0.8706\n",
            "Epoch 7/30\n",
            "196/196 [==============================] - ETA: 0s - loss: 0.0604 - accuracy: 0.9801\n",
            "Epoch 00007: val_loss did not improve from 0.28842\n",
            "196/196 [==============================] - 10s 51ms/step - loss: 0.0604 - accuracy: 0.9801 - val_loss: 0.4408 - val_accuracy: 0.8681\n"
          ]
        }
      ]
    },
    {
      "cell_type": "code",
      "source": [
        "best_model = load_model(model_path)\n",
        "best_model.evaluate(X_test, y_test)"
      ],
      "metadata": {
        "colab": {
          "base_uri": "https://localhost:8080/"
        },
        "id": "9pVE93Vdo5EQ",
        "outputId": "c849865b-7444-42bc-b770-677ca2f4208e"
      },
      "execution_count": 16,
      "outputs": [
        {
          "output_type": "stream",
          "name": "stdout",
          "text": [
            "469/469 [==============================] - 7s 14ms/step - loss: 0.2874 - accuracy: 0.8806\n"
          ]
        },
        {
          "output_type": "execute_result",
          "data": {
            "text/plain": [
              "[0.28742682933807373, 0.8805999755859375]"
            ]
          },
          "metadata": {},
          "execution_count": 16
        }
      ]
    },
    {
      "cell_type": "markdown",
      "source": [
        "- Case 3) conv1D + Dense "
      ],
      "metadata": {
        "id": "44JucOaGpOT1"
      }
    },
    {
      "cell_type": "code",
      "source": [
        "model3 = Sequential([ \n",
        "    Embedding(10000, 100, input_length=max_len),\n",
        "    Dropout(0.5),\n",
        "    Conv1D(64, 5, activation='relu'),\n",
        "    MaxPooling1D(4),\n",
        "    GlobalMaxPooling1D(),\n",
        "    Dense(100, activation='relu'),  \n",
        "    Dense(1, activation='sigmoid')\n",
        "])\n",
        "model3.summary()"
      ],
      "metadata": {
        "colab": {
          "base_uri": "https://localhost:8080/"
        },
        "id": "sgL3HcAwpurG",
        "outputId": "856bd574-29f9-4593-9c2e-e977cc2256db"
      },
      "execution_count": 17,
      "outputs": [
        {
          "output_type": "stream",
          "name": "stdout",
          "text": [
            "Model: \"sequential_2\"\n",
            "_________________________________________________________________\n",
            " Layer (type)                Output Shape              Param #   \n",
            "=================================================================\n",
            " embedding_2 (Embedding)     (None, 500, 100)          1000000   \n",
            "                                                                 \n",
            " dropout_2 (Dropout)         (None, 500, 100)          0         \n",
            "                                                                 \n",
            " conv1d_3 (Conv1D)           (None, 496, 64)           32064     \n",
            "                                                                 \n",
            " max_pooling1d_3 (MaxPooling  (None, 124, 64)          0         \n",
            " 1D)                                                             \n",
            "                                                                 \n",
            " global_max_pooling1d_1 (Glo  (None, 64)               0         \n",
            " balMaxPooling1D)                                                \n",
            "                                                                 \n",
            " dense_2 (Dense)             (None, 100)               6500      \n",
            "                                                                 \n",
            " dense_3 (Dense)             (None, 1)                 101       \n",
            "                                                                 \n",
            "=================================================================\n",
            "Total params: 1,038,665\n",
            "Trainable params: 1,038,665\n",
            "Non-trainable params: 0\n",
            "_________________________________________________________________\n"
          ]
        }
      ]
    },
    {
      "cell_type": "code",
      "source": [
        "model3.compile('adam', 'binary_crossentropy', ['accuracy'])\n",
        "\n",
        "model_path = 'best-imdb-conv1d-fcn.h5'\n",
        "mc = ModelCheckpoint(model_path, save_best_only=True, verbose=1)\n",
        "es = EarlyStopping(patience=5)"
      ],
      "metadata": {
        "id": "1ZxY1qZ2p_2F"
      },
      "execution_count": 18,
      "outputs": []
    },
    {
      "cell_type": "code",
      "source": [
        "hist3 = model3.fit(\n",
        "    X_train, y_train, epochs=30, batch_size=128, \n",
        "    validation_data=[X_valid, y_valid],\n",
        "    callbacks=[mc,es]\n",
        ")"
      ],
      "metadata": {
        "colab": {
          "base_uri": "https://localhost:8080/"
        },
        "id": "Y9cRASP-qW2d",
        "outputId": "13d0f1d4-3a81-4aaf-ddbb-d9b5ce531e20"
      },
      "execution_count": 19,
      "outputs": [
        {
          "output_type": "stream",
          "name": "stdout",
          "text": [
            "Epoch 1/30\n",
            "194/196 [============================>.] - ETA: 0s - loss: 0.5696 - accuracy: 0.6855\n",
            "Epoch 00001: val_loss improved from inf to 0.35787, saving model to best-imdb-conv1d-fcn.h5\n",
            "196/196 [==============================] - 10s 36ms/step - loss: 0.5684 - accuracy: 0.6864 - val_loss: 0.3579 - val_accuracy: 0.8440\n",
            "Epoch 2/30\n",
            "195/196 [============================>.] - ETA: 0s - loss: 0.2962 - accuracy: 0.8759\n",
            "Epoch 00002: val_loss improved from 0.35787 to 0.27438, saving model to best-imdb-conv1d-fcn.h5\n",
            "196/196 [==============================] - 6s 30ms/step - loss: 0.2962 - accuracy: 0.8759 - val_loss: 0.2744 - val_accuracy: 0.8846\n",
            "Epoch 3/30\n",
            "196/196 [==============================] - ETA: 0s - loss: 0.2037 - accuracy: 0.9214\n",
            "Epoch 00003: val_loss improved from 0.27438 to 0.26261, saving model to best-imdb-conv1d-fcn.h5\n",
            "196/196 [==============================] - 5s 25ms/step - loss: 0.2037 - accuracy: 0.9214 - val_loss: 0.2626 - val_accuracy: 0.8922\n",
            "Epoch 4/30\n",
            "196/196 [==============================] - ETA: 0s - loss: 0.1442 - accuracy: 0.9464\n",
            "Epoch 00004: val_loss did not improve from 0.26261\n",
            "196/196 [==============================] - 5s 25ms/step - loss: 0.1442 - accuracy: 0.9464 - val_loss: 0.2732 - val_accuracy: 0.8905\n",
            "Epoch 5/30\n",
            "196/196 [==============================] - ETA: 0s - loss: 0.1038 - accuracy: 0.9621\n",
            "Epoch 00005: val_loss did not improve from 0.26261\n",
            "196/196 [==============================] - 5s 25ms/step - loss: 0.1038 - accuracy: 0.9621 - val_loss: 0.3008 - val_accuracy: 0.8912\n",
            "Epoch 6/30\n",
            "196/196 [==============================] - ETA: 0s - loss: 0.0717 - accuracy: 0.9758\n",
            "Epoch 00006: val_loss did not improve from 0.26261\n",
            "196/196 [==============================] - 5s 24ms/step - loss: 0.0717 - accuracy: 0.9758 - val_loss: 0.3258 - val_accuracy: 0.8924\n",
            "Epoch 7/30\n",
            "196/196 [==============================] - ETA: 0s - loss: 0.0560 - accuracy: 0.9813\n",
            "Epoch 00007: val_loss did not improve from 0.26261\n",
            "196/196 [==============================] - 5s 25ms/step - loss: 0.0560 - accuracy: 0.9813 - val_loss: 0.3499 - val_accuracy: 0.8907\n",
            "Epoch 8/30\n",
            "196/196 [==============================] - ETA: 0s - loss: 0.0447 - accuracy: 0.9853\n",
            "Epoch 00008: val_loss did not improve from 0.26261\n",
            "196/196 [==============================] - 5s 25ms/step - loss: 0.0447 - accuracy: 0.9853 - val_loss: 0.3761 - val_accuracy: 0.8912\n"
          ]
        }
      ]
    },
    {
      "cell_type": "code",
      "source": [
        "best_model = load_model(model_path)\n",
        "best_model.evaluate(X_test, y_test)"
      ],
      "metadata": {
        "colab": {
          "base_uri": "https://localhost:8080/"
        },
        "id": "IBgQAdiCqaiB",
        "outputId": "ea86367d-e5d0-4915-b9ce-4d1c31b68127"
      },
      "execution_count": 20,
      "outputs": [
        {
          "output_type": "stream",
          "name": "stdout",
          "text": [
            "469/469 [==============================] - 3s 5ms/step - loss: 0.2606 - accuracy: 0.8919\n"
          ]
        },
        {
          "output_type": "execute_result",
          "data": {
            "text/plain": [
              "[0.2606480121612549, 0.8919333219528198]"
            ]
          },
          "metadata": {},
          "execution_count": 20
        }
      ]
    },
    {
      "cell_type": "code",
      "source": [
        ""
      ],
      "metadata": {
        "id": "y_BMzvceqrlt"
      },
      "execution_count": null,
      "outputs": []
    }
  ]
}