{
  "nbformat": 4,
  "nbformat_minor": 0,
  "metadata": {
    "colab": {
      "name": "21.Word2Vec.ipynb",
      "provenance": []
    },
    "kernelspec": {
      "name": "python3",
      "display_name": "Python 3"
    },
    "language_info": {
      "name": "python"
    }
  },
  "cells": [
    {
      "cell_type": "markdown",
      "source": [
        "## 영어 Word2Vec 만들기"
      ],
      "metadata": {
        "id": "VpqHelE8wNQl"
      }
    },
    {
      "cell_type": "code",
      "source": [
        "import nltk\n",
        "nltk.download('punkt')"
      ],
      "metadata": {
        "colab": {
          "base_uri": "https://localhost:8080/"
        },
        "id": "NH7qFcMQwXwL",
        "outputId": "b48878be-6a57-4401-be47-61c86c57f956"
      },
      "execution_count": 1,
      "outputs": [
        {
          "output_type": "stream",
          "name": "stdout",
          "text": [
            "[nltk_data] Downloading package punkt to /root/nltk_data...\n",
            "[nltk_data]   Unzipping tokenizers/punkt.zip.\n"
          ]
        },
        {
          "output_type": "execute_result",
          "data": {
            "text/plain": [
              "True"
            ]
          },
          "metadata": {},
          "execution_count": 1
        }
      ]
    },
    {
      "cell_type": "code",
      "source": [
        "import re,  zipfile\n",
        "from urllib.request import urlretrieve\n",
        "from lxml import etree\n",
        "from nltk.tokenize import word_tokenize, sent_tokenize"
      ],
      "metadata": {
        "id": "yE815NyAwbqr"
      },
      "execution_count": 8,
      "outputs": []
    },
    {
      "cell_type": "code",
      "source": [
        "urlretrieve(\"https://raw.githubusercontent.com/ukairia777/tensorflow-nlp-tutorial/main/09.%20Word%20Embedding/dataset/ted_en-20160408.xml\", filename=\"ted_en-20160408.xml\")"
      ],
      "metadata": {
        "colab": {
          "base_uri": "https://localhost:8080/"
        },
        "id": "_0u0OpSTxIsS",
        "outputId": "b0a4569e-feae-424f-8d02-b41e87bf9625"
      },
      "execution_count": 11,
      "outputs": [
        {
          "output_type": "execute_result",
          "data": {
            "text/plain": [
              "('ted_en-20160408.xml', <http.client.HTTPMessage at 0x7fc6b499db90>)"
            ]
          },
          "metadata": {},
          "execution_count": 11
        }
      ]
    },
    {
      "cell_type": "code",
      "source": [
        "!ls -l ted*"
      ],
      "metadata": {
        "colab": {
          "base_uri": "https://localhost:8080/"
        },
        "id": "iy1jAIt5xOJ8",
        "outputId": "31ee30c1-a61d-443b-b321-3e5a263be337"
      },
      "execution_count": 12,
      "outputs": [
        {
          "output_type": "stream",
          "name": "stdout",
          "text": [
            "-rw-r--r-- 1 root root 74533638 Jan 25 01:08 ted_en-20160408.xml\n"
          ]
        }
      ]
    },
    {
      "cell_type": "code",
      "source": [
        "!more ted*  # 한페이지씩 읽는 것"
      ],
      "metadata": {
        "colab": {
          "base_uri": "https://localhost:8080/"
        },
        "id": "sZ6HUAAfxbqz",
        "outputId": "2cc71183-5bc8-43c5-e392-7f254b262717"
      },
      "execution_count": 13,
      "outputs": [
        {
          "output_type": "stream",
          "name": "stdout",
          "text": [
            "<?xml version=\"1.0\" encoding=\"UTF-8\"?>\n",
            "<xml language=\"en\"><file id=\"1\">\n",
            "  <head>\n",
            "    <url>http://www.ted.com/talks/knut_haanaes_two_reasons_companies_fail_and_ho\n",
            "w_to_avoid_them</url>\n",
            "    <pagesize>72832</pagesize>\n",
            "    <dtime>Fri Apr 01 00:57:03 CEST 2016</dtime>\n",
            "    <encoding>UTF-8</encoding>\n",
            "    <content-type>text/html; charset=utf-8</content-type>\n",
            "    <keywords>talks, business, creativity, curiosity, goal-setting, innovation, \n",
            "motivation, potential, success, work</keywords>\n",
            "    <speaker>Knut Haanaes</speaker>\n",
            "    <talkid>2470</talkid>\n",
            "    <videourl>http://download.ted.com/talks/KnutHaanaes_2015S.mp4</videourl>\n",
            "    <videopath>talks/KnutHaanaes_2015S.mp4</videopath>\n",
            "    <date>2015/06/30</date>\n",
            "    <title>Knut Haanaes: Two reasons companies fail -- and how to avoid them</ti\n",
            "tle>\n",
            "    <description>TED Talk Subtitles and Transcript: Is it possible to run a comp\n",
            "any and reinvent it at the same time? For business strategist Knut Haanaes, the \n",
            "ability to innovate after becoming successful is the mark of a great organizatio\n",
            "n. He shares insights on how to strike a balance between perfecting what we alre\n",
            "ady know and exploring totally new ideas -- and lays out how to avoid two major \n",
            "\u001b[K"
          ]
        }
      ]
    },
    {
      "cell_type": "markdown",
      "source": [
        "### 훈련 데이터 전처리하기"
      ],
      "metadata": {
        "id": "bphV8b_2xoul"
      }
    },
    {
      "cell_type": "code",
      "source": [
        "targetXML = open('ted_en-20160408.xml', 'r', encoding='UTF8')\n",
        "target_text = etree.parse(targetXML)"
      ],
      "metadata": {
        "id": "goE790egyIrU"
      },
      "execution_count": 15,
      "outputs": []
    },
    {
      "cell_type": "code",
      "source": [
        "# xml 파일로부터 <content>와 </content> 사이의 내용만 가져온다.\n",
        "parse_text = '\\n'.join(target_text.xpath('//content/text()'))"
      ],
      "metadata": {
        "id": "Lcq4nBtiyJGT"
      },
      "execution_count": 16,
      "outputs": []
    },
    {
      "cell_type": "code",
      "source": [
        "# 정규 표현식의 sub 모듈을 통해 content 중간에 등장하는 (Audio), (Laughter) 등의 배경음 부분을 제거.\n",
        "# 해당 코드는 괄호로 구성된 내용을 제거.\n",
        "content_text = re.sub(r'\\([^)]*\\)', '', parse_text)"
      ],
      "metadata": {
        "id": "-hV9YLSyyPOj"
      },
      "execution_count": 18,
      "outputs": []
    },
    {
      "cell_type": "code",
      "source": [
        "# 입력 코퍼스에 대해서 NLTK를 이용하여 문장 토큰화를 수행.\n",
        "sent_text = sent_tokenize(content_text)"
      ],
      "metadata": {
        "id": "amKE5LbmywG0"
      },
      "execution_count": 19,
      "outputs": []
    },
    {
      "cell_type": "code",
      "source": [
        "# 각 문장에 대해서 구두점을 제거하고, 대문자를 소문자로 변환.\n",
        "normalized_text = []\n",
        "for string in sent_text:\n",
        "     tokens = re.sub(r\"[^a-z0-9]+\", \" \", string.lower())\n",
        "     normalized_text.append(tokens)"
      ],
      "metadata": {
        "id": "e8QM79kUyyOj"
      },
      "execution_count": 20,
      "outputs": []
    },
    {
      "cell_type": "code",
      "source": [
        "# 각 문장에 대해서 NLTK를 이용하여 단어 토큰화를 수행.\n",
        "result = [word_tokenize(sentence) for sentence in normalized_text]"
      ],
      "metadata": {
        "id": "aqV8pQvFzZ-c"
      },
      "execution_count": 21,
      "outputs": []
    },
    {
      "cell_type": "code",
      "source": [
        "print(f'총 샘플의 개수 : {len(result):,d}')"
      ],
      "metadata": {
        "colab": {
          "base_uri": "https://localhost:8080/"
        },
        "id": "4BF45gnvzrFN",
        "outputId": "cd50353b-066a-4d93-a887-4dc15b94ba7f"
      },
      "execution_count": 24,
      "outputs": [
        {
          "output_type": "stream",
          "name": "stdout",
          "text": [
            "총 샘플의 개수 : 273,424\n"
          ]
        }
      ]
    },
    {
      "cell_type": "code",
      "source": [
        "# 샘플 3개만 출력\n",
        "for line in result[:3]:\n",
        "    print(line)"
      ],
      "metadata": {
        "colab": {
          "base_uri": "https://localhost:8080/"
        },
        "id": "xeKKWMGEz8Al",
        "outputId": "2fe5270a-6418-4357-9640-9e1b99fb97b9"
      },
      "execution_count": 25,
      "outputs": [
        {
          "output_type": "stream",
          "name": "stdout",
          "text": [
            "['here', 'are', 'two', 'reasons', 'companies', 'fail', 'they', 'only', 'do', 'more', 'of', 'the', 'same', 'or', 'they', 'only', 'do', 'what', 's', 'new']\n",
            "['to', 'me', 'the', 'real', 'real', 'solution', 'to', 'quality', 'growth', 'is', 'figuring', 'out', 'the', 'balance', 'between', 'two', 'activities', 'exploration', 'and', 'exploitation']\n",
            "['both', 'are', 'necessary', 'but', 'it', 'can', 'be', 'too', 'much', 'of', 'a', 'good', 'thing']\n"
          ]
        }
      ]
    },
    {
      "cell_type": "markdown",
      "source": [
        "### Word2Vec 훈련시키기\n",
        "\n",
        "```\n",
        "size = 워드 벡터의 특징 값. 즉, 임베딩 된 벡터의 차원.\n",
        "window = 컨텍스트 윈도우 크기\n",
        "min_count = 단어 최소 빈도 수 제한 (빈도가 적은 단어들은 학습하지 않는다.)\n",
        "workers = 학습을 위한 프로세스 수\n",
        "sg = 0은 CBOW, 1은 Skip-gram.\n",
        "```"
      ],
      "metadata": {
        "id": "FiA8eUcU0UNj"
      }
    },
    {
      "cell_type": "code",
      "source": [
        "from gensim.models import Word2Vec\n",
        "from gensim.models import KeyedVectors\n"
      ],
      "metadata": {
        "id": "oeyetwaD0h3S"
      },
      "execution_count": 26,
      "outputs": []
    },
    {
      "cell_type": "code",
      "source": [
        "%time model = Word2Vec(sentences=result, size=100, window=5, min_count=5, workers=4, sg=0)"
      ],
      "metadata": {
        "colab": {
          "base_uri": "https://localhost:8080/"
        },
        "id": "5n3AFPVM0sJk",
        "outputId": "709f0875-acb9-42ad-c90d-663d414a91a7"
      },
      "execution_count": 28,
      "outputs": [
        {
          "output_type": "stream",
          "name": "stdout",
          "text": [
            "CPU times: user 45 s, sys: 382 ms, total: 45.4 s\n",
            "Wall time: 26.3 s\n"
          ]
        }
      ]
    },
    {
      "cell_type": "code",
      "source": [
        "# man과 자주 나오는 (similar) 단어 10개\n",
        "model_result = model.wv.most_similar(\"man\")\n",
        "print(model_result)"
      ],
      "metadata": {
        "colab": {
          "base_uri": "https://localhost:8080/"
        },
        "id": "Z-lmXjNR0_qN",
        "outputId": "b1f21e61-d532-4fd5-91bb-097ebb6ae0dd"
      },
      "execution_count": 29,
      "outputs": [
        {
          "output_type": "stream",
          "name": "stdout",
          "text": [
            "[('woman', 0.8606431484222412), ('guy', 0.8275223970413208), ('lady', 0.774814248085022), ('gentleman', 0.7504547834396362), ('boy', 0.742582380771637), ('girl', 0.7376614809036255), ('soldier', 0.7225612998008728), ('poet', 0.6793441772460938), ('kid', 0.6779018044471741), ('surgeon', 0.6757099628448486)]\n"
          ]
        }
      ]
    },
    {
      "cell_type": "code",
      "source": [
        "# man - boy + girl --> woman\n",
        "model.wv.most_similar(positive=['man', 'girl'], negative= ['boy'], topn=3)"
      ],
      "metadata": {
        "colab": {
          "base_uri": "https://localhost:8080/"
        },
        "id": "tCYkPTUs1kfN",
        "outputId": "698e0db6-5358-4e45-aa23-9a3f6489f333"
      },
      "execution_count": 30,
      "outputs": [
        {
          "output_type": "execute_result",
          "data": {
            "text/plain": [
              "[('woman', 0.840803325176239),\n",
              " ('guy', 0.7601884603500366),\n",
              " ('lady', 0.7216068506240845)]"
            ]
          },
          "metadata": {},
          "execution_count": 30
        }
      ]
    },
    {
      "cell_type": "markdown",
      "source": [
        "### 모델 저장하고 로드하기"
      ],
      "metadata": {
        "id": "C-TKMuwW2MDN"
      }
    },
    {
      "cell_type": "code",
      "source": [
        "model.wv.save_word2vec_format('eng_w2v') # 모델 저장"
      ],
      "metadata": {
        "id": "AQAGEc4p2mUl"
      },
      "execution_count": 34,
      "outputs": []
    },
    {
      "cell_type": "code",
      "source": [
        "!ls -l"
      ],
      "metadata": {
        "colab": {
          "base_uri": "https://localhost:8080/"
        },
        "id": "OnZpbNaU2zck",
        "outputId": "72323af1-9d23-41fa-ab6c-e1b037205a86"
      },
      "execution_count": 35,
      "outputs": [
        {
          "output_type": "stream",
          "name": "stdout",
          "text": [
            "total 97848\n",
            "-rw-r--r-- 1 root root 25656430 Jan 25 01:32 eng_w2v\n",
            "drwxr-xr-x 1 root root     4096 Jan  7 14:33 sample_data\n",
            "-rw-r--r-- 1 root root 74533638 Jan 25 01:08 ted_en-20160408.xml\n"
          ]
        }
      ]
    },
    {
      "cell_type": "code",
      "source": [
        "from gensim.models import KeyedVectors\n",
        "loaded_model = KeyedVectors.load_word2vec_format(\"eng_w2v\") # 모델 로드\n",
        "model_result = loaded_model.most_similar(\"man\")\n",
        "model_result"
      ],
      "metadata": {
        "colab": {
          "base_uri": "https://localhost:8080/"
        },
        "id": "WgPlbXQB22BN",
        "outputId": "55229d10-b2d5-47e3-bf79-77ac6aa6b890"
      },
      "execution_count": 37,
      "outputs": [
        {
          "output_type": "execute_result",
          "data": {
            "text/plain": [
              "[('woman', 0.8606431484222412),\n",
              " ('guy', 0.8275223970413208),\n",
              " ('lady', 0.774814248085022),\n",
              " ('gentleman', 0.7504547834396362),\n",
              " ('boy', 0.742582380771637),\n",
              " ('girl', 0.7376614809036255),\n",
              " ('soldier', 0.7225612998008728),\n",
              " ('poet', 0.6793441772460938),\n",
              " ('kid', 0.6779018044471741),\n",
              " ('surgeon', 0.6757099628448486)]"
            ]
          },
          "metadata": {},
          "execution_count": 37
        }
      ]
    },
    {
      "cell_type": "code",
      "source": [
        ""
      ],
      "metadata": {
        "id": "rZeNIYNv2_d-"
      },
      "execution_count": null,
      "outputs": []
    }
  ]
}