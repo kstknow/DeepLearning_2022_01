{
  "nbformat": 4,
  "nbformat_minor": 0,
  "metadata": {
    "colab": {
      "name": "51.IMDB_감성분석.ipynb",
      "provenance": []
    },
    "kernelspec": {
      "name": "python3",
      "display_name": "Python 3"
    },
    "language_info": {
      "name": "python"
    },
    "accelerator": "GPU"
  },
  "cells": [
    {
      "cell_type": "markdown",
      "source": [
        "# IMDB 영화 리뷰 감성분석 - LSTM"
      ],
      "metadata": {
        "id": "d1jydw4Y9w3R"
      }
    },
    {
      "cell_type": "code",
      "source": [
        "import numpy as np\n",
        "import seaborn as sns\n",
        "import matplotlib.pyplot as plt\n",
        "from tensorflow.keras.datasets import imdb\n",
        "import warnings\n",
        "warnings.filterwarnings('ignore')"
      ],
      "metadata": {
        "id": "GnZvLngv96Mo"
      },
      "execution_count": 1,
      "outputs": []
    },
    {
      "cell_type": "code",
      "source": [
        "(X_train, y_train), (X_test, y_test) = imdb.load_data()\n",
        "X_train.shape, X_test.shape, y_train.shape, y_test.shape"
      ],
      "metadata": {
        "colab": {
          "base_uri": "https://localhost:8080/"
        },
        "id": "vCPZZi41-NfL",
        "outputId": "5483180a-ba72-4316-bc83-13509ec1c9e2"
      },
      "execution_count": 2,
      "outputs": [
        {
          "output_type": "stream",
          "name": "stdout",
          "text": [
            "Downloading data from https://storage.googleapis.com/tensorflow/tf-keras-datasets/imdb.npz\n",
            "17465344/17464789 [==============================] - 0s 0us/step\n",
            "17473536/17464789 [==============================] - 0s 0us/step\n"
          ]
        },
        {
          "output_type": "execute_result",
          "data": {
            "text/plain": [
              "((25000,), (25000,), (25000,), (25000,))"
            ]
          },
          "metadata": {},
          "execution_count": 2
        }
      ]
    },
    {
      "cell_type": "markdown",
      "source": [
        "- 전부 다 25000개의 데이터셋을 가짐\n",
        "- 이러면 x_test를 10000건은 valid, 15000건은 test셋으로 분리\n",
        "- X_train = (25000,)"
      ],
      "metadata": {
        "id": "Pdgc_dff-njo"
      }
    },
    {
      "cell_type": "code",
      "source": [
        "print('등장한 단어수', len(imdb.get_word_index()))\n",
        "print('리뷰 최대 길이', max(len(s) for s in X_train))\n",
        "print('리뷰 평균 길이', sum(map(len, X_train)) / len(X_train))"
      ],
      "metadata": {
        "colab": {
          "base_uri": "https://localhost:8080/"
        },
        "id": "pT9ofc4u_KG-",
        "outputId": "28a58091-f90a-4a30-efb4-3675a52f42ab"
      },
      "execution_count": 3,
      "outputs": [
        {
          "output_type": "stream",
          "name": "stdout",
          "text": [
            "Downloading data from https://storage.googleapis.com/tensorflow/tf-keras-datasets/imdb_word_index.json\n",
            "1646592/1641221 [==============================] - 0s 0us/step\n",
            "1654784/1641221 [==============================] - 0s 0us/step\n",
            "등장한 단어수 88584\n",
            "리뷰 최대 길이 2494\n",
            "리뷰 평균 길이 238.71364\n"
          ]
        }
      ]
    },
    {
      "cell_type": "markdown",
      "source": [
        "### LSTM으로 IMDB 리뷰 감성 분석\n",
        "- 단어 빈도수 : 10,000개 ( 총 88,584)\n",
        "- 문장의 단어수 : 500( 최대 2,494)\n",
        "- test data 중 40%(10,000개)는 검증용으로 분리"
      ],
      "metadata": {
        "id": "GebAy28L_e8t"
      }
    },
    {
      "cell_type": "code",
      "source": [
        "import numpy as np\n",
        "import tensorflow as tf\n",
        "seed = 2022\n",
        "np.random.seed(seed)\n",
        "tf.random.set_seed(seed)"
      ],
      "metadata": {
        "id": "iHHF1uykAWVV"
      },
      "execution_count": 4,
      "outputs": []
    },
    {
      "cell_type": "code",
      "source": [
        "from tensorflow.keras.models import Sequential, load_model\n",
        "from tensorflow.keras.layers import Embedding, LSTM, Dense\n",
        "from tensorflow.keras.preprocessing.sequence import pad_sequences\n",
        "from tensorflow.keras.utils import to_categorical\n",
        "from tensorflow.keras.callbacks import ModelCheckpoint, EarlyStopping"
      ],
      "metadata": {
        "id": "C0_M6MUpAytp"
      },
      "execution_count": 5,
      "outputs": []
    },
    {
      "cell_type": "code",
      "source": [
        "(X_train, y_train), (X_test, y_test) = imdb.load_data(num_words = 10000)\n",
        "X_train.shape, X_test.shape, y_train.shape"
      ],
      "metadata": {
        "colab": {
          "base_uri": "https://localhost:8080/"
        },
        "id": "563UFtTyA8bk",
        "outputId": "370d497f-f70e-4b4e-a010-b6f4ea7d72fd"
      },
      "execution_count": 6,
      "outputs": [
        {
          "output_type": "execute_result",
          "data": {
            "text/plain": [
              "((25000,), (25000,), (25000,))"
            ]
          },
          "metadata": {},
          "execution_count": 6
        }
      ]
    },
    {
      "cell_type": "code",
      "source": [
        "max_len = 500\n",
        "X_train = pad_sequences(X_train, maxlen=max_len)\n",
        "X_test = pad_sequences(X_test, maxlen=max_len)\n",
        "X_train.shape, X_test.shape\n",
        "# 500으로 맞춰져 있다."
      ],
      "metadata": {
        "colab": {
          "base_uri": "https://localhost:8080/"
        },
        "id": "lnNHUIkcBHHN",
        "outputId": "548131ec-226d-4132-dd31-cbacbc3f4319"
      },
      "execution_count": 7,
      "outputs": [
        {
          "output_type": "execute_result",
          "data": {
            "text/plain": [
              "((25000, 500), (25000, 500))"
            ]
          },
          "metadata": {},
          "execution_count": 7
        }
      ]
    },
    {
      "cell_type": "code",
      "source": [
        "from sklearn.model_selection import train_test_split\n",
        "X_test, X_valid, y_test, y_valid = train_test_split(\n",
        "    X_test, y_test, stratify=y_test, test_size=0.4, random_state=seed\n",
        ")\n",
        "X_test.shape, X_valid.shape, y_test.shape, y_valid.shape"
      ],
      "metadata": {
        "colab": {
          "base_uri": "https://localhost:8080/"
        },
        "id": "gW6QrxGdDDZf",
        "outputId": "1b2677d1-7898-4957-b918-598584dc3dc4"
      },
      "execution_count": 8,
      "outputs": [
        {
          "output_type": "execute_result",
          "data": {
            "text/plain": [
              "((15000, 500), (10000, 500), (15000,), (10000,))"
            ]
          },
          "metadata": {},
          "execution_count": 8
        }
      ]
    },
    {
      "cell_type": "markdown",
      "source": [
        "- Case 1) LSTM\n",
        "    - embedding dim : 100\n",
        "    - hidden_units : 128\n",
        "    "
      ],
      "metadata": {
        "id": "Md8kUFIcBez8"
      }
    },
    {
      "cell_type": "code",
      "source": [
        "model1 = Sequential([ \n",
        "    Embedding(10000, 100, input_length=max_len),\n",
        "    LSTM(128),\n",
        "    Dense(1, activation='sigmoid')\n",
        "])\n",
        "model1.summary()"
      ],
      "metadata": {
        "colab": {
          "base_uri": "https://localhost:8080/"
        },
        "id": "0AE0cynyBxcN",
        "outputId": "a02bec5a-e253-408a-df60-26ffc265cc1d"
      },
      "execution_count": 9,
      "outputs": [
        {
          "output_type": "stream",
          "name": "stdout",
          "text": [
            "Model: \"sequential\"\n",
            "_________________________________________________________________\n",
            " Layer (type)                Output Shape              Param #   \n",
            "=================================================================\n",
            " embedding (Embedding)       (None, 500, 100)          1000000   \n",
            "                                                                 \n",
            " lstm (LSTM)                 (None, 128)               117248    \n",
            "                                                                 \n",
            " dense (Dense)               (None, 1)                 129       \n",
            "                                                                 \n",
            "=================================================================\n",
            "Total params: 1,117,377\n",
            "Trainable params: 1,117,377\n",
            "Non-trainable params: 0\n",
            "_________________________________________________________________\n"
          ]
        }
      ]
    },
    {
      "cell_type": "code",
      "source": [
        "model1.compile('adam', 'binary_crossentropy', ['accuracy'])\n",
        "\n",
        "model_path = 'best-imdb-lstm.h5'\n",
        "mc = ModelCheckpoint(model_path, save_best_only=True, verbose=1)\n",
        "es = EarlyStopping(patience=5)"
      ],
      "metadata": {
        "id": "tjgY1YVrCOxe"
      },
      "execution_count": 10,
      "outputs": []
    },
    {
      "cell_type": "code",
      "source": [
        "hist1 = model1.fit(\n",
        "    X_train, y_train, epochs=30, batch_size=64, \n",
        "    validation_data=[X_valid, y_valid],\n",
        "    callbacks=[mc,es]\n",
        ")"
      ],
      "metadata": {
        "colab": {
          "base_uri": "https://localhost:8080/"
        },
        "id": "aTAwKS9vCmo1",
        "outputId": "494bdaf9-5229-4c1a-8c1f-055ab5de161b"
      },
      "execution_count": 11,
      "outputs": [
        {
          "output_type": "stream",
          "name": "stdout",
          "text": [
            "Epoch 1/30\n",
            "391/391 [==============================] - ETA: 0s - loss: 0.5041 - accuracy: 0.7448\n",
            "Epoch 00001: val_loss improved from inf to 0.32594, saving model to best-imdb-lstm.h5\n",
            "391/391 [==============================] - 46s 102ms/step - loss: 0.5041 - accuracy: 0.7448 - val_loss: 0.3259 - val_accuracy: 0.8625\n",
            "Epoch 2/30\n",
            "391/391 [==============================] - ETA: 0s - loss: 0.2730 - accuracy: 0.8916\n",
            "Epoch 00002: val_loss did not improve from 0.32594\n",
            "391/391 [==============================] - 40s 101ms/step - loss: 0.2730 - accuracy: 0.8916 - val_loss: 0.3520 - val_accuracy: 0.8481\n",
            "Epoch 3/30\n",
            "391/391 [==============================] - ETA: 0s - loss: 0.1987 - accuracy: 0.9248\n",
            "Epoch 00003: val_loss did not improve from 0.32594\n",
            "391/391 [==============================] - 39s 101ms/step - loss: 0.1987 - accuracy: 0.9248 - val_loss: 0.3304 - val_accuracy: 0.8594\n",
            "Epoch 4/30\n",
            "391/391 [==============================] - ETA: 0s - loss: 0.2824 - accuracy: 0.8811\n",
            "Epoch 00004: val_loss did not improve from 0.32594\n",
            "391/391 [==============================] - 39s 99ms/step - loss: 0.2824 - accuracy: 0.8811 - val_loss: 0.5205 - val_accuracy: 0.7425\n",
            "Epoch 5/30\n",
            "391/391 [==============================] - ETA: 0s - loss: 0.2230 - accuracy: 0.9126\n",
            "Epoch 00005: val_loss did not improve from 0.32594\n",
            "391/391 [==============================] - 39s 100ms/step - loss: 0.2230 - accuracy: 0.9126 - val_loss: 0.3692 - val_accuracy: 0.8384\n",
            "Epoch 6/30\n",
            "391/391 [==============================] - ETA: 0s - loss: 0.1356 - accuracy: 0.9509\n",
            "Epoch 00006: val_loss did not improve from 0.32594\n",
            "391/391 [==============================] - 39s 99ms/step - loss: 0.1356 - accuracy: 0.9509 - val_loss: 0.3740 - val_accuracy: 0.8718\n"
          ]
        }
      ]
    },
    {
      "cell_type": "code",
      "source": [
        "best_model = load_model(model_path)\n",
        "best_model.evaluate(X_test, y_test)"
      ],
      "metadata": {
        "colab": {
          "base_uri": "https://localhost:8080/"
        },
        "id": "IZKeobKqD4dH",
        "outputId": "5d85a18f-c388-4d80-ec8f-a1624f611eb9"
      },
      "execution_count": 12,
      "outputs": [
        {
          "output_type": "stream",
          "name": "stdout",
          "text": [
            "469/469 [==============================] - 18s 37ms/step - loss: 0.3199 - accuracy: 0.8683\n"
          ]
        },
        {
          "output_type": "execute_result",
          "data": {
            "text/plain": [
              "[0.319904625415802, 0.8683333396911621]"
            ]
          },
          "metadata": {},
          "execution_count": 12
        }
      ]
    },
    {
      "cell_type": "code",
      "source": [
        ""
      ],
      "metadata": {
        "id": "wccqxIVBD-t-"
      },
      "execution_count": 12,
      "outputs": []
    }
  ]
}