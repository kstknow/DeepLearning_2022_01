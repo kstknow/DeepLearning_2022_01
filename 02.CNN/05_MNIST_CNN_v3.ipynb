{
  "nbformat": 4,
  "nbformat_minor": 0,
  "metadata": {
    "colab": {
      "name": "05_MNIST_CNN_v3.ipynb",
      "provenance": [],
      "collapsed_sections": []
    },
    "kernelspec": {
      "name": "python3",
      "display_name": "Python 3"
    },
    "language_info": {
      "name": "python"
    },
    "accelerator": "GPU"
  },
  "cells": [
    {
      "cell_type": "markdown",
      "source": [
        "# MNIST 손글씨 - CNN v3\n",
        "- 2 Conv2D layers\n",
        "- 1 MaxPooling2D layer\n",
        "- 1 DropOut(0.25) layer \n",
        "- 1 Fully Connected Network layer\n",
        "- 1 DropOut(0.5) layer \n",
        "- 1 output layer"
      ],
      "metadata": {
        "id": "2az8cOlpoUG9"
      }
    },
    {
      "cell_type": "code",
      "source": [
        "import numpy as np\n",
        "import pandas as pd\n",
        "import tensorflow as tf\n",
        "seed = 2022\n",
        "np.random.seed(seed)\n",
        "tf.random.set_seed(seed)"
      ],
      "metadata": {
        "id": "rMF2rX4JoXna"
      },
      "execution_count": 14,
      "outputs": []
    },
    {
      "cell_type": "markdown",
      "source": [
        "- 데이터 전처리"
      ],
      "metadata": {
        "id": "bN-Wrg_lojCk"
      }
    },
    {
      "cell_type": "code",
      "source": [
        "from tensorflow.keras.datasets import mnist\n",
        "(X_train, y_train), (X_test, y_test) = mnist.load_data()\n",
        "X_train.shape, y_train.shape, X_test.shape, y_test.shape"
      ],
      "metadata": {
        "id": "BsAQ13qRoyUb",
        "colab": {
          "base_uri": "https://localhost:8080/"
        },
        "outputId": "ce6f1178-a31d-4087-d03d-37cda8f598c7"
      },
      "execution_count": 15,
      "outputs": [
        {
          "output_type": "execute_result",
          "data": {
            "text/plain": [
              "((60000, 28, 28), (60000,), (10000, 28, 28), (10000,))"
            ]
          },
          "metadata": {},
          "execution_count": 15
        }
      ]
    },
    {
      "cell_type": "code",
      "source": [
        "# X data: 0~1 사이의 값,3차원 -->4차원\n",
        "# X data 전처리\n",
        "X_train = X_train.reshape(-1, 28,28,1) / 255.\n",
        "X_test = X_test.reshape(-1,28,28) / 255."
      ],
      "metadata": {
        "id": "VglFDbsbo8ch"
      },
      "execution_count": 16,
      "outputs": []
    },
    {
      "cell_type": "code",
      "source": [
        "# 다중분류에 해당되니깐 one- hot encoding\n",
        "from tensorflow.keras.utils import to_categorical\n",
        "Y_train = to_categorical(y_train)\n",
        "Y_test = to_categorical(y_test)\n",
        "Y_train.shape, Y_test.shape"
      ],
      "metadata": {
        "colab": {
          "base_uri": "https://localhost:8080/"
        },
        "id": "aAewhzGYp3Qf",
        "outputId": "04697415-457e-40c5-e5f2-7e5e5ecf6ca4"
      },
      "execution_count": 17,
      "outputs": [
        {
          "output_type": "execute_result",
          "data": {
            "text/plain": [
              "((60000, 10), (10000, 10))"
            ]
          },
          "metadata": {},
          "execution_count": 17
        }
      ]
    },
    {
      "cell_type": "markdown",
      "source": [
        "- 모델 정의, 학습, 설정, 평가"
      ],
      "metadata": {
        "id": "HAIgSSd7qBif"
      }
    },
    {
      "cell_type": "code",
      "source": [
        "from tensorflow.keras.models import Sequential, load_model\n",
        "from tensorflow.keras.layers import Dense, Conv2D, Flatten, MaxPooling2D\n",
        "from tensorflow.keras.layers import Dropout\n",
        "from tensorflow.keras.callbacks import ModelCheckpoint, EarlyStopping"
      ],
      "metadata": {
        "id": "Qrn8BC6pqKLT"
      },
      "execution_count": 18,
      "outputs": []
    },
    {
      "cell_type": "code",
      "source": [
        "model = Sequential([\n",
        "                    Conv2D(32, kernel_size =(3,3), input_shape =(28,28,1), activation= 'relu'),\n",
        "                    Conv2D(64, (3,3), activation= 'relu'),\n",
        "                    MaxPooling2D(), #MaxPooling2D(pool_size =(2,2))\n",
        "                    Dropout(0.25),\n",
        "                    Flatten(), # 1차원으로 바꿀려고\n",
        "                    Dense(512, activation= 'relu'),\n",
        "                    Dropout(0.5),\n",
        "                    Dense(10, activation= 'softmax'),\n",
        "])\n",
        "\n",
        "model.summary()"
      ],
      "metadata": {
        "colab": {
          "base_uri": "https://localhost:8080/"
        },
        "id": "wkGAZ4PjqoXk",
        "outputId": "8b492af2-e7cb-4ed6-b2de-7bc43571d509"
      },
      "execution_count": 19,
      "outputs": [
        {
          "output_type": "stream",
          "name": "stdout",
          "text": [
            "Model: \"sequential_1\"\n",
            "_________________________________________________________________\n",
            " Layer (type)                Output Shape              Param #   \n",
            "=================================================================\n",
            " conv2d_2 (Conv2D)           (None, 26, 26, 32)        320       \n",
            "                                                                 \n",
            " conv2d_3 (Conv2D)           (None, 24, 24, 64)        18496     \n",
            "                                                                 \n",
            " max_pooling2d_1 (MaxPooling  (None, 12, 12, 64)       0         \n",
            " 2D)                                                             \n",
            "                                                                 \n",
            " dropout_2 (Dropout)         (None, 12, 12, 64)        0         \n",
            "                                                                 \n",
            " flatten_1 (Flatten)         (None, 9216)              0         \n",
            "                                                                 \n",
            " dense_2 (Dense)             (None, 512)               4719104   \n",
            "                                                                 \n",
            " dropout_3 (Dropout)         (None, 512)               0         \n",
            "                                                                 \n",
            " dense_3 (Dense)             (None, 10)                5130      \n",
            "                                                                 \n",
            "=================================================================\n",
            "Total params: 4,743,050\n",
            "Trainable params: 4,743,050\n",
            "Non-trainable params: 0\n",
            "_________________________________________________________________\n"
          ]
        }
      ]
    },
    {
      "cell_type": "code",
      "source": [
        "model.compile(optimizer= 'adam', loss= 'categorical_crossentropy', metrics= ['accuracy'])"
      ],
      "metadata": {
        "id": "bKlDfp5trcrb"
      },
      "execution_count": 20,
      "outputs": []
    },
    {
      "cell_type": "code",
      "source": [
        "model_path = 'best-mnist-cnn-v3.h5'\n",
        "checkpoint = ModelCheckpoint(model_path, save_best_only = True, verbose=1) # 모니터는 디폴트값\n",
        "early_stop = EarlyStopping(patience=10)"
      ],
      "metadata": {
        "id": "lXOxOb4Usx8Q"
      },
      "execution_count": 21,
      "outputs": []
    },
    {
      "cell_type": "code",
      "source": [
        "hist = model.fit(X_train, Y_train, validation_split= 0.2,\n",
        "                 epochs =100, batch_size= 200, callbacks=[checkpoint, early_stop], verbose = 0)\n"
      ],
      "metadata": {
        "colab": {
          "base_uri": "https://localhost:8080/"
        },
        "id": "lY6R0eEetL0T",
        "outputId": "78f7ff78-1a35-4206-ffe9-7f6744e5339c"
      },
      "execution_count": 22,
      "outputs": [
        {
          "output_type": "stream",
          "name": "stdout",
          "text": [
            "\n",
            "Epoch 00001: val_loss improved from inf to 0.05618, saving model to best-mnist-cnn-v3.h5\n",
            "\n",
            "Epoch 00002: val_loss improved from 0.05618 to 0.04962, saving model to best-mnist-cnn-v3.h5\n",
            "\n",
            "Epoch 00003: val_loss improved from 0.04962 to 0.03972, saving model to best-mnist-cnn-v3.h5\n",
            "\n",
            "Epoch 00004: val_loss improved from 0.03972 to 0.03728, saving model to best-mnist-cnn-v3.h5\n",
            "\n",
            "Epoch 00005: val_loss did not improve from 0.03728\n",
            "\n",
            "Epoch 00006: val_loss improved from 0.03728 to 0.03609, saving model to best-mnist-cnn-v3.h5\n",
            "\n",
            "Epoch 00007: val_loss improved from 0.03609 to 0.03474, saving model to best-mnist-cnn-v3.h5\n",
            "\n",
            "Epoch 00008: val_loss did not improve from 0.03474\n",
            "\n",
            "Epoch 00009: val_loss did not improve from 0.03474\n",
            "\n",
            "Epoch 00010: val_loss did not improve from 0.03474\n",
            "\n",
            "Epoch 00011: val_loss did not improve from 0.03474\n",
            "\n",
            "Epoch 00012: val_loss did not improve from 0.03474\n",
            "\n",
            "Epoch 00013: val_loss improved from 0.03474 to 0.03473, saving model to best-mnist-cnn-v3.h5\n",
            "\n",
            "Epoch 00014: val_loss did not improve from 0.03473\n",
            "\n",
            "Epoch 00015: val_loss did not improve from 0.03473\n",
            "\n",
            "Epoch 00016: val_loss did not improve from 0.03473\n",
            "\n",
            "Epoch 00017: val_loss did not improve from 0.03473\n",
            "\n",
            "Epoch 00018: val_loss did not improve from 0.03473\n",
            "\n",
            "Epoch 00019: val_loss did not improve from 0.03473\n",
            "\n",
            "Epoch 00020: val_loss did not improve from 0.03473\n",
            "\n",
            "Epoch 00021: val_loss did not improve from 0.03473\n",
            "\n",
            "Epoch 00022: val_loss did not improve from 0.03473\n",
            "\n",
            "Epoch 00023: val_loss did not improve from 0.03473\n"
          ]
        }
      ]
    },
    {
      "cell_type": "code",
      "source": [
        "best_model = load_model(model_path)\n",
        "best_model.evaluate(X_test, Y_test)"
      ],
      "metadata": {
        "colab": {
          "base_uri": "https://localhost:8080/"
        },
        "id": "h_8Q21Rstjcq",
        "outputId": "45b1cb84-b689-415b-9d18-7b973ec34767"
      },
      "execution_count": 23,
      "outputs": [
        {
          "output_type": "stream",
          "name": "stdout",
          "text": [
            "313/313 [==============================] - 1s 3ms/step - loss: 0.0292 - accuracy: 0.9921\n"
          ]
        },
        {
          "output_type": "execute_result",
          "data": {
            "text/plain": [
              "[0.029222145676612854, 0.9921000003814697]"
            ]
          },
          "metadata": {},
          "execution_count": 23
        }
      ]
    },
    {
      "cell_type": "markdown",
      "source": [
        "- MNIST 정확도\n",
        "    1. 신경망 : 0.9810\n",
        "    2. SVM : 0.9837\n",
        "    3. CNN v1 : 0.9861\n",
        "    4. CNN v2 : 0.9905\n",
        "    5. CNN v3 : 0.9914"
      ],
      "metadata": {
        "id": "DhDSFNRcvddm"
      }
    },
    {
      "cell_type": "markdown",
      "source": [
        "- 훈련과정 시각화"
      ],
      "metadata": {
        "id": "m2-7kvND7u14"
      }
    },
    {
      "cell_type": "code",
      "source": [
        "y_acc = hist.history['accuracy']\n",
        "y_vloss = hist.history['val_loss']\n",
        "xs = np.arange(1, len(y_acc)+1)"
      ],
      "metadata": {
        "id": "hB_Iocbp8T1o"
      },
      "execution_count": 27,
      "outputs": []
    },
    {
      "cell_type": "code",
      "source": [
        "import matplotlib.pyplot as plt"
      ],
      "metadata": {
        "id": "FRKGpxrb8qwS"
      },
      "execution_count": 28,
      "outputs": []
    },
    {
      "cell_type": "code",
      "source": [
        "plt.figure(figsize=(12,8))\n",
        "plt.plot(xs, y_acc,'d-', ms = 3, label = 'train accuracy')\n",
        "plt.plot(xs, y_vloss,'d-', ms = 3, label = 'validation loss')\n",
        "plt.legend()\n",
        "plt.grid()\n",
        "plt.xlabel('Epoch')\n",
        "plt.show()\n"
      ],
      "metadata": {
        "colab": {
          "base_uri": "https://localhost:8080/",
          "height": 497
        },
        "id": "xoagWVTm8hMF",
        "outputId": "7113f136-73a4-4cac-84b7-38ad3621e52b"
      },
      "execution_count": 29,
      "outputs": [
        {
          "output_type": "display_data",
          "data": {
            "image/png": "[encoded data removed]",
            "text/plain": [
              "<Figure size 864x576 with 1 Axes>"
            ]
          },
          "metadata": {
            "needs_background": "light"
          }
        }
      ]
    },
    {
      "cell_type": "code",
      "source": [
        ""
      ],
      "metadata": {
        "id": "bLokSjIh8m5z"
      },
      "execution_count": null,
      "outputs": []
    }
  ]
}