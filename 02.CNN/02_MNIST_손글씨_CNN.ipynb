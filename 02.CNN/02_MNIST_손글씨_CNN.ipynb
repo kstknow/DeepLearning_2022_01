{
  "nbformat": 4,
  "nbformat_minor": 0,
  "metadata": {
    "colab": {
      "name": "Untitled2.ipynb",
      "provenance": []
    },
    "kernelspec": {
      "name": "python3",
      "display_name": "Python 3"
    },
    "language_info": {
      "name": "python"
    },
    "accelerator": "GPU"
  },
  "cells": [
    {
      "cell_type": "markdown",
      "source": [
        "# MNIST 손글씨 - CNN v1\n",
        "- 2 Conv2D layers\n",
        "- 1 Fully Connected Network layer\n",
        "- 1 output layer"
      ],
      "metadata": {
        "id": "2az8cOlpoUG9"
      }
    },
    {
      "cell_type": "code",
      "source": [
        "import numpy as np\n",
        "import pandas as pd\n",
        "import tensorflow as tf\n",
        "seed = 2022\n",
        "np.random.seed(seed)\n",
        "tf.random.set_seed(seed)"
      ],
      "metadata": {
        "id": "rMF2rX4JoXna"
      },
      "execution_count": 1,
      "outputs": []
    },
    {
      "cell_type": "markdown",
      "source": [
        "- 데이터 전처리"
      ],
      "metadata": {
        "id": "bN-Wrg_lojCk"
      }
    },
    {
      "cell_type": "code",
      "source": [
        "from tensorflow.keras.datasets import mnist\n",
        "(X_train, y_train), (X_test, y_test) = mnist.load_data()\n",
        "X_train.shape, y_train.shape, X_test.shape, y_test.shape"
      ],
      "metadata": {
        "id": "BsAQ13qRoyUb",
        "colab": {
          "base_uri": "https://localhost:8080/"
        },
        "outputId": "1de8c90d-01fb-4336-a66f-78e5a5a58050"
      },
      "execution_count": 2,
      "outputs": [
        {
          "output_type": "execute_result",
          "data": {
            "text/plain": [
              "((60000, 28, 28), (60000,), (10000, 28, 28), (10000,))"
            ]
          },
          "metadata": {},
          "execution_count": 2
        }
      ]
    },
    {
      "cell_type": "code",
      "source": [
        "# X data: 0~1 사이의 값,3차원 -->4차원\n",
        "# X data 전처리\n",
        "X_train = X_train.reshape(-1, 28,28,1) / 255.\n",
        "X_test = X_test.reshape(-1,28,28) / 255."
      ],
      "metadata": {
        "id": "VglFDbsbo8ch"
      },
      "execution_count": 3,
      "outputs": []
    },
    {
      "cell_type": "code",
      "source": [
        "# 다중분류에 해당되니깐 one- hot encoding\n",
        "from tensorflow.keras.utils import to_categorical\n",
        "Y_train = to_categorical(y_train)\n",
        "Y_test = to_categorical(y_test)\n",
        "Y_train.shape, Y_test.shape"
      ],
      "metadata": {
        "colab": {
          "base_uri": "https://localhost:8080/"
        },
        "id": "aAewhzGYp3Qf",
        "outputId": "25c87928-d4bd-4555-f204-ddab2d499df0"
      },
      "execution_count": 4,
      "outputs": [
        {
          "output_type": "execute_result",
          "data": {
            "text/plain": [
              "((60000, 10), (10000, 10))"
            ]
          },
          "metadata": {},
          "execution_count": 4
        }
      ]
    },
    {
      "cell_type": "markdown",
      "source": [
        "- 모델 정의, 학습, 설정, 평가"
      ],
      "metadata": {
        "id": "HAIgSSd7qBif"
      }
    },
    {
      "cell_type": "code",
      "source": [
        "from tensorflow.keras.models import Sequential, load_model\n",
        "from tensorflow.keras.layers import Dense, Conv2D, Flatten\n",
        "from tensorflow.keras.callbacks import ModelCheckpoint, EarlyStopping"
      ],
      "metadata": {
        "id": "Qrn8BC6pqKLT"
      },
      "execution_count": 5,
      "outputs": []
    },
    {
      "cell_type": "code",
      "source": [
        "model = Sequential([\n",
        "                    Conv2D(32, kernel_size =(3,3), input_shape =(28,28,1), activation= 'relu'),\n",
        "                    Conv2D(64, (3,3), activation= 'relu'),\n",
        "                    Flatten(), # 1차원으로 바꿀려고\n",
        "                    Dense(512, activation= 'relu'),\n",
        "                    Dense(10, activation= 'softmax'),\n",
        "])\n",
        "\n",
        "model.summary()"
      ],
      "metadata": {
        "colab": {
          "base_uri": "https://localhost:8080/"
        },
        "id": "wkGAZ4PjqoXk",
        "outputId": "88375124-687d-49dd-8566-4ebea0d68b7d"
      },
      "execution_count": 6,
      "outputs": [
        {
          "output_type": "stream",
          "name": "stdout",
          "text": [
            "Model: \"sequential\"\n",
            "_________________________________________________________________\n",
            " Layer (type)                Output Shape              Param #   \n",
            "=================================================================\n",
            " conv2d (Conv2D)             (None, 26, 26, 32)        320       \n",
            "                                                                 \n",
            " conv2d_1 (Conv2D)           (None, 24, 24, 64)        18496     \n",
            "                                                                 \n",
            " flatten (Flatten)           (None, 36864)             0         \n",
            "                                                                 \n",
            " dense (Dense)               (None, 512)               18874880  \n",
            "                                                                 \n",
            " dense_1 (Dense)             (None, 10)                5130      \n",
            "                                                                 \n",
            "=================================================================\n",
            "Total params: 18,898,826\n",
            "Trainable params: 18,898,826\n",
            "Non-trainable params: 0\n",
            "_________________________________________________________________\n"
          ]
        }
      ]
    },
    {
      "cell_type": "code",
      "source": [
        "model.compile(optimizer= 'adam', loss= 'categorical_crossentropy', metrics= ['accuracy'])"
      ],
      "metadata": {
        "id": "bKlDfp5trcrb"
      },
      "execution_count": 7,
      "outputs": []
    },
    {
      "cell_type": "code",
      "source": [
        "model_path = 'best-mnist-cnn-v1.h5'\n",
        "checkpoint = ModelCheckpoint(model_path, save_best_only = True, verbose=1) # 모니터는 디폴트값\n",
        "early_stop = EarlyStopping(patience=10)"
      ],
      "metadata": {
        "id": "lXOxOb4Usx8Q"
      },
      "execution_count": 8,
      "outputs": []
    },
    {
      "cell_type": "code",
      "source": [
        "hist = model.fit(X_train, Y_train, validation_split= 0.2,\n",
        "                 epochs =100, batch_size= 200, callbacks=[checkpoint, early_stop])\n"
      ],
      "metadata": {
        "colab": {
          "base_uri": "https://localhost:8080/"
        },
        "id": "lY6R0eEetL0T",
        "outputId": "21a806c2-36e3-43f4-eb11-2e96dc024cc2"
      },
      "execution_count": 11,
      "outputs": [
        {
          "output_type": "stream",
          "name": "stdout",
          "text": [
            "Epoch 1/100\n",
            "240/240 [==============================] - ETA: 0s - loss: 0.0043 - accuracy: 0.9986\n",
            "Epoch 00001: val_loss did not improve from 0.04883\n",
            "240/240 [==============================] - 14s 60ms/step - loss: 0.0043 - accuracy: 0.9986 - val_loss: 0.0600 - val_accuracy: 0.9879\n",
            "Epoch 2/100\n",
            "240/240 [==============================] - ETA: 0s - loss: 0.0040 - accuracy: 0.9988\n",
            "Epoch 00002: val_loss did not improve from 0.04883\n",
            "240/240 [==============================] - 14s 60ms/step - loss: 0.0040 - accuracy: 0.9988 - val_loss: 0.0549 - val_accuracy: 0.9901\n",
            "Epoch 3/100\n",
            "240/240 [==============================] - ETA: 0s - loss: 0.0023 - accuracy: 0.9993\n",
            "Epoch 00003: val_loss did not improve from 0.04883\n",
            "240/240 [==============================] - 14s 60ms/step - loss: 0.0023 - accuracy: 0.9993 - val_loss: 0.0658 - val_accuracy: 0.9880\n",
            "Epoch 4/100\n",
            "240/240 [==============================] - ETA: 0s - loss: 0.0038 - accuracy: 0.9987\n",
            "Epoch 00004: val_loss did not improve from 0.04883\n",
            "240/240 [==============================] - 14s 60ms/step - loss: 0.0038 - accuracy: 0.9987 - val_loss: 0.0742 - val_accuracy: 0.9858\n",
            "Epoch 5/100\n",
            "240/240 [==============================] - ETA: 0s - loss: 0.0032 - accuracy: 0.9991\n",
            "Epoch 00005: val_loss did not improve from 0.04883\n",
            "240/240 [==============================] - 15s 60ms/step - loss: 0.0032 - accuracy: 0.9991 - val_loss: 0.0568 - val_accuracy: 0.9887\n",
            "Epoch 6/100\n",
            "240/240 [==============================] - ETA: 0s - loss: 0.0034 - accuracy: 0.9989\n",
            "Epoch 00006: val_loss did not improve from 0.04883\n",
            "240/240 [==============================] - 14s 60ms/step - loss: 0.0034 - accuracy: 0.9989 - val_loss: 0.0704 - val_accuracy: 0.9854\n",
            "Epoch 7/100\n",
            "240/240 [==============================] - ETA: 0s - loss: 0.0020 - accuracy: 0.9994\n",
            "Epoch 00007: val_loss did not improve from 0.04883\n",
            "240/240 [==============================] - 14s 60ms/step - loss: 0.0020 - accuracy: 0.9994 - val_loss: 0.0603 - val_accuracy: 0.9877\n",
            "Epoch 8/100\n",
            "240/240 [==============================] - ETA: 0s - loss: 0.0035 - accuracy: 0.9990\n",
            "Epoch 00008: val_loss did not improve from 0.04883\n",
            "240/240 [==============================] - 15s 61ms/step - loss: 0.0035 - accuracy: 0.9990 - val_loss: 0.0678 - val_accuracy: 0.9867\n",
            "Epoch 9/100\n",
            "240/240 [==============================] - ETA: 0s - loss: 0.0016 - accuracy: 0.9995\n",
            "Epoch 00009: val_loss did not improve from 0.04883\n",
            "240/240 [==============================] - 14s 60ms/step - loss: 0.0016 - accuracy: 0.9995 - val_loss: 0.0920 - val_accuracy: 0.9862\n",
            "Epoch 10/100\n",
            "240/240 [==============================] - ETA: 0s - loss: 0.0043 - accuracy: 0.9988\n",
            "Epoch 00010: val_loss did not improve from 0.04883\n",
            "240/240 [==============================] - 14s 59ms/step - loss: 0.0043 - accuracy: 0.9988 - val_loss: 0.0555 - val_accuracy: 0.9892\n",
            "Epoch 11/100\n",
            "240/240 [==============================] - ETA: 0s - loss: 2.4371e-04 - accuracy: 1.0000\n",
            "Epoch 00011: val_loss did not improve from 0.04883\n",
            "240/240 [==============================] - 14s 60ms/step - loss: 2.4371e-04 - accuracy: 1.0000 - val_loss: 0.0554 - val_accuracy: 0.9908\n",
            "Epoch 12/100\n",
            "240/240 [==============================] - ETA: 0s - loss: 2.0031e-05 - accuracy: 1.0000\n",
            "Epoch 00012: val_loss did not improve from 0.04883\n",
            "240/240 [==============================] - 15s 61ms/step - loss: 2.0031e-05 - accuracy: 1.0000 - val_loss: 0.0568 - val_accuracy: 0.9905\n"
          ]
        }
      ]
    },
    {
      "cell_type": "code",
      "source": [
        "best_model = load_model(model_path)\n",
        "best_model.evaluate(X_test, Y_test)"
      ],
      "metadata": {
        "colab": {
          "base_uri": "https://localhost:8080/"
        },
        "id": "h_8Q21Rstjcq",
        "outputId": "700edd79-c089-4f0b-f3e6-ac3c56643be5"
      },
      "execution_count": 13,
      "outputs": [
        {
          "output_type": "stream",
          "name": "stdout",
          "text": [
            "313/313 [==============================] - 2s 7ms/step - loss: 0.0403 - accuracy: 0.9861\n"
          ]
        },
        {
          "output_type": "execute_result",
          "data": {
            "text/plain": [
              "[0.04025445878505707, 0.9861000180244446]"
            ]
          },
          "metadata": {},
          "execution_count": 13
        }
      ]
    },
    {
      "cell_type": "markdown",
      "source": [
        "- MNIST 정확도\n",
        "    1. 신경망 : 0.9810\n",
        "    2. SVM : 0.9837\n",
        "    3. CNN v1 : 0.9861"
      ],
      "metadata": {
        "id": "DhDSFNRcvddm"
      }
    }
  ]
}